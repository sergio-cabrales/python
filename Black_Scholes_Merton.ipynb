{
  "nbformat": 4,
  "nbformat_minor": 0,
  "metadata": {
    "colab": {
      "name": "Black-Scholes-Merton.ipynb",
      "provenance": [],
      "authorship_tag": "ABX9TyOWKCHypHhNss6TO3qr1eDD",
      "include_colab_link": true
    },
    "kernelspec": {
      "name": "python3",
      "display_name": "Python 3"
    }
  },
  "cells": [
    {
      "cell_type": "markdown",
      "metadata": {
        "id": "view-in-github",
        "colab_type": "text"
      },
      "source": [
        "<a href=\"https://colab.research.google.com/github/sergiocabrales/python/blob/main/Black_Scholes_Merton.ipynb\" target=\"_parent\"><img src=\"https://colab.research.google.com/assets/colab-badge.svg\" alt=\"Open In Colab\"/></a>"
      ]
    },
    {
      "cell_type": "code",
      "metadata": {
        "id": "bGaSb21br9lz"
      },
      "source": [
        "import math\n",
        "import numpy as np"
      ],
      "execution_count": null,
      "outputs": []
    },
    {
      "cell_type": "code",
      "metadata": {
        "id": "EQKZBi5gsOMD"
      },
      "source": [
        "S0 = 100.\n",
        "K = 105.\n",
        "T = 1.0\n",
        "r = 0.05\n",
        "sigma = 0.2"
      ],
      "execution_count": null,
      "outputs": []
    },
    {
      "cell_type": "code",
      "metadata": {
        "id": "fF2325xSsSwv"
      },
      "source": [
        " I = 100000"
      ],
      "execution_count": null,
      "outputs": []
    },
    {
      "cell_type": "code",
      "metadata": {
        "id": "0qaXXUFIsWr7"
      },
      "source": [
        "np.random.seed(1000)"
      ],
      "execution_count": null,
      "outputs": []
    },
    {
      "cell_type": "code",
      "metadata": {
        "id": "hmKf-wIIsZpK"
      },
      "source": [
        " z = np.random.standard_normal(I) "
      ],
      "execution_count": null,
      "outputs": []
    },
    {
      "cell_type": "code",
      "metadata": {
        "id": "5xy-2yWysb_J"
      },
      "source": [
        "ST = S0 * np.exp((r - sigma ** 2 / 2) * T + sigma * math.sqrt(T) * z)"
      ],
      "execution_count": null,
      "outputs": []
    },
    {
      "cell_type": "code",
      "metadata": {
        "id": "G2UMPkiusmaS"
      },
      "source": [
        "hT = np.maximum(ST - K, 0) "
      ],
      "execution_count": null,
      "outputs": []
    },
    {
      "cell_type": "code",
      "metadata": {
        "colab": {
          "base_uri": "https://localhost:8080/"
        },
        "id": "jGUaH1aGspPY",
        "outputId": "8af4172c-a106-4b91-8cb5-ba09776d8ed8"
      },
      "source": [
        "C0 = math.exp(-r * T) * np.mean(hT)\n",
        "C0"
      ],
      "execution_count": null,
      "outputs": [
        {
          "output_type": "execute_result",
          "data": {
            "text/plain": [
              "8.019103194705476"
            ]
          },
          "metadata": {
            "tags": []
          },
          "execution_count": 10
        }
      ]
    },
    {
      "cell_type": "code",
      "metadata": {
        "colab": {
          "base_uri": "https://localhost:8080/"
        },
        "id": "5KVOKc7tsx_w",
        "outputId": "15422994-ba5e-43f2-9e61-bf9b3f331307"
      },
      "source": [
        "print('Value of the European call option: {:5.3f}.'.format(C0))"
      ],
      "execution_count": null,
      "outputs": [
        {
          "output_type": "stream",
          "text": [
            "Value of the European call option: 8.019.\n"
          ],
          "name": "stdout"
        }
      ]
    }
  ]
}