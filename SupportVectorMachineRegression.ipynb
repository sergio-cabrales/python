{
  "nbformat": 4,
  "nbformat_minor": 0,
  "metadata": {
    "colab": {
      "name": "SupportVectorMachineRegression.ipynb",
      "provenance": [],
      "authorship_tag": "ABX9TyPW5xG+SMkOHhVsYxBVTm3e",
      "include_colab_link": true
    },
    "kernelspec": {
      "name": "python3",
      "display_name": "Python 3"
    },
    "language_info": {
      "name": "python"
    }
  },
  "cells": [
    {
      "cell_type": "markdown",
      "metadata": {
        "id": "view-in-github",
        "colab_type": "text"
      },
      "source": [
        "<a href=\"https://colab.research.google.com/github/sergiocabrales/python/blob/main/SupportVectorMachineRegression.ipynb\" target=\"_parent\"><img src=\"https://colab.research.google.com/assets/colab-badge.svg\" alt=\"Open In Colab\"/></a>"
      ]
    },
    {
      "cell_type": "code",
      "metadata": {
        "id": "gq0n0VntlU_v"
      },
      "source": [
        "#Description: This program predicts the price of FB stock for a specific day\n",
        "#             using the Machine Learning algorithm called \n",
        "#             Support Vector Regression (SVR) Model"
      ],
      "execution_count": null,
      "outputs": []
    },
    {
      "cell_type": "code",
      "metadata": {
        "id": "DHu3oYCKlXiE"
      },
      "source": [
        "#import the packages\n",
        "from sklearn.svm import SVR\n",
        "import numpy as np\n",
        "import pandas as pd\n",
        "import pandas_datareader as web\n",
        "import matplotlib.pyplot as plt\n",
        "plt.style.use('fivethirtyeight')"
      ],
      "execution_count": null,
      "outputs": []
    },
    {
      "cell_type": "code",
      "metadata": {
        "colab": {
          "base_uri": "https://localhost:8080/",
          "height": 436
        },
        "id": "l82H_GsQlfmv",
        "outputId": "11cc2be0-55b5-40f2-e573-c7aed9baab26"
      },
      "source": [
        "# Get the stock quote\n",
        "df = web.DataReader('AAPL', data_source='yahoo',start='2013-01-01', end='2021-03-30')\n",
        "df"
      ],
      "execution_count": null,
      "outputs": [
        {
          "output_type": "execute_result",
          "data": {
            "text/html": [
              "<div>\n",
              "<style scoped>\n",
              "    .dataframe tbody tr th:only-of-type {\n",
              "        vertical-align: middle;\n",
              "    }\n",
              "\n",
              "    .dataframe tbody tr th {\n",
              "        vertical-align: top;\n",
              "    }\n",
              "\n",
              "    .dataframe thead th {\n",
              "        text-align: right;\n",
              "    }\n",
              "</style>\n",
              "<table border=\"1\" class=\"dataframe\">\n",
              "  <thead>\n",
              "    <tr style=\"text-align: right;\">\n",
              "      <th></th>\n",
              "      <th>High</th>\n",
              "      <th>Low</th>\n",
              "      <th>Open</th>\n",
              "      <th>Close</th>\n",
              "      <th>Volume</th>\n",
              "      <th>Adj Close</th>\n",
              "    </tr>\n",
              "    <tr>\n",
              "      <th>Date</th>\n",
              "      <th></th>\n",
              "      <th></th>\n",
              "      <th></th>\n",
              "      <th></th>\n",
              "      <th></th>\n",
              "      <th></th>\n",
              "    </tr>\n",
              "  </thead>\n",
              "  <tbody>\n",
              "    <tr>\n",
              "      <th>2013-01-02</th>\n",
              "      <td>19.821428</td>\n",
              "      <td>19.343929</td>\n",
              "      <td>19.779285</td>\n",
              "      <td>19.608213</td>\n",
              "      <td>560518000.0</td>\n",
              "      <td>17.039789</td>\n",
              "    </tr>\n",
              "    <tr>\n",
              "      <th>2013-01-03</th>\n",
              "      <td>19.631071</td>\n",
              "      <td>19.321428</td>\n",
              "      <td>19.567142</td>\n",
              "      <td>19.360714</td>\n",
              "      <td>352965200.0</td>\n",
              "      <td>16.824715</td>\n",
              "    </tr>\n",
              "    <tr>\n",
              "      <th>2013-01-04</th>\n",
              "      <td>19.236786</td>\n",
              "      <td>18.779642</td>\n",
              "      <td>19.177500</td>\n",
              "      <td>18.821428</td>\n",
              "      <td>594333600.0</td>\n",
              "      <td>16.356062</td>\n",
              "    </tr>\n",
              "    <tr>\n",
              "      <th>2013-01-07</th>\n",
              "      <td>18.903570</td>\n",
              "      <td>18.400000</td>\n",
              "      <td>18.642857</td>\n",
              "      <td>18.710714</td>\n",
              "      <td>484156400.0</td>\n",
              "      <td>16.259851</td>\n",
              "    </tr>\n",
              "    <tr>\n",
              "      <th>2013-01-08</th>\n",
              "      <td>18.996071</td>\n",
              "      <td>18.616072</td>\n",
              "      <td>18.900356</td>\n",
              "      <td>18.761070</td>\n",
              "      <td>458707200.0</td>\n",
              "      <td>16.303608</td>\n",
              "    </tr>\n",
              "    <tr>\n",
              "      <th>...</th>\n",
              "      <td>...</td>\n",
              "      <td>...</td>\n",
              "      <td>...</td>\n",
              "      <td>...</td>\n",
              "      <td>...</td>\n",
              "      <td>...</td>\n",
              "    </tr>\n",
              "    <tr>\n",
              "      <th>2021-03-24</th>\n",
              "      <td>122.900002</td>\n",
              "      <td>120.070000</td>\n",
              "      <td>122.820000</td>\n",
              "      <td>120.089996</td>\n",
              "      <td>88530500.0</td>\n",
              "      <td>120.089996</td>\n",
              "    </tr>\n",
              "    <tr>\n",
              "      <th>2021-03-25</th>\n",
              "      <td>121.660004</td>\n",
              "      <td>119.000000</td>\n",
              "      <td>119.540001</td>\n",
              "      <td>120.589996</td>\n",
              "      <td>98844700.0</td>\n",
              "      <td>120.589996</td>\n",
              "    </tr>\n",
              "    <tr>\n",
              "      <th>2021-03-26</th>\n",
              "      <td>121.480003</td>\n",
              "      <td>118.919998</td>\n",
              "      <td>120.349998</td>\n",
              "      <td>121.209999</td>\n",
              "      <td>93958900.0</td>\n",
              "      <td>121.209999</td>\n",
              "    </tr>\n",
              "    <tr>\n",
              "      <th>2021-03-29</th>\n",
              "      <td>122.580002</td>\n",
              "      <td>120.730003</td>\n",
              "      <td>121.650002</td>\n",
              "      <td>121.389999</td>\n",
              "      <td>80819200.0</td>\n",
              "      <td>121.389999</td>\n",
              "    </tr>\n",
              "    <tr>\n",
              "      <th>2021-03-30</th>\n",
              "      <td>120.400002</td>\n",
              "      <td>118.860001</td>\n",
              "      <td>120.110001</td>\n",
              "      <td>119.900002</td>\n",
              "      <td>85671900.0</td>\n",
              "      <td>119.900002</td>\n",
              "    </tr>\n",
              "  </tbody>\n",
              "</table>\n",
              "<p>2075 rows × 6 columns</p>\n",
              "</div>"
            ],
            "text/plain": [
              "                  High         Low  ...       Volume   Adj Close\n",
              "Date                                ...                         \n",
              "2013-01-02   19.821428   19.343929  ...  560518000.0   17.039789\n",
              "2013-01-03   19.631071   19.321428  ...  352965200.0   16.824715\n",
              "2013-01-04   19.236786   18.779642  ...  594333600.0   16.356062\n",
              "2013-01-07   18.903570   18.400000  ...  484156400.0   16.259851\n",
              "2013-01-08   18.996071   18.616072  ...  458707200.0   16.303608\n",
              "...                ...         ...  ...          ...         ...\n",
              "2021-03-24  122.900002  120.070000  ...   88530500.0  120.089996\n",
              "2021-03-25  121.660004  119.000000  ...   98844700.0  120.589996\n",
              "2021-03-26  121.480003  118.919998  ...   93958900.0  121.209999\n",
              "2021-03-29  122.580002  120.730003  ...   80819200.0  121.389999\n",
              "2021-03-30  120.400002  118.860001  ...   85671900.0  119.900002\n",
              "\n",
              "[2075 rows x 6 columns]"
            ]
          },
          "metadata": {
            "tags": []
          },
          "execution_count": 15
        }
      ]
    },
    {
      "cell_type": "code",
      "metadata": {
        "colab": {
          "base_uri": "https://localhost:8080/",
          "height": 406
        },
        "id": "Y7c7KlxgqPnm",
        "outputId": "842be907-5d2e-43b6-c0b8-8fcddf5c1bf8"
      },
      "source": [
        "#Reset index\n",
        "df = df.reset_index()\n",
        "df"
      ],
      "execution_count": null,
      "outputs": [
        {
          "output_type": "execute_result",
          "data": {
            "text/html": [
              "<div>\n",
              "<style scoped>\n",
              "    .dataframe tbody tr th:only-of-type {\n",
              "        vertical-align: middle;\n",
              "    }\n",
              "\n",
              "    .dataframe tbody tr th {\n",
              "        vertical-align: top;\n",
              "    }\n",
              "\n",
              "    .dataframe thead th {\n",
              "        text-align: right;\n",
              "    }\n",
              "</style>\n",
              "<table border=\"1\" class=\"dataframe\">\n",
              "  <thead>\n",
              "    <tr style=\"text-align: right;\">\n",
              "      <th></th>\n",
              "      <th>Date</th>\n",
              "      <th>High</th>\n",
              "      <th>Low</th>\n",
              "      <th>Open</th>\n",
              "      <th>Close</th>\n",
              "      <th>Volume</th>\n",
              "      <th>Adj Close</th>\n",
              "    </tr>\n",
              "  </thead>\n",
              "  <tbody>\n",
              "    <tr>\n",
              "      <th>0</th>\n",
              "      <td>2013-01-02</td>\n",
              "      <td>19.821428</td>\n",
              "      <td>19.343929</td>\n",
              "      <td>19.779285</td>\n",
              "      <td>19.608213</td>\n",
              "      <td>560518000.0</td>\n",
              "      <td>17.039789</td>\n",
              "    </tr>\n",
              "    <tr>\n",
              "      <th>1</th>\n",
              "      <td>2013-01-03</td>\n",
              "      <td>19.631071</td>\n",
              "      <td>19.321428</td>\n",
              "      <td>19.567142</td>\n",
              "      <td>19.360714</td>\n",
              "      <td>352965200.0</td>\n",
              "      <td>16.824715</td>\n",
              "    </tr>\n",
              "    <tr>\n",
              "      <th>2</th>\n",
              "      <td>2013-01-04</td>\n",
              "      <td>19.236786</td>\n",
              "      <td>18.779642</td>\n",
              "      <td>19.177500</td>\n",
              "      <td>18.821428</td>\n",
              "      <td>594333600.0</td>\n",
              "      <td>16.356062</td>\n",
              "    </tr>\n",
              "    <tr>\n",
              "      <th>3</th>\n",
              "      <td>2013-01-07</td>\n",
              "      <td>18.903570</td>\n",
              "      <td>18.400000</td>\n",
              "      <td>18.642857</td>\n",
              "      <td>18.710714</td>\n",
              "      <td>484156400.0</td>\n",
              "      <td>16.259851</td>\n",
              "    </tr>\n",
              "    <tr>\n",
              "      <th>4</th>\n",
              "      <td>2013-01-08</td>\n",
              "      <td>18.996071</td>\n",
              "      <td>18.616072</td>\n",
              "      <td>18.900356</td>\n",
              "      <td>18.761070</td>\n",
              "      <td>458707200.0</td>\n",
              "      <td>16.303608</td>\n",
              "    </tr>\n",
              "    <tr>\n",
              "      <th>...</th>\n",
              "      <td>...</td>\n",
              "      <td>...</td>\n",
              "      <td>...</td>\n",
              "      <td>...</td>\n",
              "      <td>...</td>\n",
              "      <td>...</td>\n",
              "      <td>...</td>\n",
              "    </tr>\n",
              "    <tr>\n",
              "      <th>2070</th>\n",
              "      <td>2021-03-24</td>\n",
              "      <td>122.900002</td>\n",
              "      <td>120.070000</td>\n",
              "      <td>122.820000</td>\n",
              "      <td>120.089996</td>\n",
              "      <td>88530500.0</td>\n",
              "      <td>120.089996</td>\n",
              "    </tr>\n",
              "    <tr>\n",
              "      <th>2071</th>\n",
              "      <td>2021-03-25</td>\n",
              "      <td>121.660004</td>\n",
              "      <td>119.000000</td>\n",
              "      <td>119.540001</td>\n",
              "      <td>120.589996</td>\n",
              "      <td>98844700.0</td>\n",
              "      <td>120.589996</td>\n",
              "    </tr>\n",
              "    <tr>\n",
              "      <th>2072</th>\n",
              "      <td>2021-03-26</td>\n",
              "      <td>121.480003</td>\n",
              "      <td>118.919998</td>\n",
              "      <td>120.349998</td>\n",
              "      <td>121.209999</td>\n",
              "      <td>93958900.0</td>\n",
              "      <td>121.209999</td>\n",
              "    </tr>\n",
              "    <tr>\n",
              "      <th>2073</th>\n",
              "      <td>2021-03-29</td>\n",
              "      <td>122.580002</td>\n",
              "      <td>120.730003</td>\n",
              "      <td>121.650002</td>\n",
              "      <td>121.389999</td>\n",
              "      <td>80819200.0</td>\n",
              "      <td>121.389999</td>\n",
              "    </tr>\n",
              "    <tr>\n",
              "      <th>2074</th>\n",
              "      <td>2021-03-30</td>\n",
              "      <td>120.400002</td>\n",
              "      <td>118.860001</td>\n",
              "      <td>120.110001</td>\n",
              "      <td>119.900002</td>\n",
              "      <td>85671900.0</td>\n",
              "      <td>119.900002</td>\n",
              "    </tr>\n",
              "  </tbody>\n",
              "</table>\n",
              "<p>2075 rows × 7 columns</p>\n",
              "</div>"
            ],
            "text/plain": [
              "           Date        High         Low  ...       Close       Volume   Adj Close\n",
              "0    2013-01-02   19.821428   19.343929  ...   19.608213  560518000.0   17.039789\n",
              "1    2013-01-03   19.631071   19.321428  ...   19.360714  352965200.0   16.824715\n",
              "2    2013-01-04   19.236786   18.779642  ...   18.821428  594333600.0   16.356062\n",
              "3    2013-01-07   18.903570   18.400000  ...   18.710714  484156400.0   16.259851\n",
              "4    2013-01-08   18.996071   18.616072  ...   18.761070  458707200.0   16.303608\n",
              "...         ...         ...         ...  ...         ...          ...         ...\n",
              "2070 2021-03-24  122.900002  120.070000  ...  120.089996   88530500.0  120.089996\n",
              "2071 2021-03-25  121.660004  119.000000  ...  120.589996   98844700.0  120.589996\n",
              "2072 2021-03-26  121.480003  118.919998  ...  121.209999   93958900.0  121.209999\n",
              "2073 2021-03-29  122.580002  120.730003  ...  121.389999   80819200.0  121.389999\n",
              "2074 2021-03-30  120.400002  118.860001  ...  119.900002   85671900.0  119.900002\n",
              "\n",
              "[2075 rows x 7 columns]"
            ]
          },
          "metadata": {
            "tags": []
          },
          "execution_count": 16
        }
      ]
    },
    {
      "cell_type": "code",
      "metadata": {
        "colab": {
          "base_uri": "https://localhost:8080/",
          "height": 77
        },
        "id": "_ubBKvgJl1yP",
        "outputId": "a51160d8-b571-4148-ad40-c01b3b753174"
      },
      "source": [
        "#Print the last row of data (this will be the data that we test on)\n",
        "actual_price = df.tail(1)\n",
        "actual_price"
      ],
      "execution_count": null,
      "outputs": [
        {
          "output_type": "execute_result",
          "data": {
            "text/html": [
              "<div>\n",
              "<style scoped>\n",
              "    .dataframe tbody tr th:only-of-type {\n",
              "        vertical-align: middle;\n",
              "    }\n",
              "\n",
              "    .dataframe tbody tr th {\n",
              "        vertical-align: top;\n",
              "    }\n",
              "\n",
              "    .dataframe thead th {\n",
              "        text-align: right;\n",
              "    }\n",
              "</style>\n",
              "<table border=\"1\" class=\"dataframe\">\n",
              "  <thead>\n",
              "    <tr style=\"text-align: right;\">\n",
              "      <th></th>\n",
              "      <th>Date</th>\n",
              "      <th>High</th>\n",
              "      <th>Low</th>\n",
              "      <th>Open</th>\n",
              "      <th>Close</th>\n",
              "      <th>Volume</th>\n",
              "      <th>Adj Close</th>\n",
              "    </tr>\n",
              "  </thead>\n",
              "  <tbody>\n",
              "    <tr>\n",
              "      <th>2074</th>\n",
              "      <td>2021-03-30</td>\n",
              "      <td>120.400002</td>\n",
              "      <td>118.860001</td>\n",
              "      <td>120.110001</td>\n",
              "      <td>119.900002</td>\n",
              "      <td>85671900.0</td>\n",
              "      <td>119.900002</td>\n",
              "    </tr>\n",
              "  </tbody>\n",
              "</table>\n",
              "</div>"
            ],
            "text/plain": [
              "           Date        High         Low  ...       Close      Volume   Adj Close\n",
              "2074 2021-03-30  120.400002  118.860001  ...  119.900002  85671900.0  119.900002\n",
              "\n",
              "[1 rows x 7 columns]"
            ]
          },
          "metadata": {
            "tags": []
          },
          "execution_count": 17
        }
      ]
    },
    {
      "cell_type": "code",
      "metadata": {
        "colab": {
          "base_uri": "https://localhost:8080/"
        },
        "id": "JEHFZLo9mkmo",
        "outputId": "5f83a1bc-2820-48ae-880a-669f671c994e"
      },
      "source": [
        "#Get all of the data except for the last row\n",
        "df = df.head(len(df)-1)\n",
        "print(df)\n",
        "print(df.shape)"
      ],
      "execution_count": null,
      "outputs": [
        {
          "output_type": "stream",
          "text": [
            "           Date        High         Low  ...       Close       Volume   Adj Close\n",
            "0    2013-01-02   19.821428   19.343929  ...   19.608213  560518000.0   17.039789\n",
            "1    2013-01-03   19.631071   19.321428  ...   19.360714  352965200.0   16.824715\n",
            "2    2013-01-04   19.236786   18.779642  ...   18.821428  594333600.0   16.356062\n",
            "3    2013-01-07   18.903570   18.400000  ...   18.710714  484156400.0   16.259851\n",
            "4    2013-01-08   18.996071   18.616072  ...   18.761070  458707200.0   16.303608\n",
            "...         ...         ...         ...  ...         ...          ...         ...\n",
            "2069 2021-03-23  124.239998  122.139999  ...  122.540001   95467100.0  122.540001\n",
            "2070 2021-03-24  122.900002  120.070000  ...  120.089996   88530500.0  120.089996\n",
            "2071 2021-03-25  121.660004  119.000000  ...  120.589996   98844700.0  120.589996\n",
            "2072 2021-03-26  121.480003  118.919998  ...  121.209999   93958900.0  121.209999\n",
            "2073 2021-03-29  122.580002  120.730003  ...  121.389999   80819200.0  121.389999\n",
            "\n",
            "[2074 rows x 7 columns]\n",
            "(2074, 7)\n"
          ],
          "name": "stdout"
        }
      ]
    },
    {
      "cell_type": "code",
      "metadata": {
        "id": "0hX3rmUQmr0p"
      },
      "source": [
        "#Create the lists / X and y data set\n",
        "days = list()\n",
        "adj_close_prices = list()"
      ],
      "execution_count": null,
      "outputs": []
    },
    {
      "cell_type": "code",
      "metadata": {
        "id": "fMHaVOGDmwAL"
      },
      "source": [
        "df_days = df.loc[:,'Date']\n",
        "df_adj_close = df.loc[:,'Adj Close']"
      ],
      "execution_count": null,
      "outputs": []
    },
    {
      "cell_type": "code",
      "metadata": {
        "id": "_gMsEPGPn22m"
      },
      "source": [
        "#Create the independent data set 'X' as days\n",
        "for day in df_days:\n",
        "   days.append([day.day])\n",
        "#Create the dependent data set 'y' as prices\n",
        "for adj_close_price in df_adj_close:\n",
        "   adj_close_prices.append(float(adj_close_price))"
      ],
      "execution_count": null,
      "outputs": []
    },
    {
      "cell_type": "code",
      "metadata": {
        "colab": {
          "base_uri": "https://localhost:8080/"
        },
        "id": "o7kgcE7vn7ih",
        "outputId": "b04115ca-025d-4933-9004-b8104f9c98b1"
      },
      "source": [
        "print(days)"
      ],
      "execution_count": null,
      "outputs": [
        {
          "output_type": "stream",
          "text": [
            "[[2], [3], [4], [7], [8], [9], [10], [11], [14], [15], [16], [17], [18], [22], [23], [24], [25], [28], [29], [30], [31], [1], [4], [5], [6], [7], [8], [11], [12], [13], [14], [15], [19], [20], [21], [22], [25], [26], [27], [28], [1], [4], [5], [6], [7], [8], [11], [12], [13], [14], [15], [18], [19], [20], [21], [22], [25], [26], [27], [28], [1], [2], [3], [4], [5], [8], [9], [10], [11], [12], [15], [16], [17], [18], [19], [22], [23], [24], [25], [26], [29], [30], [1], [2], [3], [6], [7], [8], [9], [10], [13], [14], [15], [16], [17], [20], [21], [22], [23], [24], [28], [29], [30], [31], [3], [4], [5], [6], [7], [10], [11], [12], [13], [14], [17], [18], [19], [20], [21], [24], [25], [26], [27], [28], [1], [2], [3], [5], [8], [9], [10], [11], [12], [15], [16], [17], [18], [19], [22], [23], [24], [25], [26], [29], [30], [31], [1], [2], [5], [6], [7], [8], [9], [12], [13], [14], [15], [16], [19], [20], [21], [22], [23], [26], [27], [28], [29], [30], [3], [4], [5], [6], [9], [10], [11], [12], [13], [16], [17], [18], [19], [20], [23], [24], [25], [26], [27], [30], [1], [2], [3], [4], [7], [8], [9], [10], [11], [14], [15], [16], [17], [18], [21], [22], [23], [24], [25], [28], [29], [30], [31], [1], [4], [5], [6], [7], [8], [11], [12], [13], [14], [15], [18], [19], [20], [21], [22], [25], [26], [27], [29], [2], [3], [4], [5], [6], [9], [10], [11], [12], [13], [16], [17], [18], [19], [20], [23], [24], [26], [27], [30], [31], [2], [3], [6], [7], [8], [9], [10], [13], [14], [15], [16], [17], [21], [22], [23], [24], [27], [28], [29], [30], [31], [3], [4], [5], [6], [7], [10], [11], [12], [13], [14], [18], [19], [20], [21], [24], [25], [26], [27], [28], [3], [4], [5], [6], [7], [10], [11], [12], [13], [14], [17], [18], [19], [20], [21], [24], [25], [26], [27], [28], [31], [1], [2], [3], [4], [7], [8], [9], [10], [11], [14], [15], [16], [17], [21], [22], [23], [24], [25], [28], [29], [30], [1], [2], [5], [6], [7], [8], [9], [12], [13], [14], [15], [16], [19], [20], [21], [22], [23], [27], [28], [29], [30], [2], [3], [4], [5], [6], [9], [10], [11], [12], [13], [16], [17], [18], [19], [20], [23], [24], [25], [26], [27], [30], [1], [2], [3], [7], [8], [9], [10], [11], [14], [15], [16], [17], [18], [21], [22], [23], [24], [25], [28], [29], [30], [31], [1], [4], [5], [6], [7], [8], [11], [12], [13], [14], [15], [18], [19], [20], [21], [22], [25], [26], [27], [28], [29], [2], [3], [4], [5], [8], [9], [10], [11], [12], [15], [16], [17], [18], [19], [22], [23], [24], [25], [26], [29], [30], [1], [2], [3], [6], [7], [8], [9], [10], [13], [14], [15], [16], [17], [20], [21], [22], [23], [24], [27], [28], [29], [30], [31], [3], [4], [5], [6], [7], [10], [11], [12], [13], [14], [17], [18], [19], [20], [21], [24], [25], [26], [28], [1], [2], [3], [4], [5], [8], [9], [10], [11], [12], [15], [16], [17], [18], [19], [22], [23], [24], [26], [29], [30], [31], [2], [5], [6], [7], [8], [9], [12], [13], [14], [15], [16], [20], [21], [22], [23], [26], [27], [28], [29], [30], [2], [3], [4], [5], [6], [9], [10], [11], [12], [13], [17], [18], [19], [20], [23], [24], [25], [26], [27], [2], [3], [4], [5], [6], [9], [10], [11], [12], [13], [16], [17], [18], [19], [20], [23], [24], [25], [26], [27], [30], [31], [1], [2], [6], [7], [8], [9], [10], [13], [14], [15], [16], [17], [20], [21], [22], [23], [24], [27], [28], [29], [30], [1], [4], [5], [6], [7], [8], [11], [12], [13], [14], [15], [18], [19], [20], [21], [22], [26], [27], [28], [29], [1], [2], [3], [4], [5], [8], [9], [10], [11], [12], [15], [16], [17], [18], [19], [22], [23], [24], [25], [26], [29], [30], [1], [2], [6], [7], [8], [9], [10], [13], [14], [15], [16], [17], [20], [21], [22], [23], [24], [27], [28], [29], [30], [31], [3], [4], [5], [6], [7], [10], [11], [12], [13], [14], [17], [18], [19], [20], [21], [24], [25], [26], [27], [28], [31], [1], [2], [3], [4], [8], [9], [10], [11], [14], [15], [16], [17], [18], [21], [22], [23], [24], [25], [28], [29], [30], [1], [2], [5], [6], [7], [8], [9], [12], [13], [14], [15], [16], [19], [20], [21], [22], [23], [26], [27], [28], [29], [30], [2], [3], [4], [5], [6], [9], [10], [11], [12], [13], [16], [17], [18], [19], [20], [23], [24], [25], [27], [30], [1], [2], [3], [4], [7], [8], [9], [10], [11], [14], [15], [16], [17], [18], [21], [22], [23], [24], [28], [29], [30], [31], [4], [5], [6], [7], [8], [11], [12], [13], [14], [15], [19], [20], [21], [22], [25], [26], [27], [28], [29], [1], [2], [3], [4], [5], [8], [9], [10], [11], [12], [16], [17], [18], [19], [22], [23], [24], [25], [26], [29], [1], [2], [3], [4], [7], [8], [9], [10], [11], [14], [15], [16], [17], [18], [21], [22], [23], [24], [28], [29], [30], [31], [1], [4], [5], [6], [7], [8], [11], [12], [13], [14], [15], [18], [19], [20], [21], [22], [25], [26], [27], [28], [29], [2], [3], [4], [5], [6], [9], [10], [11], [12], [13], [16], [17], [18], [19], [20], [23], [24], [25], [26], [27], [31], [1], [2], [3], [6], [7], [8], [9], [10], [13], [14], [15], [16], [17], [20], [21], [22], [23], [24], [27], [28], [29], [30], [1], [5], [6], [7], [8], [11], [12], [13], [14], [15], [18], [19], [20], [21], [22], [25], [26], [27], [28], [29], [1], [2], [3], [4], [5], [8], [9], [10], [11], [12], [15], [16], [17], [18], [19], [22], [23], [24], [25], [26], [29], [30], [31], [1], [2], [6], [7], [8], [9], [12], [13], [14], [15], [16], [19], [20], [21], [22], [23], [26], [27], [28], [29], [30], [3], [4], [5], [6], [7], [10], [11], [12], [13], [14], [17], [18], [19], [20], [21], [24], [25], [26], [27], [28], [31], [1], [2], [3], [4], [7], [8], [9], [10], [11], [14], [15], [16], [17], [18], [21], [22], [23], [25], [28], [29], [30], [1], [2], [5], [6], [7], [8], [9], [12], [13], [14], [15], [16], [19], [20], [21], [22], [23], [27], [28], [29], [30], [3], [4], [5], [6], [9], [10], [11], [12], [13], [17], [18], [19], [20], [23], [24], [25], [26], [27], [30], [31], [1], [2], [3], [6], [7], [8], [9], [10], [13], [14], [15], [16], [17], [21], [22], [23], [24], [27], [28], [1], [2], [3], [6], [7], [8], [9], [10], [13], [14], [15], [16], [17], [20], [21], [22], [23], [24], [27], [28], [29], [30], [31], [3], [4], [5], [6], [7], [10], [11], [12], [13], [17], [18], [19], [20], [21], [24], [25], [26], [27], [28], [1], [2], [3], [4], [5], [8], [9], [10], [11], [12], [15], [16], [17], [18], [19], [22], [23], [24], [25], [26], [30], [31], [1], [2], [5], [6], [7], [8], [9], [12], [13], [14], [15], [16], [19], [20], [21], [22], [23], [26], [27], [28], [29], [30], [3], [5], [6], [7], [10], [11], [12], [13], [14], [17], [18], [19], [20], [21], [24], [25], [26], [27], [28], [31], [1], [2], [3], [4], [7], [8], [9], [10], [11], [14], [15], [16], [17], [18], [21], [22], [23], [24], [25], [28], [29], [30], [31], [1], [5], [6], [7], [8], [11], [12], [13], [14], [15], [18], [19], [20], [21], [22], [25], [26], [27], [28], [29], [2], [3], [4], [5], [6], [9], [10], [11], [12], [13], [16], [17], [18], [19], [20], [23], [24], [25], [26], [27], [30], [31], [1], [2], [3], [6], [7], [8], [9], [10], [13], [14], [15], [16], [17], [20], [21], [22], [24], [27], [28], [29], [30], [1], [4], [5], [6], [7], [8], [11], [12], [13], [14], [15], [18], [19], [20], [21], [22], [26], [27], [28], [29], [2], [3], [4], [5], [8], [9], [10], [11], [12], [16], [17], [18], [19], [22], [23], [24], [25], [26], [29], [30], [31], [1], [2], [5], [6], [7], [8], [9], [12], [13], [14], [15], [16], [20], [21], [22], [23], [26], [27], [28], [1], [2], [5], [6], [7], [8], [9], [12], [13], [14], [15], [16], [19], [20], [21], [22], [23], [26], [27], [28], [29], [2], [3], [4], [5], [6], [9], [10], [11], [12], [13], [16], [17], [18], [19], [20], [23], [24], [25], [26], [27], [30], [1], [2], [3], [4], [7], [8], [9], [10], [11], [14], [15], [16], [17], [18], [21], [22], [23], [24], [25], [29], [30], [31], [1], [4], [5], [6], [7], [8], [11], [12], [13], [14], [15], [18], [19], [20], [21], [22], [25], [26], [27], [28], [29], [2], [3], [5], [6], [9], [10], [11], [12], [13], [16], [17], [18], [19], [20], [23], [24], [25], [26], [27], [30], [31], [1], [2], [3], [6], [7], [8], [9], [10], [13], [14], [15], [16], [17], [20], [21], [22], [23], [24], [27], [28], [29], [30], [31], [4], [5], [6], [7], [10], [11], [12], [13], [14], [17], [18], [19], [20], [21], [24], [25], [26], [27], [28], [1], [2], [3], [4], [5], [8], [9], [10], [11], [12], [15], [16], [17], [18], [19], [22], [23], [24], [25], [26], [29], [30], [31], [1], [2], [5], [6], [7], [8], [9], [12], [13], [14], [15], [16], [19], [20], [21], [23], [26], [27], [28], [29], [30], [3], [4], [6], [7], [10], [11], [12], [13], [14], [17], [18], [19], [20], [21], [24], [26], [27], [28], [31], [2], [3], [4], [7], [8], [9], [10], [11], [14], [15], [16], [17], [18], [22], [23], [24], [25], [28], [29], [30], [31], [1], [4], [5], [6], [7], [8], [11], [12], [13], [14], [15], [19], [20], [21], [22], [25], [26], [27], [28], [1], [4], [5], [6], [7], [8], [11], [12], [13], [14], [15], [18], [19], [20], [21], [22], [25], [26], [27], [28], [29], [1], [2], [3], [4], [5], [8], [9], [10], [11], [12], [15], [16], [17], [18], [22], [23], [24], [25], [26], [29], [30], [1], [2], [3], [6], [7], [8], [9], [10], [13], [14], [15], [16], [17], [20], [21], [22], [23], [24], [28], [29], [30], [31], [3], [4], [5], [6], [7], [10], [11], [12], [13], [14], [17], [18], [19], [20], [21], [24], [25], [26], [27], [28], [1], [2], [3], [5], [8], [9], [10], [11], [12], [15], [16], [17], [18], [19], [22], [23], [24], [25], [26], [29], [30], [31], [1], [2], [5], [6], [7], [8], [9], [12], [13], [14], [15], [16], [19], [20], [21], [22], [23], [26], [27], [28], [29], [30], [3], [4], [5], [6], [9], [10], [11], [12], [13], [16], [17], [18], [19], [20], [23], [24], [25], [26], [27], [30], [1], [2], [3], [4], [7], [8], [9], [10], [11], [14], [15], [16], [17], [18], [21], [22], [23], [24], [25], [28], [29], [30], [31], [1], [4], [5], [6], [7], [8], [11], [12], [13], [14], [15], [18], [19], [20], [21], [22], [25], [26], [27], [29], [2], [3], [4], [5], [6], [9], [10], [11], [12], [13], [16], [17], [18], [19], [20], [23], [24], [26], [27], [30], [31], [2], [3], [6], [7], [8], [9], [10], [13], [14], [15], [16], [17], [21], [22], [23], [24], [27], [28], [29], [30], [31], [3], [4], [5], [6], [7], [10], [11], [12], [13], [14], [18], [19], [20], [21], [24], [25], [26], [27], [28], [2], [3], [4], [5], [6], [9], [10], [11], [12], [13], [16], [17], [18], [19], [20], [23], [24], [25], [26], [27], [30], [31], [1], [2], [3], [6], [7], [8], [9], [13], [14], [15], [16], [17], [20], [21], [22], [23], [24], [27], [28], [29], [30], [1], [4], [5], [6], [7], [8], [11], [12], [13], [14], [15], [18], [19], [20], [21], [22], [26], [27], [28], [29], [1], [2], [3], [4], [5], [8], [9], [10], [11], [12], [15], [16], [17], [18], [19], [22], [23], [24], [25], [26], [29], [30], [1], [2], [6], [7], [8], [9], [10], [13], [14], [15], [16], [17], [20], [21], [22], [23], [24], [27], [28], [29], [30], [31], [3], [4], [5], [6], [7], [10], [11], [12], [13], [14], [17], [18], [19], [20], [21], [24], [25], [26], [27], [28], [31], [1], [2], [3], [4], [8], [9], [10], [11], [14], [15], [16], [17], [18], [21], [22], [23], [24], [25], [28], [29], [30], [1], [2], [5], [6], [7], [8], [9], [12], [13], [14], [15], [16], [19], [20], [21], [22], [23], [26], [27], [28], [29], [30], [2], [3], [4], [5], [6], [9], [10], [11], [12], [13], [16], [17], [18], [19], [20], [23], [24], [25], [27], [30], [1], [2], [3], [4], [7], [8], [9], [10], [11], [14], [15], [16], [17], [18], [21], [22], [23], [24], [28], [29], [30], [31], [4], [5], [6], [7], [8], [11], [12], [13], [14], [15], [19], [20], [21], [22], [25], [26], [27], [28], [29], [1], [2], [3], [4], [5], [8], [9], [10], [11], [12], [16], [17], [18], [19], [22], [23], [24], [25], [26], [1], [2], [3], [4], [5], [8], [9], [10], [11], [12], [15], [16], [17], [18], [19], [22], [23], [24], [25], [26], [29]]\n"
          ],
          "name": "stdout"
        }
      ]
    },
    {
      "cell_type": "code",
      "metadata": {
        "colab": {
          "base_uri": "https://localhost:8080/"
        },
        "id": "ugYP2SyvoBID",
        "outputId": "bbd582a0-20af-4045-9b1e-20c956cf4797"
      },
      "source": [
        "#Create and train an SVR model using a linear kernel\n",
        "lin_svr = SVR(kernel='linear', C=1000.0)\n",
        "lin_svr.fit(days,adj_close_prices)\n",
        "#Create and train an SVR model using a polynomial kernel\n",
        "poly_svr = SVR(kernel='poly', C=1000.0, degree=2)\n",
        "poly_svr.fit(days, adj_close_prices)\n",
        "#Create and train an SVR model using a RBF kernel\n",
        "rbf_svr = SVR(kernel='rbf', C=1000.0, gamma=0.15)\n",
        "rbf_svr.fit(days, adj_close_prices)"
      ],
      "execution_count": null,
      "outputs": [
        {
          "output_type": "execute_result",
          "data": {
            "text/plain": [
              "SVR(C=1000.0, cache_size=200, coef0=0.0, degree=3, epsilon=0.1, gamma=0.15,\n",
              "    kernel='rbf', max_iter=-1, shrinking=True, tol=0.001, verbose=False)"
            ]
          },
          "metadata": {
            "tags": []
          },
          "execution_count": 24
        }
      ]
    },
    {
      "cell_type": "code",
      "metadata": {
        "colab": {
          "base_uri": "https://localhost:8080/",
          "height": 557
        },
        "id": "ez-FYycQoDQw",
        "outputId": "692a56d9-f277-42b2-a24f-d7928071a46e"
      },
      "source": [
        "#Plot the models on a graph to see which has the best fit\n",
        "plt.figure(figsize=(16,8))\n",
        "plt.scatter(days, adj_close_prices, color = 'black', label='Data')\n",
        "plt.plot(days, rbf_svr.predict(days), color = 'green', label='RBF Model')\n",
        "plt.plot(days, poly_svr.predict(days), color = 'orange', label='Polynomial Model')\n",
        "plt.plot(days, lin_svr.predict(days), color = 'blue', label='Linear Model')\n",
        "plt.xlabel('Days')\n",
        "plt.ylabel('Adj Close Price')\n",
        "plt.title('Support Vector Regression')\n",
        "plt.legend()\n",
        "plt.show()"
      ],
      "execution_count": null,
      "outputs": [
        {
          "output_type": "display_data",
          "data": {
            "image/png": "[encoded data removed]",
            "text/plain": [
              "<Figure size 1152x576 with 1 Axes>"
            ]
          },
          "metadata": {
            "tags": []
          }
        }
      ]
    },
    {
      "cell_type": "code",
      "metadata": {
        "colab": {
          "base_uri": "https://localhost:8080/"
        },
        "id": "T1SwN-ExoKWt",
        "outputId": "4d90e8e8-ebda-4e1d-cf48-22e22fa05851"
      },
      "source": [
        "day = [[31]]\n",
        "print('The RBF SVR predicted price:',rbf_svr.predict(day))\n",
        "print('The linear SVR predicted price',lin_svr.predict(day))\n",
        "print('The polynomial SVR predicted price',poly_svr.predict(day))"
      ],
      "execution_count": null,
      "outputs": [
        {
          "output_type": "stream",
          "text": [
            "The RBF SVR predicted price: [34.21059551]\n",
            "The linear SVR predicted price [33.26552287]\n",
            "The polynomial SVR predicted price [33.55351566]\n"
          ],
          "name": "stdout"
        }
      ]
    }
  ]
}