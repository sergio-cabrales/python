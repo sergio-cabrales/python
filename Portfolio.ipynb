{
  "nbformat": 4,
  "nbformat_minor": 0,
  "metadata": {
    "colab": {
      "name": "Portfolio.ipynb",
      "provenance": [],
      "authorship_tag": "ABX9TyNCm6Y8dVzX9fE0LxixLpRX",
      "include_colab_link": true
    },
    "kernelspec": {
      "name": "python3",
      "display_name": "Python 3"
    }
  },
  "cells": [
    {
      "cell_type": "markdown",
      "metadata": {
        "id": "view-in-github",
        "colab_type": "text"
      },
      "source": [
        "<a href=\"https://colab.research.google.com/github/sergio-cabrales/python/blob/main/Portfolio.ipynb\" target=\"_parent\"><img src=\"https://colab.research.google.com/assets/colab-badge.svg\" alt=\"Open In Colab\"/></a>"
      ]
    },
    {
      "cell_type": "code",
      "metadata": {
        "id": "03xslwENVMCp"
      },
      "source": [
        "#Description: This program optimizes a stock portfolio\r\n"
      ],
      "execution_count": 1,
      "outputs": []
    },
    {
      "cell_type": "code",
      "metadata": {
        "id": "Emd08haOOnoe"
      },
      "source": [
        "#Import libraries\r\n",
        "import pandas as pd \r\n",
        "import numpy as np\r\n",
        "import requests\r\n",
        "import time\r\n",
        "import pandas_datareader as web\r\n",
        "import matplotlib.pyplot as plt"
      ],
      "execution_count": 79,
      "outputs": []
    },
    {
      "cell_type": "code",
      "metadata": {
        "id": "vJRBCuktOp_V"
      },
      "source": [
        "df = pd.DataFrame()\r\n",
        "tickers = ['AAPL','MSFT','AMZN','GOOG','FB','TSLA','V','PG','DIS','BAC','XOM','BABA','GE','AMD','WMT','T','RRC','BBY','MA','PFE','JPM','SBUX']\r\n",
        "for symbol in tickers:\r\n",
        "  df[symbol] = web.DataReader(symbol, data_source = \"yahoo\", start = \"2015-01-01\", end = \"2021-03-01\")['Adj Close']\r\n",
        "  time.sleep(1)"
      ],
      "execution_count": 88,
      "outputs": []
    },
    {
      "cell_type": "code",
      "metadata": {
        "colab": {
          "base_uri": "https://localhost:8080/",
          "height": 450
        },
        "id": "EHjy6vt-gCD0",
        "outputId": "b6c00de5-cdd0-4b64-9bc1-f0761fc9b2e2"
      },
      "source": [
        "df"
      ],
      "execution_count": 89,
      "outputs": [
        {
          "output_type": "execute_result",
          "data": {
            "text/html": [
              "<div>\n",
              "<style scoped>\n",
              "    .dataframe tbody tr th:only-of-type {\n",
              "        vertical-align: middle;\n",
              "    }\n",
              "\n",
              "    .dataframe tbody tr th {\n",
              "        vertical-align: top;\n",
              "    }\n",
              "\n",
              "    .dataframe thead th {\n",
              "        text-align: right;\n",
              "    }\n",
              "</style>\n",
              "<table border=\"1\" class=\"dataframe\">\n",
              "  <thead>\n",
              "    <tr style=\"text-align: right;\">\n",
              "      <th></th>\n",
              "      <th>AAPL</th>\n",
              "      <th>MSFT</th>\n",
              "      <th>AMZN</th>\n",
              "      <th>GOOG</th>\n",
              "      <th>FB</th>\n",
              "      <th>TSLA</th>\n",
              "      <th>V</th>\n",
              "      <th>PG</th>\n",
              "      <th>DIS</th>\n",
              "      <th>BAC</th>\n",
              "      <th>XOM</th>\n",
              "      <th>BABA</th>\n",
              "      <th>GE</th>\n",
              "      <th>AMD</th>\n",
              "      <th>WMT</th>\n",
              "      <th>T</th>\n",
              "      <th>RRC</th>\n",
              "      <th>BBY</th>\n",
              "      <th>MA</th>\n",
              "      <th>PFE</th>\n",
              "      <th>JPM</th>\n",
              "      <th>SBUX</th>\n",
              "    </tr>\n",
              "    <tr>\n",
              "      <th>Date</th>\n",
              "      <th></th>\n",
              "      <th></th>\n",
              "      <th></th>\n",
              "      <th></th>\n",
              "      <th></th>\n",
              "      <th></th>\n",
              "      <th></th>\n",
              "      <th></th>\n",
              "      <th></th>\n",
              "      <th></th>\n",
              "      <th></th>\n",
              "      <th></th>\n",
              "      <th></th>\n",
              "      <th></th>\n",
              "      <th></th>\n",
              "      <th></th>\n",
              "      <th></th>\n",
              "      <th></th>\n",
              "      <th></th>\n",
              "      <th></th>\n",
              "      <th></th>\n",
              "      <th></th>\n",
              "    </tr>\n",
              "  </thead>\n",
              "  <tbody>\n",
              "    <tr>\n",
              "      <th>2015-01-02</th>\n",
              "      <td>24.861401</td>\n",
              "      <td>41.443684</td>\n",
              "      <td>308.519989</td>\n",
              "      <td>523.373108</td>\n",
              "      <td>78.449997</td>\n",
              "      <td>43.862000</td>\n",
              "      <td>63.507534</td>\n",
              "      <td>74.930771</td>\n",
              "      <td>87.376266</td>\n",
              "      <td>15.947729</td>\n",
              "      <td>69.679512</td>\n",
              "      <td>103.599998</td>\n",
              "      <td>21.038706</td>\n",
              "      <td>2.670000</td>\n",
              "      <td>74.555740</td>\n",
              "      <td>23.715950</td>\n",
              "      <td>53.773563</td>\n",
              "      <td>32.133629</td>\n",
              "      <td>82.301964</td>\n",
              "      <td>23.594526</td>\n",
              "      <td>52.815960</td>\n",
              "      <td>36.396847</td>\n",
              "    </tr>\n",
              "    <tr>\n",
              "      <th>2015-01-05</th>\n",
              "      <td>24.161013</td>\n",
              "      <td>41.062580</td>\n",
              "      <td>302.190002</td>\n",
              "      <td>512.463013</td>\n",
              "      <td>77.190002</td>\n",
              "      <td>42.018002</td>\n",
              "      <td>62.105679</td>\n",
              "      <td>74.574486</td>\n",
              "      <td>86.099403</td>\n",
              "      <td>15.484441</td>\n",
              "      <td>67.772957</td>\n",
              "      <td>101.000000</td>\n",
              "      <td>20.652521</td>\n",
              "      <td>2.660000</td>\n",
              "      <td>74.338768</td>\n",
              "      <td>23.491886</td>\n",
              "      <td>50.434555</td>\n",
              "      <td>31.305229</td>\n",
              "      <td>79.986954</td>\n",
              "      <td>23.466497</td>\n",
              "      <td>51.176285</td>\n",
              "      <td>35.699646</td>\n",
              "    </tr>\n",
              "    <tr>\n",
              "      <th>2015-01-06</th>\n",
              "      <td>24.163294</td>\n",
              "      <td>40.459892</td>\n",
              "      <td>295.290009</td>\n",
              "      <td>500.585632</td>\n",
              "      <td>76.150002</td>\n",
              "      <td>42.256001</td>\n",
              "      <td>61.705475</td>\n",
              "      <td>74.234802</td>\n",
              "      <td>85.642708</td>\n",
              "      <td>15.021159</td>\n",
              "      <td>67.412659</td>\n",
              "      <td>103.320000</td>\n",
              "      <td>20.207563</td>\n",
              "      <td>2.630000</td>\n",
              "      <td>74.911591</td>\n",
              "      <td>23.526897</td>\n",
              "      <td>49.104778</td>\n",
              "      <td>31.023579</td>\n",
              "      <td>79.814072</td>\n",
              "      <td>23.662304</td>\n",
              "      <td>49.849342</td>\n",
              "      <td>35.409153</td>\n",
              "    </tr>\n",
              "    <tr>\n",
              "      <th>2015-01-07</th>\n",
              "      <td>24.502111</td>\n",
              "      <td>40.973934</td>\n",
              "      <td>298.420013</td>\n",
              "      <td>499.727997</td>\n",
              "      <td>76.150002</td>\n",
              "      <td>42.189999</td>\n",
              "      <td>62.532223</td>\n",
              "      <td>74.624222</td>\n",
              "      <td>86.518814</td>\n",
              "      <td>15.092433</td>\n",
              "      <td>68.095718</td>\n",
              "      <td>102.129997</td>\n",
              "      <td>20.215967</td>\n",
              "      <td>2.580000</td>\n",
              "      <td>76.899170</td>\n",
              "      <td>23.555304</td>\n",
              "      <td>47.677929</td>\n",
              "      <td>31.918240</td>\n",
              "      <td>81.055603</td>\n",
              "      <td>23.986134</td>\n",
              "      <td>49.925396</td>\n",
              "      <td>36.280643</td>\n",
              "    </tr>\n",
              "    <tr>\n",
              "      <th>2015-01-08</th>\n",
              "      <td>25.443539</td>\n",
              "      <td>42.179317</td>\n",
              "      <td>300.459991</td>\n",
              "      <td>501.303680</td>\n",
              "      <td>78.180000</td>\n",
              "      <td>42.124001</td>\n",
              "      <td>63.370945</td>\n",
              "      <td>75.477577</td>\n",
              "      <td>87.413536</td>\n",
              "      <td>15.404262</td>\n",
              "      <td>69.229149</td>\n",
              "      <td>105.029999</td>\n",
              "      <td>20.459427</td>\n",
              "      <td>2.610000</td>\n",
              "      <td>78.522209</td>\n",
              "      <td>23.789650</td>\n",
              "      <td>48.580620</td>\n",
              "      <td>32.398716</td>\n",
              "      <td>82.316399</td>\n",
              "      <td>24.475653</td>\n",
              "      <td>51.041042</td>\n",
              "      <td>36.866104</td>\n",
              "    </tr>\n",
              "    <tr>\n",
              "      <th>...</th>\n",
              "      <td>...</td>\n",
              "      <td>...</td>\n",
              "      <td>...</td>\n",
              "      <td>...</td>\n",
              "      <td>...</td>\n",
              "      <td>...</td>\n",
              "      <td>...</td>\n",
              "      <td>...</td>\n",
              "      <td>...</td>\n",
              "      <td>...</td>\n",
              "      <td>...</td>\n",
              "      <td>...</td>\n",
              "      <td>...</td>\n",
              "      <td>...</td>\n",
              "      <td>...</td>\n",
              "      <td>...</td>\n",
              "      <td>...</td>\n",
              "      <td>...</td>\n",
              "      <td>...</td>\n",
              "      <td>...</td>\n",
              "      <td>...</td>\n",
              "      <td>...</td>\n",
              "    </tr>\n",
              "    <tr>\n",
              "      <th>2021-02-23</th>\n",
              "      <td>125.860001</td>\n",
              "      <td>233.270004</td>\n",
              "      <td>3194.500000</td>\n",
              "      <td>2070.860107</td>\n",
              "      <td>265.859985</td>\n",
              "      <td>698.840027</td>\n",
              "      <td>212.110001</td>\n",
              "      <td>127.519997</td>\n",
              "      <td>197.089996</td>\n",
              "      <td>35.344448</td>\n",
              "      <td>55.049999</td>\n",
              "      <td>252.750000</td>\n",
              "      <td>12.580723</td>\n",
              "      <td>84.739998</td>\n",
              "      <td>135.470001</td>\n",
              "      <td>29.180000</td>\n",
              "      <td>10.430000</td>\n",
              "      <td>115.500000</td>\n",
              "      <td>350.420013</td>\n",
              "      <td>33.910000</td>\n",
              "      <td>150.610001</td>\n",
              "      <td>101.370003</td>\n",
              "    </tr>\n",
              "    <tr>\n",
              "      <th>2021-02-24</th>\n",
              "      <td>125.349998</td>\n",
              "      <td>234.550003</td>\n",
              "      <td>3159.530029</td>\n",
              "      <td>2095.169922</td>\n",
              "      <td>264.309998</td>\n",
              "      <td>742.020020</td>\n",
              "      <td>219.429993</td>\n",
              "      <td>127.660004</td>\n",
              "      <td>197.509995</td>\n",
              "      <td>36.200199</td>\n",
              "      <td>56.700001</td>\n",
              "      <td>250.339996</td>\n",
              "      <td>13.110332</td>\n",
              "      <td>86.940002</td>\n",
              "      <td>133.210007</td>\n",
              "      <td>29.379999</td>\n",
              "      <td>10.690000</td>\n",
              "      <td>113.459999</td>\n",
              "      <td>367.320007</td>\n",
              "      <td>33.750000</td>\n",
              "      <td>153.259995</td>\n",
              "      <td>104.379997</td>\n",
              "    </tr>\n",
              "    <tr>\n",
              "      <th>2021-02-25</th>\n",
              "      <td>120.989998</td>\n",
              "      <td>228.990005</td>\n",
              "      <td>3057.159912</td>\n",
              "      <td>2031.359985</td>\n",
              "      <td>254.690002</td>\n",
              "      <td>682.219971</td>\n",
              "      <td>213.750000</td>\n",
              "      <td>126.580002</td>\n",
              "      <td>190.979996</td>\n",
              "      <td>35.752422</td>\n",
              "      <td>55.759998</td>\n",
              "      <td>240.179993</td>\n",
              "      <td>12.750598</td>\n",
              "      <td>82.419998</td>\n",
              "      <td>131.949997</td>\n",
              "      <td>28.629999</td>\n",
              "      <td>10.250000</td>\n",
              "      <td>102.940002</td>\n",
              "      <td>354.570007</td>\n",
              "      <td>33.820000</td>\n",
              "      <td>151.179993</td>\n",
              "      <td>103.470001</td>\n",
              "    </tr>\n",
              "    <tr>\n",
              "      <th>2021-02-26</th>\n",
              "      <td>121.260002</td>\n",
              "      <td>232.380005</td>\n",
              "      <td>3092.929932</td>\n",
              "      <td>2036.859985</td>\n",
              "      <td>257.619995</td>\n",
              "      <td>675.500000</td>\n",
              "      <td>212.389999</td>\n",
              "      <td>123.529999</td>\n",
              "      <td>189.039993</td>\n",
              "      <td>34.538448</td>\n",
              "      <td>54.369999</td>\n",
              "      <td>237.759995</td>\n",
              "      <td>12.530759</td>\n",
              "      <td>84.510002</td>\n",
              "      <td>129.919998</td>\n",
              "      <td>27.889999</td>\n",
              "      <td>9.640000</td>\n",
              "      <td>100.349998</td>\n",
              "      <td>353.850006</td>\n",
              "      <td>33.490002</td>\n",
              "      <td>147.169998</td>\n",
              "      <td>108.029999</td>\n",
              "    </tr>\n",
              "    <tr>\n",
              "      <th>2021-03-01</th>\n",
              "      <td>127.790001</td>\n",
              "      <td>236.940002</td>\n",
              "      <td>3146.139893</td>\n",
              "      <td>2081.510010</td>\n",
              "      <td>264.910004</td>\n",
              "      <td>718.429993</td>\n",
              "      <td>216.630005</td>\n",
              "      <td>124.290001</td>\n",
              "      <td>194.979996</td>\n",
              "      <td>35.613113</td>\n",
              "      <td>56.400002</td>\n",
              "      <td>241.690002</td>\n",
              "      <td>13.100339</td>\n",
              "      <td>86.389999</td>\n",
              "      <td>131.369995</td>\n",
              "      <td>28.090000</td>\n",
              "      <td>10.030000</td>\n",
              "      <td>101.690002</td>\n",
              "      <td>362.899994</td>\n",
              "      <td>33.689999</td>\n",
              "      <td>150.500000</td>\n",
              "      <td>106.870003</td>\n",
              "    </tr>\n",
              "  </tbody>\n",
              "</table>\n",
              "<p>1550 rows × 22 columns</p>\n",
              "</div>"
            ],
            "text/plain": [
              "                  AAPL        MSFT  ...         JPM        SBUX\n",
              "Date                                ...                        \n",
              "2015-01-02   24.861401   41.443684  ...   52.815960   36.396847\n",
              "2015-01-05   24.161013   41.062580  ...   51.176285   35.699646\n",
              "2015-01-06   24.163294   40.459892  ...   49.849342   35.409153\n",
              "2015-01-07   24.502111   40.973934  ...   49.925396   36.280643\n",
              "2015-01-08   25.443539   42.179317  ...   51.041042   36.866104\n",
              "...                ...         ...  ...         ...         ...\n",
              "2021-02-23  125.860001  233.270004  ...  150.610001  101.370003\n",
              "2021-02-24  125.349998  234.550003  ...  153.259995  104.379997\n",
              "2021-02-25  120.989998  228.990005  ...  151.179993  103.470001\n",
              "2021-02-26  121.260002  232.380005  ...  147.169998  108.029999\n",
              "2021-03-01  127.790001  236.940002  ...  150.500000  106.870003\n",
              "\n",
              "[1550 rows x 22 columns]"
            ]
          },
          "metadata": {
            "tags": []
          },
          "execution_count": 89
        }
      ]
    },
    {
      "cell_type": "code",
      "metadata": {
        "colab": {
          "base_uri": "https://localhost:8080/"
        },
        "id": "cwmWQ7Eoqurd",
        "outputId": "39c662fb-3392-4f7e-cbaf-e79f4ea33b8d"
      },
      "source": [
        "assets = df.columns\r\n",
        "assets"
      ],
      "execution_count": 90,
      "outputs": [
        {
          "output_type": "execute_result",
          "data": {
            "text/plain": [
              "Index(['AAPL', 'MSFT', 'AMZN', 'GOOG', 'FB', 'TSLA', 'V', 'PG', 'DIS', 'BAC',\n",
              "       'XOM', 'BABA', 'GE', 'AMD', 'WMT', 'T', 'RRC', 'BBY', 'MA', 'PFE',\n",
              "       'JPM', 'SBUX'],\n",
              "      dtype='object')"
            ]
          },
          "metadata": {
            "tags": []
          },
          "execution_count": 90
        }
      ]
    },
    {
      "cell_type": "code",
      "metadata": {
        "colab": {
          "base_uri": "https://localhost:8080/"
        },
        "id": "Zvz_v5uQbrCb",
        "outputId": "cbc89b2c-ba9b-425f-ceb4-91af651a1838"
      },
      "source": [
        "pip install PyPortfolioOpt"
      ],
      "execution_count": 68,
      "outputs": [
        {
          "output_type": "stream",
          "text": [
            "Requirement already satisfied: PyPortfolioOpt in /usr/local/lib/python3.7/dist-packages (1.4.1)\n",
            "Requirement already satisfied: scipy<2.0,>=1.3 in /usr/local/lib/python3.7/dist-packages (from PyPortfolioOpt) (1.4.1)\n",
            "Requirement already satisfied: numpy<2.0,>=1.12 in /usr/local/lib/python3.7/dist-packages (from PyPortfolioOpt) (1.19.5)\n",
            "Requirement already satisfied: pandas>=0.19 in /usr/local/lib/python3.7/dist-packages (from PyPortfolioOpt) (1.1.5)\n",
            "Requirement already satisfied: cvxpy<2.0.0,>=1.1.10 in /usr/local/lib/python3.7/dist-packages (from PyPortfolioOpt) (1.1.11)\n",
            "Requirement already satisfied: pytz>=2017.2 in /usr/local/lib/python3.7/dist-packages (from pandas>=0.19->PyPortfolioOpt) (2018.9)\n",
            "Requirement already satisfied: python-dateutil>=2.7.3 in /usr/local/lib/python3.7/dist-packages (from pandas>=0.19->PyPortfolioOpt) (2.8.1)\n",
            "Requirement already satisfied: osqp>=0.4.1 in /usr/local/lib/python3.7/dist-packages (from cvxpy<2.0.0,>=1.1.10->PyPortfolioOpt) (0.6.2.post0)\n",
            "Requirement already satisfied: ecos>=2 in /usr/local/lib/python3.7/dist-packages (from cvxpy<2.0.0,>=1.1.10->PyPortfolioOpt) (2.0.7.post1)\n",
            "Requirement already satisfied: scs>=1.1.6 in /usr/local/lib/python3.7/dist-packages (from cvxpy<2.0.0,>=1.1.10->PyPortfolioOpt) (2.1.2)\n",
            "Requirement already satisfied: six>=1.5 in /usr/local/lib/python3.7/dist-packages (from python-dateutil>=2.7.3->pandas>=0.19->PyPortfolioOpt) (1.15.0)\n",
            "Requirement already satisfied: qdldl in /usr/local/lib/python3.7/dist-packages (from osqp>=0.4.1->cvxpy<2.0.0,>=1.1.10->PyPortfolioOpt) (0.1.5.post0)\n"
          ],
          "name": "stdout"
        }
      ]
    },
    {
      "cell_type": "code",
      "metadata": {
        "id": "QEcb0phiq1PG"
      },
      "source": [
        "#Optimize the portfolio\r\n",
        "from pypfopt.efficient_frontier import EfficientFrontier\r\n",
        "from pypfopt import risk_models\r\n",
        "from pypfopt import expected_returns"
      ],
      "execution_count": 91,
      "outputs": []
    },
    {
      "cell_type": "code",
      "metadata": {
        "colab": {
          "base_uri": "https://localhost:8080/"
        },
        "id": "SmhyyID5rPv1",
        "outputId": "7eb96fc6-5d8e-45d3-f04b-3a6d2a903bf1"
      },
      "source": [
        "#Calculate the expected returns and covariuance\r\n",
        "mu = expected_returns.mean_historical_return(df)\r\n",
        "s = risk_models.sample_cov(df)\r\n",
        "print(mu)\r\n",
        "print(s)"
      ],
      "execution_count": 92,
      "outputs": [
        {
          "output_type": "stream",
          "text": [
            "AAPL    0.305163\n",
            "MSFT    0.327952\n",
            "AMZN    0.459041\n",
            "GOOG    0.251817\n",
            "FB      0.218934\n",
            "TSLA    0.575972\n",
            "V       0.220939\n",
            "PG      0.085811\n",
            "DIS     0.139493\n",
            "BAC     0.139627\n",
            "XOM    -0.033813\n",
            "BABA    0.147762\n",
            "GE     -0.074173\n",
            "AMD     0.760546\n",
            "WMT     0.096537\n",
            "T       0.027920\n",
            "RRC    -0.239046\n",
            "BBY     0.206131\n",
            "MA      0.273007\n",
            "PFE     0.059658\n",
            "JPM     0.185727\n",
            "SBUX    0.191525\n",
            "dtype: float64\n",
            "          AAPL      MSFT      AMZN  ...       PFE       JPM      SBUX\n",
            "AAPL  0.088433  0.056286  0.050990  ...  0.024725  0.040320  0.038035\n",
            "MSFT  0.056286  0.077012  0.056139  ...  0.027449  0.041956  0.041785\n",
            "AMZN  0.050990  0.056139  0.095406  ...  0.019576  0.026342  0.033794\n",
            "GOOG  0.048317  0.054750  0.054105  ...  0.024402  0.037644  0.038865\n",
            "FB    0.054701  0.053672  0.059205  ...  0.022087  0.035068  0.039560\n",
            "TSLA  0.062731  0.060737  0.061141  ...  0.021172  0.043686  0.044773\n",
            "V     0.045707  0.050531  0.039725  ...  0.027029  0.047470  0.043243\n",
            "PG    0.024303  0.026864  0.017968  ...  0.019020  0.022851  0.022025\n",
            "DIS   0.034754  0.035476  0.026083  ...  0.021966  0.048206  0.039699\n",
            "BAC   0.045400  0.046488  0.031372  ...  0.032836  0.090607  0.048352\n",
            "XOM   0.032054  0.031455  0.020501  ...  0.024394  0.054283  0.034337\n",
            "BABA  0.044827  0.045961  0.049663  ...  0.019005  0.030328  0.028492\n",
            "GE    0.036892  0.035518  0.023515  ...  0.027850  0.062663  0.040585\n",
            "AMD   0.069916  0.060775  0.065818  ...  0.032344  0.047607  0.043482\n",
            "WMT   0.022466  0.023725  0.017831  ...  0.016966  0.018505  0.019478\n",
            "T     0.023917  0.023992  0.015667  ...  0.021157  0.035380  0.024386\n",
            "RRC   0.037630  0.034183  0.029902  ...  0.026618  0.065340  0.030971\n",
            "BBY   0.045133  0.038897  0.032063  ...  0.021636  0.047384  0.036568\n",
            "MA    0.051363  0.055208  0.044198  ...  0.029055  0.052252  0.046717\n",
            "PFE   0.024725  0.027449  0.019576  ...  0.047720  0.030534  0.023433\n",
            "JPM   0.040320  0.041956  0.026342  ...  0.030534  0.085615  0.043581\n",
            "SBUX  0.038035  0.041785  0.033794  ...  0.023433  0.043581  0.070569\n",
            "\n",
            "[22 rows x 22 columns]\n"
          ],
          "name": "stdout"
        }
      ]
    },
    {
      "cell_type": "code",
      "metadata": {
        "colab": {
          "base_uri": "https://localhost:8080/"
        },
        "id": "ieWt_ExRrrhb",
        "outputId": "ffce62ef-e248-40ed-be6f-cc120bbe3f21"
      },
      "source": [
        "#Optimize sharpe ratio\r\n",
        "ef = EfficientFrontier(mu,s,weight_bounds=(-1,1))\r\n",
        "weights = ef.max_sharpe()\r\n",
        "\r\n",
        "cleaned_weights = ef.clean_weights()\r\n",
        "print(cleaned_weights)\r\n",
        "ef.portfolio_performance(verbose=True)"
      ],
      "execution_count": 93,
      "outputs": [
        {
          "output_type": "stream",
          "text": [
            "OrderedDict([('AAPL', 0.16344), ('MSFT', 0.29857), ('AMZN', 1.0), ('GOOG', 0.00621), ('FB', -0.41981), ('TSLA', 0.2509), ('V', -0.33331), ('PG', 0.09755), ('DIS', 0.08718), ('BAC', -0.41319), ('XOM', -0.5465), ('BABA', -0.32684), ('GE', -0.39797), ('AMD', 0.32966), ('WMT', 0.05853), ('T', -0.17554), ('RRC', -0.20864), ('BBY', 0.08091), ('MA', 0.50807), ('PFE', -0.19766), ('JPM', 1.0), ('SBUX', 0.13844)])\n",
            "Expected annual return: 120.7%\n",
            "Annual volatility: 54.2%\n",
            "Sharpe Ratio: 2.19\n"
          ],
          "name": "stdout"
        },
        {
          "output_type": "execute_result",
          "data": {
            "text/plain": [
              "(1.207078530401278, 0.5423030452388021, 2.188957891391796)"
            ]
          },
          "metadata": {
            "tags": []
          },
          "execution_count": 93
        }
      ]
    },
    {
      "cell_type": "code",
      "metadata": {
        "colab": {
          "base_uri": "https://localhost:8080/"
        },
        "id": "ImgidtKzwx6c",
        "outputId": "4df0f90b-1603-4956-d6ac-4d8ad3f5a1af"
      },
      "source": [
        "pip install pulp"
      ],
      "execution_count": 41,
      "outputs": [
        {
          "output_type": "stream",
          "text": [
            "Collecting pulp\n",
            "\u001b[?25l  Downloading https://files.pythonhosted.org/packages/14/c4/0eec14a0123209c261de6ff154ef3be5cad3fd557c084f468356662e0585/PuLP-2.4-py3-none-any.whl (40.6MB)\n",
            "\u001b[K     |████████████████████████████████| 40.6MB 104kB/s \n",
            "\u001b[?25hCollecting amply>=0.1.2\n",
            "  Downloading https://files.pythonhosted.org/packages/f3/c5/dfa09dd2595a2ab2ab4e6fa7bebef9565812722e1980d04b0edce5032066/amply-0.1.4-py3-none-any.whl\n",
            "Requirement already satisfied: docutils>=0.3 in /usr/local/lib/python3.7/dist-packages (from amply>=0.1.2->pulp) (0.16)\n",
            "Requirement already satisfied: pyparsing in /usr/local/lib/python3.7/dist-packages (from amply>=0.1.2->pulp) (2.4.7)\n",
            "Installing collected packages: amply, pulp\n",
            "Successfully installed amply-0.1.4 pulp-2.4\n"
          ],
          "name": "stdout"
        }
      ]
    },
    {
      "cell_type": "code",
      "metadata": {
        "colab": {
          "base_uri": "https://localhost:8080/"
        },
        "id": "tfsZxaQMw4da",
        "outputId": "7ce46c8a-96af-4bd8-b4fb-4f29e7867cce"
      },
      "source": [
        "#Get the discrete allocation \r\n",
        "from pypfopt.discrete_allocation import  DiscreteAllocation, get_latest_prices\r\n",
        "\r\n",
        "portfolio_val = 10000\r\n",
        "latest_prices = get_latest_prices(df)\r\n",
        "weights = cleaned_weights\r\n",
        "da = DiscreteAllocation(weights, latest_prices, total_portfolio_value = portfolio_val)\r\n",
        "allocation, leftover = da.lp_portfolio()\r\n",
        "print('Discrete allocation:', allocation)\r\n",
        "print('Funds Remaining: $', leftover)"
      ],
      "execution_count": 94,
      "outputs": [
        {
          "output_type": "stream",
          "text": [
            "Discrete allocation: {'AAPL': 3, 'MSFT': 3, 'AMZN': 1, 'TSLA': 1, 'PG': 1, 'DIS': 1, 'AMD': 9, 'WMT': 1, 'BBY': 1, 'MA': 3, 'JPM': 16, 'SBUX': 2, 'FB': -16, 'V': -15, 'BAC': -116, 'XOM': -97, 'BABA': -14, 'GE': -302, 'T': -62, 'RRC': -206, 'PFE': -58}\n",
            "Funds Remaining: $ 3.88642654418436\n"
          ],
          "name": "stdout"
        }
      ]
    },
    {
      "cell_type": "code",
      "metadata": {
        "id": "uYrFoi6ByIQc"
      },
      "source": [
        "#Create a function to get the companies name\r\n",
        "def get_company_name(symbol):\r\n",
        "  url = 'http://d.yimg.com/autoc.finance.yahoo.com/autoc?query='+symbol+'&region=1&lang=en'\r\n",
        "  result = requests.get(url).json()\r\n",
        "  for r in result['ResultSet']['Result']:\r\n",
        "    if r['symbol'] == symbol:\r\n",
        "      return r['name']\r\n"
      ],
      "execution_count": 95,
      "outputs": []
    },
    {
      "cell_type": "code",
      "metadata": {
        "id": "j2cluiJhzgm5"
      },
      "source": [
        "#Store the company name into a list\r\n",
        "company_name = []\r\n",
        "for symbol in allocation:\r\n",
        "  company_name.append(get_company_name(symbol))"
      ],
      "execution_count": 96,
      "outputs": []
    },
    {
      "cell_type": "code",
      "metadata": {
        "id": "DRzaeRYEzyeu"
      },
      "source": [
        "#Get the discrete allocation values\r\n",
        "discrete_allocation_list = []\r\n",
        "for symbol in allocation:\r\n",
        "  discrete_allocation_list.append(allocation.get(symbol))"
      ],
      "execution_count": 97,
      "outputs": []
    },
    {
      "cell_type": "code",
      "metadata": {
        "colab": {
          "base_uri": "https://localhost:8080/",
          "height": 700
        },
        "id": "UYyoJhqq0tBN",
        "outputId": "6ac4ec33-9426-4fcc-f481-57c64925b201"
      },
      "source": [
        "#Creare a data for the portfolio\r\n",
        "portfolio_df = pd.DataFrame(columns=['Company_name','Company_Ticker', 'Discrete_val_'+str(portfolio_val)]) \r\n",
        "\r\n",
        "portfolio_df['Company_name'] =  company_name\r\n",
        "portfolio_df['Company_Ticker'] =  allocation\r\n",
        "portfolio_df['Discrete_val_'+str(portfolio_val)] =  discrete_allocation_list\r\n",
        "\r\n",
        "portfolio_df"
      ],
      "execution_count": 98,
      "outputs": [
        {
          "output_type": "execute_result",
          "data": {
            "text/html": [
              "<div>\n",
              "<style scoped>\n",
              "    .dataframe tbody tr th:only-of-type {\n",
              "        vertical-align: middle;\n",
              "    }\n",
              "\n",
              "    .dataframe tbody tr th {\n",
              "        vertical-align: top;\n",
              "    }\n",
              "\n",
              "    .dataframe thead th {\n",
              "        text-align: right;\n",
              "    }\n",
              "</style>\n",
              "<table border=\"1\" class=\"dataframe\">\n",
              "  <thead>\n",
              "    <tr style=\"text-align: right;\">\n",
              "      <th></th>\n",
              "      <th>Company_name</th>\n",
              "      <th>Company_Ticker</th>\n",
              "      <th>Discrete_val_10000</th>\n",
              "    </tr>\n",
              "  </thead>\n",
              "  <tbody>\n",
              "    <tr>\n",
              "      <th>0</th>\n",
              "      <td>Apple Inc.</td>\n",
              "      <td>AAPL</td>\n",
              "      <td>3</td>\n",
              "    </tr>\n",
              "    <tr>\n",
              "      <th>1</th>\n",
              "      <td>Microsoft Corporation</td>\n",
              "      <td>MSFT</td>\n",
              "      <td>3</td>\n",
              "    </tr>\n",
              "    <tr>\n",
              "      <th>2</th>\n",
              "      <td>Amazon.com, Inc.</td>\n",
              "      <td>AMZN</td>\n",
              "      <td>1</td>\n",
              "    </tr>\n",
              "    <tr>\n",
              "      <th>3</th>\n",
              "      <td>Tesla, Inc.</td>\n",
              "      <td>TSLA</td>\n",
              "      <td>1</td>\n",
              "    </tr>\n",
              "    <tr>\n",
              "      <th>4</th>\n",
              "      <td>The Procter &amp; Gamble Company</td>\n",
              "      <td>PG</td>\n",
              "      <td>1</td>\n",
              "    </tr>\n",
              "    <tr>\n",
              "      <th>5</th>\n",
              "      <td>The Walt Disney Company</td>\n",
              "      <td>DIS</td>\n",
              "      <td>1</td>\n",
              "    </tr>\n",
              "    <tr>\n",
              "      <th>6</th>\n",
              "      <td>Advanced Micro Devices, Inc.</td>\n",
              "      <td>AMD</td>\n",
              "      <td>9</td>\n",
              "    </tr>\n",
              "    <tr>\n",
              "      <th>7</th>\n",
              "      <td>Walmart Inc.</td>\n",
              "      <td>WMT</td>\n",
              "      <td>1</td>\n",
              "    </tr>\n",
              "    <tr>\n",
              "      <th>8</th>\n",
              "      <td>Best Buy Co., Inc.</td>\n",
              "      <td>BBY</td>\n",
              "      <td>1</td>\n",
              "    </tr>\n",
              "    <tr>\n",
              "      <th>9</th>\n",
              "      <td>Mastercard Incorporated</td>\n",
              "      <td>MA</td>\n",
              "      <td>3</td>\n",
              "    </tr>\n",
              "    <tr>\n",
              "      <th>10</th>\n",
              "      <td>JPMorgan Chase &amp; Co.</td>\n",
              "      <td>JPM</td>\n",
              "      <td>16</td>\n",
              "    </tr>\n",
              "    <tr>\n",
              "      <th>11</th>\n",
              "      <td>Starbucks Corporation</td>\n",
              "      <td>SBUX</td>\n",
              "      <td>2</td>\n",
              "    </tr>\n",
              "    <tr>\n",
              "      <th>12</th>\n",
              "      <td>Facebook, Inc.</td>\n",
              "      <td>FB</td>\n",
              "      <td>-16</td>\n",
              "    </tr>\n",
              "    <tr>\n",
              "      <th>13</th>\n",
              "      <td>Visa Inc.</td>\n",
              "      <td>V</td>\n",
              "      <td>-15</td>\n",
              "    </tr>\n",
              "    <tr>\n",
              "      <th>14</th>\n",
              "      <td>Bank of America Corporation</td>\n",
              "      <td>BAC</td>\n",
              "      <td>-116</td>\n",
              "    </tr>\n",
              "    <tr>\n",
              "      <th>15</th>\n",
              "      <td>Exxon Mobil Corporation</td>\n",
              "      <td>XOM</td>\n",
              "      <td>-97</td>\n",
              "    </tr>\n",
              "    <tr>\n",
              "      <th>16</th>\n",
              "      <td>Alibaba Group Holding Limited</td>\n",
              "      <td>BABA</td>\n",
              "      <td>-14</td>\n",
              "    </tr>\n",
              "    <tr>\n",
              "      <th>17</th>\n",
              "      <td>General Electric Company</td>\n",
              "      <td>GE</td>\n",
              "      <td>-302</td>\n",
              "    </tr>\n",
              "    <tr>\n",
              "      <th>18</th>\n",
              "      <td>AT&amp;T Inc.</td>\n",
              "      <td>T</td>\n",
              "      <td>-62</td>\n",
              "    </tr>\n",
              "    <tr>\n",
              "      <th>19</th>\n",
              "      <td>Range Resources Corporation</td>\n",
              "      <td>RRC</td>\n",
              "      <td>-206</td>\n",
              "    </tr>\n",
              "    <tr>\n",
              "      <th>20</th>\n",
              "      <td>Pfizer Inc.</td>\n",
              "      <td>PFE</td>\n",
              "      <td>-58</td>\n",
              "    </tr>\n",
              "  </tbody>\n",
              "</table>\n",
              "</div>"
            ],
            "text/plain": [
              "                     Company_name Company_Ticker  Discrete_val_10000\n",
              "0                      Apple Inc.           AAPL                   3\n",
              "1           Microsoft Corporation           MSFT                   3\n",
              "2                Amazon.com, Inc.           AMZN                   1\n",
              "3                     Tesla, Inc.           TSLA                   1\n",
              "4    The Procter & Gamble Company             PG                   1\n",
              "5         The Walt Disney Company            DIS                   1\n",
              "6    Advanced Micro Devices, Inc.            AMD                   9\n",
              "7                    Walmart Inc.            WMT                   1\n",
              "8              Best Buy Co., Inc.            BBY                   1\n",
              "9         Mastercard Incorporated             MA                   3\n",
              "10           JPMorgan Chase & Co.            JPM                  16\n",
              "11          Starbucks Corporation           SBUX                   2\n",
              "12                 Facebook, Inc.             FB                 -16\n",
              "13                      Visa Inc.              V                 -15\n",
              "14    Bank of America Corporation            BAC                -116\n",
              "15        Exxon Mobil Corporation            XOM                 -97\n",
              "16  Alibaba Group Holding Limited           BABA                 -14\n",
              "17       General Electric Company             GE                -302\n",
              "18                      AT&T Inc.              T                 -62\n",
              "19    Range Resources Corporation            RRC                -206\n",
              "20                    Pfizer Inc.            PFE                 -58"
            ]
          },
          "metadata": {
            "tags": []
          },
          "execution_count": 98
        }
      ]
    },
    {
      "cell_type": "code",
      "metadata": {
        "id": "GTe2eTHX5lX0"
      },
      "source": [
        "from pypfopt import plotting"
      ],
      "execution_count": 99,
      "outputs": []
    },
    {
      "cell_type": "code",
      "metadata": {
        "colab": {
          "base_uri": "https://localhost:8080/",
          "height": 297
        },
        "id": "JUHs0Sal4vBf",
        "outputId": "c833bbbb-0d58-4d0c-f5b4-b6067cbfb815"
      },
      "source": [
        "# Efficient Frontier\r\n",
        "ef = EfficientFrontier(mu, s)\r\n",
        "ef.add_constraint(lambda w: w[0] >= 0.2)\r\n",
        "ef.add_constraint(lambda w: w[2] == 0.15)\r\n",
        "ef.add_constraint(lambda w: w[3] + w[4] <= 0.10)\r\n",
        "\r\n",
        "fig, ax = plt.subplots()\r\n",
        "plotting.plot_efficient_frontier(ef, ax=ax, show_assets=True)\r\n",
        "plt.show()"
      ],
      "execution_count": 104,
      "outputs": [
        {
          "output_type": "display_data",
          "data": {
            "image/png": "[encoded data removed]",
            "text/plain": [
              "<Figure size 432x288 with 1 Axes>"
            ]
          },
          "metadata": {
            "tags": [],
            "needs_background": "light"
          }
        }
      ]
    },
    {
      "cell_type": "code",
      "metadata": {
        "colab": {
          "base_uri": "https://localhost:8080/",
          "height": 297
        },
        "id": "n_-7wB6K5tRy",
        "outputId": "6d8d6f9d-082c-4715-9142-a5d988a5bb85"
      },
      "source": [
        "cov = plotting.plot_covariance(s, plot_correlation=False, show_tickers=True)"
      ],
      "execution_count": 102,
      "outputs": [
        {
          "output_type": "display_data",
          "data": {
            "image/png": "[encoded data removed]",
            "text/plain": [
              "<Figure size 432x288 with 2 Axes>"
            ]
          },
          "metadata": {
            "tags": [],
            "needs_background": "light"
          }
        }
      ]
    }
  ]
}