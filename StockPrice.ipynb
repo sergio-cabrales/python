{
  "nbformat": 4,
  "nbformat_minor": 0,
  "metadata": {
    "colab": {
      "name": "Copia de StockPrice.ipynb",
      "provenance": [],
      "authorship_tag": "ABX9TyNS3MwyYVXtXoZg1Zk5mnHa",
      "include_colab_link": true
    },
    "kernelspec": {
      "name": "python3",
      "display_name": "Python 3"
    }
  },
  "cells": [
    {
      "cell_type": "markdown",
      "metadata": {
        "id": "view-in-github",
        "colab_type": "text"
      },
      "source": [
        "<a href=\"https://colab.research.google.com/github/sergio-cabrales/python/blob/main/StockPrice.ipynb\" target=\"_parent\"><img src=\"https://colab.research.google.com/assets/colab-badge.svg\" alt=\"Open In Colab\"/></a>"
      ]
    },
    {
      "cell_type": "code",
      "metadata": {
        "id": "tIMYQSpsf1KQ"
      },
      "source": [
        "import math\r\n",
        "import pandas_datareader as web\r\n",
        "import numpy as np\r\n",
        "import pandas as pd\r\n",
        "from sklearn.preprocessing import MinMaxScaler\r\n",
        "from keras.models import Sequential\r\n",
        "from keras.layers import Dense, LSTM\r\n",
        "import matplotlib.pyplot as plt\r\n",
        "plt.style.use ('fivethirtyeight')"
      ],
      "execution_count": null,
      "outputs": []
    },
    {
      "cell_type": "code",
      "metadata": {
        "colab": {
          "base_uri": "https://localhost:8080/",
          "height": 450
        },
        "id": "6betP-OWm6ab",
        "outputId": "7558530c-f1c6-46f7-d4fd-cb03c8776a4c"
      },
      "source": [
        "# Get the stock quote\r\n",
        "df = web.DataReader('AAPL', data_source='yahoo',start='2010-01-01', end='2021-03-01')\r\n",
        "df"
      ],
      "execution_count": null,
      "outputs": [
        {
          "output_type": "execute_result",
          "data": {
            "text/html": [
              "<div>\n",
              "<style scoped>\n",
              "    .dataframe tbody tr th:only-of-type {\n",
              "        vertical-align: middle;\n",
              "    }\n",
              "\n",
              "    .dataframe tbody tr th {\n",
              "        vertical-align: top;\n",
              "    }\n",
              "\n",
              "    .dataframe thead th {\n",
              "        text-align: right;\n",
              "    }\n",
              "</style>\n",
              "<table border=\"1\" class=\"dataframe\">\n",
              "  <thead>\n",
              "    <tr style=\"text-align: right;\">\n",
              "      <th></th>\n",
              "      <th>High</th>\n",
              "      <th>Low</th>\n",
              "      <th>Open</th>\n",
              "      <th>Close</th>\n",
              "      <th>Volume</th>\n",
              "      <th>Adj Close</th>\n",
              "    </tr>\n",
              "    <tr>\n",
              "      <th>Date</th>\n",
              "      <th></th>\n",
              "      <th></th>\n",
              "      <th></th>\n",
              "      <th></th>\n",
              "      <th></th>\n",
              "      <th></th>\n",
              "    </tr>\n",
              "  </thead>\n",
              "  <tbody>\n",
              "    <tr>\n",
              "      <th>2010-01-04</th>\n",
              "      <td>7.660714</td>\n",
              "      <td>7.585000</td>\n",
              "      <td>7.622500</td>\n",
              "      <td>7.643214</td>\n",
              "      <td>493729600.0</td>\n",
              "      <td>6.583586</td>\n",
              "    </tr>\n",
              "    <tr>\n",
              "      <th>2010-01-05</th>\n",
              "      <td>7.699643</td>\n",
              "      <td>7.616071</td>\n",
              "      <td>7.664286</td>\n",
              "      <td>7.656429</td>\n",
              "      <td>601904800.0</td>\n",
              "      <td>6.594968</td>\n",
              "    </tr>\n",
              "    <tr>\n",
              "      <th>2010-01-06</th>\n",
              "      <td>7.686786</td>\n",
              "      <td>7.526786</td>\n",
              "      <td>7.656429</td>\n",
              "      <td>7.534643</td>\n",
              "      <td>552160000.0</td>\n",
              "      <td>6.490066</td>\n",
              "    </tr>\n",
              "    <tr>\n",
              "      <th>2010-01-07</th>\n",
              "      <td>7.571429</td>\n",
              "      <td>7.466071</td>\n",
              "      <td>7.562500</td>\n",
              "      <td>7.520714</td>\n",
              "      <td>477131200.0</td>\n",
              "      <td>6.478067</td>\n",
              "    </tr>\n",
              "    <tr>\n",
              "      <th>2010-01-08</th>\n",
              "      <td>7.571429</td>\n",
              "      <td>7.466429</td>\n",
              "      <td>7.510714</td>\n",
              "      <td>7.570714</td>\n",
              "      <td>447610800.0</td>\n",
              "      <td>6.521136</td>\n",
              "    </tr>\n",
              "    <tr>\n",
              "      <th>...</th>\n",
              "      <td>...</td>\n",
              "      <td>...</td>\n",
              "      <td>...</td>\n",
              "      <td>...</td>\n",
              "      <td>...</td>\n",
              "      <td>...</td>\n",
              "    </tr>\n",
              "    <tr>\n",
              "      <th>2021-02-23</th>\n",
              "      <td>126.709999</td>\n",
              "      <td>118.389999</td>\n",
              "      <td>123.760002</td>\n",
              "      <td>125.860001</td>\n",
              "      <td>158273000.0</td>\n",
              "      <td>125.860001</td>\n",
              "    </tr>\n",
              "    <tr>\n",
              "      <th>2021-02-24</th>\n",
              "      <td>125.559998</td>\n",
              "      <td>122.230003</td>\n",
              "      <td>124.940002</td>\n",
              "      <td>125.349998</td>\n",
              "      <td>111039900.0</td>\n",
              "      <td>125.349998</td>\n",
              "    </tr>\n",
              "    <tr>\n",
              "      <th>2021-02-25</th>\n",
              "      <td>126.459999</td>\n",
              "      <td>120.540001</td>\n",
              "      <td>124.680000</td>\n",
              "      <td>120.989998</td>\n",
              "      <td>148199500.0</td>\n",
              "      <td>120.989998</td>\n",
              "    </tr>\n",
              "    <tr>\n",
              "      <th>2021-02-26</th>\n",
              "      <td>124.849998</td>\n",
              "      <td>121.199997</td>\n",
              "      <td>122.589996</td>\n",
              "      <td>121.260002</td>\n",
              "      <td>164320000.0</td>\n",
              "      <td>121.260002</td>\n",
              "    </tr>\n",
              "    <tr>\n",
              "      <th>2021-03-01</th>\n",
              "      <td>127.930000</td>\n",
              "      <td>122.790001</td>\n",
              "      <td>123.750000</td>\n",
              "      <td>127.790001</td>\n",
              "      <td>115998300.0</td>\n",
              "      <td>127.790001</td>\n",
              "    </tr>\n",
              "  </tbody>\n",
              "</table>\n",
              "<p>2808 rows × 6 columns</p>\n",
              "</div>"
            ],
            "text/plain": [
              "                  High         Low  ...       Volume   Adj Close\n",
              "Date                                ...                         \n",
              "2010-01-04    7.660714    7.585000  ...  493729600.0    6.583586\n",
              "2010-01-05    7.699643    7.616071  ...  601904800.0    6.594968\n",
              "2010-01-06    7.686786    7.526786  ...  552160000.0    6.490066\n",
              "2010-01-07    7.571429    7.466071  ...  477131200.0    6.478067\n",
              "2010-01-08    7.571429    7.466429  ...  447610800.0    6.521136\n",
              "...                ...         ...  ...          ...         ...\n",
              "2021-02-23  126.709999  118.389999  ...  158273000.0  125.860001\n",
              "2021-02-24  125.559998  122.230003  ...  111039900.0  125.349998\n",
              "2021-02-25  126.459999  120.540001  ...  148199500.0  120.989998\n",
              "2021-02-26  124.849998  121.199997  ...  164320000.0  121.260002\n",
              "2021-03-01  127.930000  122.790001  ...  115998300.0  127.790001\n",
              "\n",
              "[2808 rows x 6 columns]"
            ]
          },
          "metadata": {
            "tags": []
          },
          "execution_count": 50
        }
      ]
    },
    {
      "cell_type": "code",
      "metadata": {
        "colab": {
          "base_uri": "https://localhost:8080/"
        },
        "id": "6V8UCDz2oD91",
        "outputId": "65e1000d-4183-4031-c2e8-4905da4e671c"
      },
      "source": [
        "# Num rows and colums\r\n",
        "df.shape"
      ],
      "execution_count": null,
      "outputs": [
        {
          "output_type": "execute_result",
          "data": {
            "text/plain": [
              "(2808, 6)"
            ]
          },
          "metadata": {
            "tags": []
          },
          "execution_count": 51
        }
      ]
    },
    {
      "cell_type": "code",
      "metadata": {
        "colab": {
          "base_uri": "https://localhost:8080/",
          "height": 558
        },
        "id": "XKcHOvfjoUgi",
        "outputId": "13e8c2d1-9d8b-4cc3-dd53-9efea7da3c93"
      },
      "source": [
        "plt.figure(figsize=(16,8))\r\n",
        "plt.title ('Adj CLose')\r\n",
        "plt.plot(df['Adj Close'])\r\n",
        "plt.xlabel('date')\r\n",
        "plt.ylabel('USD $')\r\n",
        "plt.show()"
      ],
      "execution_count": null,
      "outputs": [
        {
          "output_type": "display_data",
          "data": {
            "image/png": "[encoded data removed]",
            "text/plain": [
              "<Figure size 1152x576 with 1 Axes>"
            ]
          },
          "metadata": {
            "tags": []
          }
        }
      ]
    },
    {
      "cell_type": "code",
      "metadata": {
        "colab": {
          "base_uri": "https://localhost:8080/"
        },
        "id": "Eq7xOYujvQKv",
        "outputId": "a31e9923-73e9-41c1-b685-8779cea656a1"
      },
      "source": [
        "# creat a new dataframe\r\n",
        "data = df.filter(['Adj Close'])\r\n",
        "# numpy array\r\n",
        "dataset = data.values\r\n",
        "\r\n",
        "training_len = math.ceil(len(dataset)*0.8)\r\n",
        "\r\n",
        "training_len"
      ],
      "execution_count": null,
      "outputs": [
        {
          "output_type": "execute_result",
          "data": {
            "text/plain": [
              "2247"
            ]
          },
          "metadata": {
            "tags": []
          },
          "execution_count": 53
        }
      ]
    },
    {
      "cell_type": "code",
      "metadata": {
        "colab": {
          "base_uri": "https://localhost:8080/"
        },
        "id": "3iUCIvdXwM7j",
        "outputId": "e95b3ff8-9755-486d-9d0a-679e3a0f020b"
      },
      "source": [
        "#Scale the data\r\n",
        "scaler = MinMaxScaler(feature_range=(0,1))\r\n",
        "scaled_data = scaler.fit_transform(dataset)\r\n",
        "\r\n",
        "scaled_data"
      ],
      "execution_count": null,
      "outputs": [
        {
          "output_type": "execute_result",
          "data": {
            "text/plain": [
              "array([[0.00492968],\n",
              "       [0.00501273],\n",
              "       [0.00424724],\n",
              "       ...,\n",
              "       [0.83977919],\n",
              "       [0.84174947],\n",
              "       [0.88940035]])"
            ]
          },
          "metadata": {
            "tags": []
          },
          "execution_count": 54
        }
      ]
    },
    {
      "cell_type": "code",
      "metadata": {
        "colab": {
          "base_uri": "https://localhost:8080/"
        },
        "id": "hbfdKUASwrjy",
        "outputId": "afa1bfad-eb65-40f9-ac22-7de6a7b4fa18"
      },
      "source": [
        "# Create trainig data set\r\n",
        "train_data = scaled_data[0:training_len, :]\r\n",
        "\r\n",
        "x_train = []\r\n",
        "y_train = []\r\n",
        "\r\n",
        "for i in range(60, len(train_data)):\r\n",
        "  x_train.append(train_data[i-60:i,0])\r\n",
        "  y_train.append(train_data[i,0])\r\n",
        "  if i <= 60:\r\n",
        "    print(x_train)\r\n",
        "    print(y_train)\r\n",
        "    print()"
      ],
      "execution_count": null,
      "outputs": [
        {
          "output_type": "stream",
          "text": [
            "[array([4.92967610e-03, 5.01273389e-03, 4.24723827e-03, 4.15968486e-03,\n",
            "       4.47396480e-03, 4.05418373e-03, 3.51766941e-03, 4.17539868e-03,\n",
            "       3.90153069e-03, 3.11583258e-03, 5.16088782e-03, 4.41785295e-03,\n",
            "       3.59623504e-03, 1.27956310e-03, 2.47381365e-03, 3.11809083e-03,\n",
            "       3.55358572e-03, 1.62527417e-03, 2.23389600e-06, 6.01617422e-04,\n",
            "       8.55289884e-04, 1.61179424e-03, 0.00000000e+00, 7.65492136e-04,\n",
            "       4.64674726e-04, 9.29352931e-04, 6.89149958e-04, 1.48608366e-03,\n",
            "       1.86995537e-03, 2.54790105e-03, 2.35708041e-03, 2.44238252e-03,\n",
            "       2.15952675e-03, 1.87892227e-03, 1.12466573e-03, 1.93281066e-03,\n",
            "       2.23362807e-03, 2.82176209e-03, 3.80276952e-03, 3.77133143e-03,\n",
            "       3.87907690e-03, 4.18886469e-03, 6.03862105e-03, 6.06781480e-03,\n",
            "       6.95228103e-03, 7.36082651e-03, 7.50899088e-03, 7.75593034e-03,\n",
            "       7.13635476e-03, 7.27328702e-03, 7.19921701e-03, 7.31818067e-03,\n",
            "       6.77942898e-03, 7.34063098e-03, 8.15102025e-03, 8.37775026e-03,\n",
            "       7.76715897e-03, 8.72122394e-03, 9.05569594e-03, 9.83239235e-03])]\n",
            "[0.009641589097440631]\n",
            "\n"
          ],
          "name": "stdout"
        }
      ]
    },
    {
      "cell_type": "code",
      "metadata": {
        "id": "9ZH-INfV0hwk"
      },
      "source": [
        "# x_train and y_train to numpy arrays\r\n",
        "x_train, y_train = np.array(x_train), np.array(y_train)"
      ],
      "execution_count": null,
      "outputs": []
    },
    {
      "cell_type": "code",
      "metadata": {
        "colab": {
          "base_uri": "https://localhost:8080/"
        },
        "id": "CeS0YXil05K3",
        "outputId": "0f76175a-e6dc-4887-ffcc-637885af1868"
      },
      "source": [
        "# reshape tha data\r\n",
        "x_train = np.reshape(x_train, (x_train.shape[0], x_train.shape[1],1))\r\n",
        "x_train.shape"
      ],
      "execution_count": null,
      "outputs": [
        {
          "output_type": "execute_result",
          "data": {
            "text/plain": [
              "(2187, 60, 1)"
            ]
          },
          "metadata": {
            "tags": []
          },
          "execution_count": 57
        }
      ]
    },
    {
      "cell_type": "code",
      "metadata": {
        "id": "saJJ4NdC2CGz"
      },
      "source": [
        "# Build the LSTM model\r\n",
        "model = Sequential()\r\n",
        "model.add(LSTM(50, return_sequences=True, input_shape=(x_train.shape[1],1)))\r\n",
        "model.add(LSTM(50, return_sequences=False))\r\n",
        "model.add(Dense(25))\r\n",
        "model.add(Dense(1))\r\n"
      ],
      "execution_count": null,
      "outputs": []
    },
    {
      "cell_type": "code",
      "metadata": {
        "id": "vA5LJv6V31Rv"
      },
      "source": [
        "# Compile the model\r\n",
        "model.compile(optimizer='adam', loss='mean_squared_error')"
      ],
      "execution_count": null,
      "outputs": []
    },
    {
      "cell_type": "code",
      "metadata": {
        "colab": {
          "base_uri": "https://localhost:8080/"
        },
        "id": "TDJgM0Tc4H68",
        "outputId": "aa813d29-bbfc-4fb5-9bb4-dd6b8e9e179e"
      },
      "source": [
        "# Trian the model\r\n",
        "model.fit(x_train, y_train, batch_size=1, epochs=1)"
      ],
      "execution_count": null,
      "outputs": [
        {
          "output_type": "stream",
          "text": [
            "2187/2187 [==============================] - 60s 26ms/step - loss: 6.2857e-04\n"
          ],
          "name": "stdout"
        },
        {
          "output_type": "execute_result",
          "data": {
            "text/plain": [
              "<tensorflow.python.keras.callbacks.History at 0x7fc387d542d0>"
            ]
          },
          "metadata": {
            "tags": []
          },
          "execution_count": 60
        }
      ]
    },
    {
      "cell_type": "code",
      "metadata": {
        "id": "wH8OXmb04jK9"
      },
      "source": [
        "# Create the tsting data set\r\n",
        "test_data = scaled_data[training_len - 60: , :]\r\n",
        "\r\n",
        "x_test =[]\r\n",
        "y_test = dataset[training_len:,:]\r\n",
        "for i in range(60, len(test_data)):\r\n",
        "  x_test.append(test_data[i-60:i, 0])"
      ],
      "execution_count": null,
      "outputs": []
    },
    {
      "cell_type": "code",
      "metadata": {
        "id": "edByZy4A5Own"
      },
      "source": [
        "# Convert the data to a numpy array\r\n",
        "x_test = np.array(x_test)"
      ],
      "execution_count": null,
      "outputs": []
    },
    {
      "cell_type": "code",
      "metadata": {
        "id": "M5GW6HbJ5YyS"
      },
      "source": [
        "# reshape the data\r\n",
        "x_test = np.reshape(x_test, (x_test.shape[0], x_test.shape[1],1))"
      ],
      "execution_count": null,
      "outputs": []
    },
    {
      "cell_type": "code",
      "metadata": {
        "id": "MUzBWAyy6XNf"
      },
      "source": [
        "#Get the model predicted price values\r\n",
        "predictions = model.predict(x_test)\r\n",
        "predictions = scaler.inverse_transform(predictions)"
      ],
      "execution_count": null,
      "outputs": []
    },
    {
      "cell_type": "code",
      "metadata": {
        "colab": {
          "base_uri": "https://localhost:8080/"
        },
        "id": "yD3jV8jQ6s5B",
        "outputId": "73112f6b-472e-46d5-a7c3-9fed52630237"
      },
      "source": [
        "# Get the roor mean squared error (RMSE)\r\n",
        "rmse = np.sqrt(np.mean(predictions - y_test)**2)\r\n",
        "rmse"
      ],
      "execution_count": null,
      "outputs": [
        {
          "output_type": "execute_result",
          "data": {
            "text/plain": [
              "4.298225230377363"
            ]
          },
          "metadata": {
            "tags": []
          },
          "execution_count": 33
        }
      ]
    },
    {
      "cell_type": "code",
      "metadata": {
        "colab": {
          "base_uri": "https://localhost:8080/",
          "height": 660
        },
        "id": "3b0mxXhm7VUw",
        "outputId": "ba427fe3-856b-4e65-b453-6a9afc755bfa"
      },
      "source": [
        "# Plot the data\r\n",
        "train =data[:training_len]\r\n",
        "valid = data[training_len:]\r\n",
        "valid['Predictions'] = predictions\r\n",
        "\r\n",
        "# Visualize the data\r\n",
        "plt.figure(figsize=(16,8))\r\n",
        "plt.title('Model')\r\n",
        "plt.xlabel('Date')\r\n",
        "plt.ylabel('USD$')\r\n",
        "plt.plot(train['Adj Close'])\r\n",
        "plt.plot(valid[['Adj Close','Predictions']])\r\n",
        "plt.legend(['Train', 'Val','Predictions'], loc='lower right')\r\n",
        "plt.show()\r\n"
      ],
      "execution_count": null,
      "outputs": [
        {
          "output_type": "stream",
          "text": [
            "/usr/local/lib/python3.7/dist-packages/ipykernel_launcher.py:4: SettingWithCopyWarning: \n",
            "A value is trying to be set on a copy of a slice from a DataFrame.\n",
            "Try using .loc[row_indexer,col_indexer] = value instead\n",
            "\n",
            "See the caveats in the documentation: https://pandas.pydata.org/pandas-docs/stable/user_guide/indexing.html#returning-a-view-versus-a-copy\n",
            "  after removing the cwd from sys.path.\n"
          ],
          "name": "stderr"
        },
        {
          "output_type": "display_data",
          "data": {
            "image/png": "[encoded data removed]",
            "text/plain": [
              "<Figure size 1152x576 with 1 Axes>"
            ]
          },
          "metadata": {
            "tags": []
          }
        }
      ]
    },
    {
      "cell_type": "code",
      "metadata": {
        "colab": {
          "base_uri": "https://localhost:8080/",
          "height": 450
        },
        "id": "tEK082KF-G65",
        "outputId": "dce8e29a-eb9a-4841-f1aa-b292afb8aaac"
      },
      "source": [
        "# Show prices\r\n",
        "valid"
      ],
      "execution_count": null,
      "outputs": [
        {
          "output_type": "execute_result",
          "data": {
            "text/html": [
              "<div>\n",
              "<style scoped>\n",
              "    .dataframe tbody tr th:only-of-type {\n",
              "        vertical-align: middle;\n",
              "    }\n",
              "\n",
              "    .dataframe tbody tr th {\n",
              "        vertical-align: top;\n",
              "    }\n",
              "\n",
              "    .dataframe thead th {\n",
              "        text-align: right;\n",
              "    }\n",
              "</style>\n",
              "<table border=\"1\" class=\"dataframe\">\n",
              "  <thead>\n",
              "    <tr style=\"text-align: right;\">\n",
              "      <th></th>\n",
              "      <th>Adj Close</th>\n",
              "      <th>Predictions</th>\n",
              "    </tr>\n",
              "    <tr>\n",
              "      <th>Date</th>\n",
              "      <th></th>\n",
              "      <th></th>\n",
              "    </tr>\n",
              "  </thead>\n",
              "  <tbody>\n",
              "    <tr>\n",
              "      <th>2018-12-06</th>\n",
              "      <td>42.601311</td>\n",
              "      <td>47.693752</td>\n",
              "    </tr>\n",
              "    <tr>\n",
              "      <th>2018-12-07</th>\n",
              "      <td>41.082272</td>\n",
              "      <td>47.589348</td>\n",
              "    </tr>\n",
              "    <tr>\n",
              "      <th>2018-12-10</th>\n",
              "      <td>41.352917</td>\n",
              "      <td>47.274185</td>\n",
              "    </tr>\n",
              "    <tr>\n",
              "      <th>2018-12-11</th>\n",
              "      <td>41.116405</td>\n",
              "      <td>46.909149</td>\n",
              "    </tr>\n",
              "    <tr>\n",
              "      <th>2018-12-12</th>\n",
              "      <td>41.231007</td>\n",
              "      <td>46.524281</td>\n",
              "    </tr>\n",
              "    <tr>\n",
              "      <th>...</th>\n",
              "      <td>...</td>\n",
              "      <td>...</td>\n",
              "    </tr>\n",
              "    <tr>\n",
              "      <th>2021-02-23</th>\n",
              "      <td>125.860001</td>\n",
              "      <td>138.875061</td>\n",
              "    </tr>\n",
              "    <tr>\n",
              "      <th>2021-02-24</th>\n",
              "      <td>125.349998</td>\n",
              "      <td>137.712646</td>\n",
              "    </tr>\n",
              "    <tr>\n",
              "      <th>2021-02-25</th>\n",
              "      <td>120.989998</td>\n",
              "      <td>136.605591</td>\n",
              "    </tr>\n",
              "    <tr>\n",
              "      <th>2021-02-26</th>\n",
              "      <td>121.260002</td>\n",
              "      <td>135.158936</td>\n",
              "    </tr>\n",
              "    <tr>\n",
              "      <th>2021-03-01</th>\n",
              "      <td>127.790001</td>\n",
              "      <td>133.777802</td>\n",
              "    </tr>\n",
              "  </tbody>\n",
              "</table>\n",
              "<p>561 rows × 2 columns</p>\n",
              "</div>"
            ],
            "text/plain": [
              "             Adj Close  Predictions\n",
              "Date                               \n",
              "2018-12-06   42.601311    47.693752\n",
              "2018-12-07   41.082272    47.589348\n",
              "2018-12-10   41.352917    47.274185\n",
              "2018-12-11   41.116405    46.909149\n",
              "2018-12-12   41.231007    46.524281\n",
              "...                ...          ...\n",
              "2021-02-23  125.860001   138.875061\n",
              "2021-02-24  125.349998   137.712646\n",
              "2021-02-25  120.989998   136.605591\n",
              "2021-02-26  121.260002   135.158936\n",
              "2021-03-01  127.790001   133.777802\n",
              "\n",
              "[561 rows x 2 columns]"
            ]
          },
          "metadata": {
            "tags": []
          },
          "execution_count": 66
        }
      ]
    },
    {
      "cell_type": "code",
      "metadata": {
        "colab": {
          "base_uri": "https://localhost:8080/"
        },
        "id": "PGFnwT6D8_zl",
        "outputId": "37e1fd98-8752-4867-b56e-0b333d0042b7"
      },
      "source": [
        "# Get the qoute\r\n",
        "apple_quote = web.DataReader('AAPL', data_source='yahoo', start='2010-01-01', end='2021-03-01')\r\n",
        "# new data frame\r\n",
        "new_df = apple_quote.filter(['Adj Close'])\r\n",
        "# last 60 days\r\n",
        "last_60_days = new_df[-60:].values\r\n",
        "\r\n",
        "last_60_days_scaled = scaler.transform(last_60_days)\r\n",
        "\r\n",
        "X_test = []\r\n",
        "X_test.append(last_60_days_scaled)\r\n",
        "X_test = np.array(X_test)\r\n",
        "X_test = np.reshape(X_test,(X_test.shape[0], X_test.shape[1],1))\r\n",
        "pred_price = model.predict(X_test)\r\n",
        "pred_price = scaler.inverse_transform(pred_price)\r\n",
        "print(pred_price)"
      ],
      "execution_count": null,
      "outputs": [
        {
          "output_type": "stream",
          "text": [
            "[[133.30011]]\n"
          ],
          "name": "stdout"
        }
      ]
    },
    {
      "cell_type": "code",
      "metadata": {
        "colab": {
          "base_uri": "https://localhost:8080/"
        },
        "id": "z2Fse4D4BWcx",
        "outputId": "ca8c1a31-eb61-40c6-e046-a4e78f3c9ebf"
      },
      "source": [
        "# Get the qoute\r\n",
        "apple_quote2 = web.DataReader('AAPL', data_source='yahoo', start='2021-03-02', end='2021-03-02')\r\n",
        "print(apple_quote2['Adj Close'])"
      ],
      "execution_count": null,
      "outputs": [
        {
          "output_type": "stream",
          "text": [
            "Date\n",
            "2021-03-02    125.120003\n",
            "Name: Adj Close, dtype: float64\n"
          ],
          "name": "stdout"
        }
      ]
    }
  ]
}