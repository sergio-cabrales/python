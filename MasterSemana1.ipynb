{
  "nbformat": 4,
  "nbformat_minor": 0,
  "metadata": {
    "colab": {
      "name": "MasterSemana1.ipynb",
      "provenance": [],
      "authorship_tag": "ABX9TyNXddFc9Qroa8Fbk7jtEX1/",
      "include_colab_link": true
    },
    "kernelspec": {
      "name": "python3",
      "display_name": "Python 3"
    }
  },
  "cells": [
    {
      "cell_type": "markdown",
      "metadata": {
        "id": "view-in-github",
        "colab_type": "text"
      },
      "source": [
        "<a href=\"https://colab.research.google.com/github/sergio-cabrales/python/blob/main/MasterSemana1.ipynb\" target=\"_parent\"><img src=\"https://colab.research.google.com/assets/colab-badge.svg\" alt=\"Open In Colab\"/></a>"
      ]
    },
    {
      "cell_type": "code",
      "metadata": {
        "id": "1UY-QLSTF6W9"
      },
      "source": [
        "#Precios de acciones, materias primas y tasa de cambio"
      ],
      "execution_count": null,
      "outputs": []
    },
    {
      "cell_type": "code",
      "metadata": {
        "id": "HDXjjCiqGGq4"
      },
      "source": [
        "#Importar librerias\r\n",
        "import pandas as pd\r\n",
        "import numpy as np\r\n",
        "import pandas as DataFrame\r\n",
        "import pandas_datareader as web\r\n",
        "import matplotlib.pyplot as plt"
      ],
      "execution_count": 52,
      "outputs": []
    },
    {
      "cell_type": "code",
      "metadata": {
        "colab": {
          "base_uri": "https://localhost:8080/",
          "height": 450
        },
        "id": "9ela9sGDGoPm",
        "outputId": "e1230b69-d921-47aa-c996-e5e14a0bcfb2"
      },
      "source": [
        "#Utilizar DataReader para obtener los datos diarios de una acción o activo fiannciero\r\n",
        "# S&P 500 https://finance.yahoo.com/quote/%5EGSPC?p=%5EGSPC\r\n",
        "df = web.DataReader('^GSPC', data_source='yahoo',start='2019-01-01', end='2021-01-01')\r\n",
        "df"
      ],
      "execution_count": 42,
      "outputs": [
        {
          "output_type": "execute_result",
          "data": {
            "text/html": [
              "<div>\n",
              "<style scoped>\n",
              "    .dataframe tbody tr th:only-of-type {\n",
              "        vertical-align: middle;\n",
              "    }\n",
              "\n",
              "    .dataframe tbody tr th {\n",
              "        vertical-align: top;\n",
              "    }\n",
              "\n",
              "    .dataframe thead th {\n",
              "        text-align: right;\n",
              "    }\n",
              "</style>\n",
              "<table border=\"1\" class=\"dataframe\">\n",
              "  <thead>\n",
              "    <tr style=\"text-align: right;\">\n",
              "      <th></th>\n",
              "      <th>High</th>\n",
              "      <th>Low</th>\n",
              "      <th>Open</th>\n",
              "      <th>Close</th>\n",
              "      <th>Volume</th>\n",
              "      <th>Adj Close</th>\n",
              "    </tr>\n",
              "    <tr>\n",
              "      <th>Date</th>\n",
              "      <th></th>\n",
              "      <th></th>\n",
              "      <th></th>\n",
              "      <th></th>\n",
              "      <th></th>\n",
              "      <th></th>\n",
              "    </tr>\n",
              "  </thead>\n",
              "  <tbody>\n",
              "    <tr>\n",
              "      <th>2019-01-02</th>\n",
              "      <td>2519.489990</td>\n",
              "      <td>2467.469971</td>\n",
              "      <td>2476.959961</td>\n",
              "      <td>2510.030029</td>\n",
              "      <td>3733160000</td>\n",
              "      <td>2510.030029</td>\n",
              "    </tr>\n",
              "    <tr>\n",
              "      <th>2019-01-03</th>\n",
              "      <td>2493.139893</td>\n",
              "      <td>2443.959961</td>\n",
              "      <td>2491.919922</td>\n",
              "      <td>2447.889893</td>\n",
              "      <td>3822860000</td>\n",
              "      <td>2447.889893</td>\n",
              "    </tr>\n",
              "    <tr>\n",
              "      <th>2019-01-04</th>\n",
              "      <td>2538.070068</td>\n",
              "      <td>2474.330078</td>\n",
              "      <td>2474.330078</td>\n",
              "      <td>2531.939941</td>\n",
              "      <td>4213410000</td>\n",
              "      <td>2531.939941</td>\n",
              "    </tr>\n",
              "    <tr>\n",
              "      <th>2019-01-07</th>\n",
              "      <td>2566.159912</td>\n",
              "      <td>2524.560059</td>\n",
              "      <td>2535.610107</td>\n",
              "      <td>2549.689941</td>\n",
              "      <td>4104710000</td>\n",
              "      <td>2549.689941</td>\n",
              "    </tr>\n",
              "    <tr>\n",
              "      <th>2019-01-08</th>\n",
              "      <td>2579.820068</td>\n",
              "      <td>2547.560059</td>\n",
              "      <td>2568.110107</td>\n",
              "      <td>2574.409912</td>\n",
              "      <td>4083030000</td>\n",
              "      <td>2574.409912</td>\n",
              "    </tr>\n",
              "    <tr>\n",
              "      <th>...</th>\n",
              "      <td>...</td>\n",
              "      <td>...</td>\n",
              "      <td>...</td>\n",
              "      <td>...</td>\n",
              "      <td>...</td>\n",
              "      <td>...</td>\n",
              "    </tr>\n",
              "    <tr>\n",
              "      <th>2020-12-24</th>\n",
              "      <td>3703.820068</td>\n",
              "      <td>3689.320068</td>\n",
              "      <td>3694.030029</td>\n",
              "      <td>3703.060059</td>\n",
              "      <td>1885090000</td>\n",
              "      <td>3703.060059</td>\n",
              "    </tr>\n",
              "    <tr>\n",
              "      <th>2020-12-28</th>\n",
              "      <td>3740.510010</td>\n",
              "      <td>3723.030029</td>\n",
              "      <td>3723.030029</td>\n",
              "      <td>3735.360107</td>\n",
              "      <td>3527460000</td>\n",
              "      <td>3735.360107</td>\n",
              "    </tr>\n",
              "    <tr>\n",
              "      <th>2020-12-29</th>\n",
              "      <td>3756.120117</td>\n",
              "      <td>3723.310059</td>\n",
              "      <td>3750.010010</td>\n",
              "      <td>3727.040039</td>\n",
              "      <td>3387030000</td>\n",
              "      <td>3727.040039</td>\n",
              "    </tr>\n",
              "    <tr>\n",
              "      <th>2020-12-30</th>\n",
              "      <td>3744.629883</td>\n",
              "      <td>3730.209961</td>\n",
              "      <td>3736.189941</td>\n",
              "      <td>3732.040039</td>\n",
              "      <td>3145200000</td>\n",
              "      <td>3732.040039</td>\n",
              "    </tr>\n",
              "    <tr>\n",
              "      <th>2020-12-31</th>\n",
              "      <td>3760.199951</td>\n",
              "      <td>3726.879883</td>\n",
              "      <td>3733.270020</td>\n",
              "      <td>3756.070068</td>\n",
              "      <td>3172510000</td>\n",
              "      <td>3756.070068</td>\n",
              "    </tr>\n",
              "  </tbody>\n",
              "</table>\n",
              "<p>505 rows × 6 columns</p>\n",
              "</div>"
            ],
            "text/plain": [
              "                   High          Low  ...      Volume    Adj Close\n",
              "Date                                  ...                         \n",
              "2019-01-02  2519.489990  2467.469971  ...  3733160000  2510.030029\n",
              "2019-01-03  2493.139893  2443.959961  ...  3822860000  2447.889893\n",
              "2019-01-04  2538.070068  2474.330078  ...  4213410000  2531.939941\n",
              "2019-01-07  2566.159912  2524.560059  ...  4104710000  2549.689941\n",
              "2019-01-08  2579.820068  2547.560059  ...  4083030000  2574.409912\n",
              "...                 ...          ...  ...         ...          ...\n",
              "2020-12-24  3703.820068  3689.320068  ...  1885090000  3703.060059\n",
              "2020-12-28  3740.510010  3723.030029  ...  3527460000  3735.360107\n",
              "2020-12-29  3756.120117  3723.310059  ...  3387030000  3727.040039\n",
              "2020-12-30  3744.629883  3730.209961  ...  3145200000  3732.040039\n",
              "2020-12-31  3760.199951  3726.879883  ...  3172510000  3756.070068\n",
              "\n",
              "[505 rows x 6 columns]"
            ]
          },
          "metadata": {
            "tags": []
          },
          "execution_count": 42
        }
      ]
    },
    {
      "cell_type": "code",
      "metadata": {
        "colab": {
          "base_uri": "https://localhost:8080/",
          "height": 17
        },
        "id": "Q277nHPVMQYV",
        "outputId": "9d058c9e-3f6b-4154-b9e1-1191dcfd7344"
      },
      "source": [
        "#Exportar Datos\r\n",
        "df.to_csv('S&P500.csv', encoding='utf-8')\r\n",
        "from google.colab import files \r\n",
        "files.download('S&P500.csv')"
      ],
      "execution_count": 18,
      "outputs": [
        {
          "output_type": "display_data",
          "data": {
            "application/javascript": [
              "\n",
              "    async function download(id, filename, size) {\n",
              "      if (!google.colab.kernel.accessAllowed) {\n",
              "        return;\n",
              "      }\n",
              "      const div = document.createElement('div');\n",
              "      const label = document.createElement('label');\n",
              "      label.textContent = `Downloading \"${filename}\": `;\n",
              "      div.appendChild(label);\n",
              "      const progress = document.createElement('progress');\n",
              "      progress.max = size;\n",
              "      div.appendChild(progress);\n",
              "      document.body.appendChild(div);\n",
              "\n",
              "      const buffers = [];\n",
              "      let downloaded = 0;\n",
              "\n",
              "      const channel = await google.colab.kernel.comms.open(id);\n",
              "      // Send a message to notify the kernel that we're ready.\n",
              "      channel.send({})\n",
              "\n",
              "      for await (const message of channel.messages) {\n",
              "        // Send a message to notify the kernel that we're ready.\n",
              "        channel.send({})\n",
              "        if (message.buffers) {\n",
              "          for (const buffer of message.buffers) {\n",
              "            buffers.push(buffer);\n",
              "            downloaded += buffer.byteLength;\n",
              "            progress.value = downloaded;\n",
              "          }\n",
              "        }\n",
              "      }\n",
              "      const blob = new Blob(buffers, {type: 'application/binary'});\n",
              "      const a = document.createElement('a');\n",
              "      a.href = window.URL.createObjectURL(blob);\n",
              "      a.download = filename;\n",
              "      div.appendChild(a);\n",
              "      a.click();\n",
              "      div.remove();\n",
              "    }\n",
              "  "
            ],
            "text/plain": [
              "<IPython.core.display.Javascript object>"
            ]
          },
          "metadata": {
            "tags": []
          }
        },
        {
          "output_type": "display_data",
          "data": {
            "application/javascript": [
              "download(\"download_576b81c8-ce36-43a1-bfa7-10b0c6c20e32\", \"S&P500.csv\", 53660)"
            ],
            "text/plain": [
              "<IPython.core.display.Javascript object>"
            ]
          },
          "metadata": {
            "tags": []
          }
        }
      ]
    },
    {
      "cell_type": "code",
      "metadata": {
        "id": "J_Hhg8lxRSr6"
      },
      "source": [
        "# pip install requests\r\n",
        "# import requests"
      ],
      "execution_count": 32,
      "outputs": []
    },
    {
      "cell_type": "code",
      "metadata": {
        "id": "a3bR0kNSRc7n"
      },
      "source": [
        "# df2 = open(\"S&P500.csv\", \"rb\")"
      ],
      "execution_count": 33,
      "outputs": []
    },
    {
      "cell_type": "code",
      "metadata": {
        "colab": {
          "resources": {
            "http://localhost:8080/nbextensions/google.colab/files.js": {
              "data": "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",
              "ok": true,
              "headers": [
                [
                  "content-type",
                  "application/javascript"
                ]
              ],
              "status": 200,
              "status_text": ""
            }
          },
          "base_uri": "https://localhost:8080/",
          "height": 109
        },
        "id": "n69qQKIlI_Mn",
        "outputId": "34b530d7-d2f2-4fcb-d9c3-2eefa76c8eab"
      },
      "source": [
        "#Load the data\r\n",
        "from google.colab import files \r\n",
        "files.upload()"
      ],
      "execution_count": 19,
      "outputs": [
        {
          "output_type": "display_data",
          "data": {
            "text/html": [
              "\n",
              "     <input type=\"file\" id=\"files-d96b41fc-a829-4aa3-af07-18995ca60e16\" name=\"files[]\" multiple disabled\n",
              "        style=\"border:none\" />\n",
              "     <output id=\"result-d96b41fc-a829-4aa3-af07-18995ca60e16\">\n",
              "      Upload widget is only available when the cell has been executed in the\n",
              "      current browser session. Please rerun this cell to enable.\n",
              "      </output>\n",
              "      <script src=\"/nbextensions/google.colab/files.js\"></script> "
            ],
            "text/plain": [
              "<IPython.core.display.HTML object>"
            ]
          },
          "metadata": {
            "tags": []
          }
        },
        {
          "output_type": "stream",
          "text": [
            "Saving S&P500.csv to S&P500 (2).csv\n"
          ],
          "name": "stdout"
        },
        {
          "output_type": "execute_result",
          "data": {
            "text/plain": [
              "{'S&P500.csv': b'Date,High,Low,Open,Close,Volume,Adj Close\\r\\n1/2/2019,2519.48999,2467.469971,2476.959961,2510.030029,3733160000,2510.030029\\r\\n1/3/2019,2493.139893,2443.959961,2491.919922,2447.889893,3822860000,2447.889893\\r\\n1/4/2019,2538.070068,2474.330078,2474.330078,2531.939941,4213410000,2531.939941\\r\\n1/7/2019,2566.159912,2524.560059,2535.610107,2549.689941,4104710000,2549.689941\\r\\n1/8/2019,2579.820068,2547.560059,2568.110107,2574.409912,4083030000,2574.409912\\r\\n1/9/2019,2595.320068,2568.889893,2580,2584.959961,4052480000,2584.959961\\r\\n1/10/2019,2597.820068,2562.02002,2573.51001,2596.639893,3704500000,2596.639893\\r\\n1/11/2019,2596.27002,2577.399902,2588.110107,2596.26001,3434490000,2596.26001\\r\\n1/14/2019,2589.320068,2570.409912,2580.310059,2582.610107,3664450000,2582.610107\\r\\n1/15/2019,2613.080078,2585.100098,2585.100098,2610.300049,3572330000,2610.300049\\r\\n1/16/2019,2625.76001,2612.679932,2614.75,2616.100098,3863770000,2616.100098\\r\\n1/17/2019,2645.060059,2606.360107,2609.280029,2635.959961,3772270000,2635.959961\\r\\n1/18/2019,2675.469971,2647.580078,2651.27002,2670.709961,3986730000,2670.709961\\r\\n1/22/2019,2657.879883,2617.27002,2657.879883,2632.899902,3908030000,2632.899902\\r\\n1/23/2019,2653.189941,2612.860107,2643.47998,2638.699951,3335610000,2638.699951\\r\\n1/24/2019,2647.199951,2627.01001,2638.840088,2642.330078,3433250000,2642.330078\\r\\n1/25/2019,2672.379883,2657.330078,2657.439941,2664.76001,3814080000,2664.76001\\r\\n1/28/2019,2644.969971,2624.060059,2644.969971,2643.850098,3612810000,2643.850098\\r\\n1/29/2019,2650.929932,2631.050049,2644.889893,2640,3504200000,2640\\r\\n1/30/2019,2690.439941,2648.340088,2653.620117,2681.050049,3867810000,2681.050049\\r\\n1/31/2019,2708.949951,2678.649902,2685.48999,2704.100098,4917650000,2704.100098\\r\\n2/1/2019,2716.659912,2696.879883,2702.320068,2706.530029,3759270000,2706.530029\\r\\n2/4/2019,2724.98999,2698.75,2706.48999,2724.870117,3359840000,2724.870117\\r\\n2/5/2019,2738.97998,2724.030029,2728.340088,2737.699951,3560430000,2737.699951\\r\\n2/6/2019,2738.080078,2724.149902,2735.050049,2731.610107,3472690000,2731.610107\\r\\n2/7/2019,2719.320068,2687.26001,2717.530029,2706.050049,4099490000,2706.050049\\r\\n2/8/2019,2708.070068,2681.830078,2692.360107,2707.879883,3622330000,2707.879883\\r\\n2/11/2019,2718.050049,2703.790039,2712.399902,2709.800049,3361970000,2709.800049\\r\\n2/12/2019,2748.189941,2722.610107,2722.610107,2744.72998,3827770000,2744.72998\\r\\n2/13/2019,2761.850098,2748.629883,2750.300049,2753.030029,3670770000,2753.030029\\r\\n2/14/2019,2757.899902,2731.22998,2743.5,2745.72998,3836700000,2745.72998\\r\\n2/15/2019,2775.659912,2760.23999,2760.23999,2775.600098,3641370000,2775.600098\\r\\n2/19/2019,2787.330078,2767.290039,2769.280029,2779.76001,3533710000,2779.76001\\r\\n2/20/2019,2789.879883,2774.060059,2779.050049,2784.699951,3835450000,2784.699951\\r\\n2/21/2019,2781.580078,2764.550049,2780.23999,2774.879883,3559710000,2774.879883\\r\\n2/22/2019,2794.199951,2779.110107,2780.669922,2792.669922,3427810000,2792.669922\\r\\n2/25/2019,2813.48999,2794.98999,2804.350098,2796.110107,3804380000,2796.110107\\r\\n2/26/2019,2803.120117,2789.469971,2792.360107,2793.899902,3645680000,2793.899902\\r\\n2/27/2019,2795.76001,2775.129883,2787.5,2792.379883,3767130000,2792.379883\\r\\n2/28/2019,2793.72998,2782.51001,2788.110107,2784.48999,4396930000,2784.48999\\r\\n3/1/2019,2808.02002,2787.379883,2798.219971,2803.689941,3972280000,2803.689941\\r\\n3/4/2019,2816.879883,2767.659912,2814.370117,2792.810059,3919810000,2792.810059\\r\\n3/5/2019,2796.439941,2782.969971,2794.409912,2789.649902,3585690000,2789.649902\\r\\n3/6/2019,2790.27002,2768.689941,2790.27002,2771.449951,3786600000,2771.449951\\r\\n3/7/2019,2767.25,2739.090088,2766.530029,2748.929932,3904860000,2748.929932\\r\\n3/8/2019,2744.129883,2722.27002,2730.790039,2743.070068,3423130000,2743.070068\\r\\n3/11/2019,2784,2747.610107,2747.610107,2783.300049,3749030000,2783.300049\\r\\n3/12/2019,2798.320068,2786.72998,2787.340088,2791.52002,3414230000,2791.52002\\r\\n3/13/2019,2821.23999,2799.780029,2799.780029,2810.919922,3766150000,2810.919922\\r\\n3/14/2019,2815,2803.459961,2810.379883,2808.47998,3469730000,2808.47998\\r\\n3/15/2019,2830.72998,2810.790039,2810.790039,2822.47998,5962730000,2822.47998\\r\\n3/18/2019,2835.409912,2821.98999,2822.610107,2832.939941,3552190000,2832.939941\\r\\n3/19/2019,2852.419922,2823.27002,2840.76001,2832.570068,3620220000,2832.570068\\r\\n3/20/2019,2843.540039,2812.429932,2831.340088,2824.22998,3771200000,2824.22998\\r\\n3/21/2019,2860.310059,2817.379883,2819.719971,2854.879883,3546800000,2854.879883\\r\\n3/22/2019,2846.159912,2800.469971,2844.52002,2800.709961,4237200000,2800.709961\\r\\n3/25/2019,2809.790039,2785.02002,2796.01001,2798.360107,3376580000,2798.360107\\r\\n3/26/2019,2829.870117,2803.98999,2812.659912,2818.459961,3266050000,2818.459961\\r\\n3/27/2019,2825.560059,2787.719971,2819.719971,2805.370117,3372930000,2805.370117\\r\\n3/28/2019,2819.709961,2798.77002,2809.399902,2815.439941,3158170000,2815.439941\\r\\n3/29/2019,2836.030029,2819.22998,2828.27002,2834.399902,3740700000,2834.399902\\r\\n4/1/2019,2869.399902,2848.629883,2848.629883,2867.189941,3500760000,2867.189941\\r\\n4/2/2019,2872.899902,2858.75,2868.23999,2867.23999,3246900000,2867.23999\\r\\n4/3/2019,2885.25,2865.169922,2876.090088,2873.399902,3550240000,2873.399902\\r\\n4/4/2019,2881.280029,2867.139893,2873.98999,2879.389893,3015180000,2879.389893\\r\\n4/5/2019,2893.23999,2882.98999,2884.159912,2892.73999,3146820000,2892.73999\\r\\n4/8/2019,2895.949951,2880.780029,2888.459961,2895.77002,3054030000,2895.77002\\r\\n4/9/2019,2886.879883,2873.330078,2886.580078,2878.199951,3007980000,2878.199951\\r\\n4/10/2019,2889.709961,2879.129883,2881.370117,2888.209961,3062380000,2888.209961\\r\\n4/11/2019,2893.419922,2881.98999,2891.919922,2888.320068,2938540000,2888.320068\\r\\n4/12/2019,2910.540039,2898.370117,2900.860107,2907.409912,3688490000,2907.409912\\r\\n4/15/2019,2909.600098,2896.47998,2908.320068,2905.580078,3088330000,2905.580078\\r\\n4/16/2019,2916.060059,2900.709961,2912.26001,2907.060059,3402210000,2907.060059\\r\\n4/17/2019,2918,2895.449951,2916.040039,2900.449951,3602300000,2900.449951\\r\\n4/18/2019,2908.399902,2891.899902,2904.810059,2905.030029,3506850000,2905.030029\\r\\n4/22/2019,2909.51001,2896.350098,2898.780029,2907.969971,2997950000,2907.969971\\r\\n4/23/2019,2936.310059,2908.530029,2909.98999,2933.679932,3635030000,2933.679932\\r\\n4/24/2019,2936.830078,2926.050049,2934,2927.25,3448960000,2927.25\\r\\n4/25/2019,2933.100098,2912.840088,2928.98999,2926.169922,3425280000,2926.169922\\r\\n4/26/2019,2939.879883,2917.560059,2925.810059,2939.879883,3248500000,2939.879883\\r\\n4/29/2019,2949.52002,2939.350098,2940.580078,2943.030029,3118780000,2943.030029\\r\\n4/30/2019,2948.219971,2924.110107,2937.139893,2945.830078,3919330000,2945.830078\\r\\n5/1/2019,2954.129883,2923.360107,2952.330078,2923.72998,3645850000,2923.72998\\r\\n5/2/2019,2931.679932,2900.5,2922.159912,2917.52002,3778890000,2917.52002\\r\\n5/3/2019,2947.850098,2929.209961,2929.209961,2945.639893,3338120000,2945.639893\\r\\n5/6/2019,2937.320068,2898.209961,2908.889893,2932.469971,3181520000,2932.469971\\r\\n5/7/2019,2913.030029,2862.600098,2913.030029,2884.050049,3767100000,2884.050049\\r\\n5/8/2019,2897.959961,2873.280029,2879.610107,2879.419922,3485790000,2879.419922\\r\\n5/9/2019,2875.969971,2836.399902,2859.840088,2870.719971,3638820000,2870.719971\\r\\n5/10/2019,2891.310059,2825.389893,2863.100098,2881.399902,3529600000,2881.399902\\r\\n5/13/2019,2840.189941,2801.429932,2840.189941,2811.870117,3894030000,2811.870117\\r\\n5/14/2019,2852.540039,2820.120117,2820.120117,2834.409912,3322720000,2834.409912\\r\\n5/15/2019,2858.679932,2815.080078,2820.379883,2850.959961,3125950000,2850.959961\\r\\n5/16/2019,2892.149902,2855.800049,2855.800049,2876.320068,3338060000,2876.320068\\r\\n5/17/2019,2885.47998,2854.22998,2858.600098,2859.530029,3257950000,2859.530029\\r\\n5/20/2019,2853.860107,2831.290039,2841.939941,2840.22998,3288870000,2840.22998\\r\\n5/21/2019,2868.879883,2854.02002,2854.02002,2864.360107,3218700000,2864.360107\\r\\n5/22/2019,2865.469971,2851.110107,2856.060059,2856.27002,3192510000,2856.27002\\r\\n5/23/2019,2836.699951,2805.48999,2836.699951,2822.23999,3891980000,2822.23999\\r\\n5/24/2019,2841.360107,2820.189941,2832.409912,2826.060059,2887390000,2826.060059\\r\\n5/28/2019,2840.51001,2801.580078,2830.030029,2802.389893,4121410000,2802.389893\\r\\n5/29/2019,2792.030029,2766.060059,2790.25,2783.02002,3700050000,2783.02002\\r\\n5/30/2019,2799,2776.73999,2786.939941,2788.860107,3273790000,2788.860107\\r\\n5/31/2019,2768.97998,2750.52002,2766.149902,2752.060059,3981020000,2752.060059\\r\\n6/3/2019,2763.070068,2728.810059,2751.530029,2744.449951,3966700000,2744.449951\\r\\n6/4/2019,2804.48999,2762.639893,2762.639893,2803.27002,3810430000,2803.27002\\r\\n6/5/2019,2827.280029,2800.919922,2818.090088,2826.149902,3548830000,2826.149902\\r\\n6/6/2019,2852.100098,2822.449951,2828.51001,2843.48999,3396410000,2843.48999\\r\\n6/7/2019,2884.969971,2852.870117,2852.870117,2873.340088,3220250000,2873.340088\\r\\n6/10/2019,2904.77002,2885.51001,2885.830078,2886.72998,3209210000,2886.72998\\r\\n6/11/2019,2910.610107,2878.530029,2903.27002,2885.719971,3548420000,2885.719971\\r\\n6/12/2019,2888.570068,2874.679932,2882.72998,2879.840088,3034130000,2879.840088\\r\\n6/13/2019,2895.23999,2881.98999,2886.23999,2891.639893,3069810000,2891.639893\\r\\n6/14/2019,2894.449951,2879.620117,2886.820068,2886.97998,2922330000,2886.97998\\r\\n6/17/2019,2897.27002,2887.300049,2889.75,2889.669922,2810140000,2889.669922\\r\\n6/18/2019,2930.790039,2905.439941,2906.709961,2917.75,3437620000,2917.75\\r\\n6/19/2019,2931.73999,2911.429932,2920.550049,2926.459961,3287890000,2926.459961\\r\\n6/20/2019,2958.060059,2931.5,2949.600098,2954.179932,3905940000,2954.179932\\r\\n6/21/2019,2964.149902,2946.870117,2952.709961,2950.459961,5000120000,2950.459961\\r\\n6/24/2019,2954.919922,2944.050049,2951.419922,2945.350098,3136250000,2945.350098\\r\\n6/25/2019,2946.52002,2916.01001,2945.780029,2917.379883,3578050000,2917.379883\\r\\n6/26/2019,2932.590088,2912.98999,2926.070068,2913.780029,3478130000,2913.780029\\r\\n6/27/2019,2929.300049,2918.570068,2919.659912,2924.919922,3122920000,2924.919922\\r\\n6/28/2019,2943.97998,2929.050049,2932.939941,2941.76001,5420700000,2941.76001\\r\\n7/1/2019,2977.929932,2952.219971,2971.409912,2964.330078,3513270000,2964.330078\\r\\n7/2/2019,2973.209961,2955.919922,2964.659912,2973.01001,3206840000,2973.01001\\r\\n7/3/2019,2995.840088,2977.959961,2978.080078,2995.820068,1963720000,2995.820068\\r\\n7/5/2019,2994.030029,2967.969971,2984.25,2990.409912,2434210000,2990.409912\\r\\n7/8/2019,2980.76001,2970.090088,2979.77002,2975.949951,2904550000,2975.949951\\r\\n7/9/2019,2981.899902,2963.439941,2965.52002,2979.629883,3028210000,2979.629883\\r\\n7/10/2019,3002.97998,2984.620117,2989.300049,2993.070068,3154240000,2993.070068\\r\\n7/11/2019,3002.330078,2988.800049,2999.620117,2999.909912,3154620000,2999.909912\\r\\n7/12/2019,3013.919922,3001.870117,3003.360107,3013.77002,2974960000,3013.77002\\r\\n7/15/2019,3017.800049,3008.77002,3017.800049,3014.300049,2874970000,3014.300049\\r\\n7/16/2019,3015.02002,3001.149902,3012.129883,3004.040039,3290650000,3004.040039\\r\\n7/17/2019,3005.26001,2984.25,3005.100098,2984.419922,3181600000,2984.419922\\r\\n7/18/2019,2998.280029,2973.090088,2978.870117,2995.110107,3296580000,2995.110107\\r\\n7/19/2019,3006.02002,2975.860107,3004.26001,2976.610107,3260360000,2976.610107\\r\\n7/22/2019,2990.709961,2976.649902,2981.929932,2985.030029,3003720000,2985.030029\\r\\n7/23/2019,3005.899902,2988.560059,2994.73999,3005.469971,3313660000,3005.469971\\r\\n7/24/2019,3019.590088,2996.820068,2998.77002,3019.560059,3428980000,3019.560059\\r\\n7/25/2019,3016.310059,2997.23999,3016.26001,3003.669922,3645270000,3003.669922\\r\\n7/26/2019,3027.97998,3012.590088,3013.25,3025.860107,3257590000,3025.860107\\r\\n7/29/2019,3025.610107,3014.300049,3024.469971,3020.969971,3203710000,3020.969971\\r\\n7/30/2019,3017.189941,3000.939941,3007.659912,3013.179932,3634330000,3013.179932\\r\\n7/31/2019,3017.399902,2958.080078,3016.219971,2980.379883,4623430000,2980.379883\\r\\n8/1/2019,3013.590088,2945.22998,2980.320068,2953.560059,4762300000,2953.560059\\r\\n8/2/2019,2945.5,2914.110107,2943.899902,2932.050049,3874660000,2932.050049\\r\\n8/5/2019,2898.070068,2822.120117,2898.070068,2844.73999,4513730000,2844.73999\\r\\n8/6/2019,2884.399902,2847.419922,2861.179932,2881.77002,4154240000,2881.77002\\r\\n8/7/2019,2892.169922,2825.709961,2858.649902,2883.97998,4491750000,2883.97998\\r\\n8/8/2019,2938.719971,2894.469971,2896.209961,2938.090088,4106370000,2938.090088\\r\\n8/9/2019,2935.75,2900.149902,2930.51001,2918.649902,3350640000,2918.649902\\r\\n8/12/2019,2907.580078,2873.139893,2907.070068,2882.699951,2851630000,2882.699951\\r\\n8/13/2019,2943.310059,2877.050049,2880.719971,2926.320068,3853600000,2926.320068\\r\\n8/14/2019,2894.149902,2839.639893,2894.149902,2840.600098,4312530000,2840.600098\\r\\n8/15/2019,2856.669922,2825.51001,2846.199951,2847.600098,4038000000,2847.600098\\r\\n8/16/2019,2893.629883,2864.73999,2864.73999,2888.679932,3498150000,2888.679932\\r\\n8/19/2019,2931,2913.47998,2913.47998,2923.649902,3212880000,2923.649902\\r\\n8/20/2019,2923.629883,2899.600098,2919.01001,2900.51001,3066300000,2900.51001\\r\\n8/21/2019,2928.72998,2917.909912,2922.040039,2924.429932,3011190000,2924.429932\\r\\n8/22/2019,2939.080078,2904.51001,2930.939941,2922.949951,2890880000,2922.949951\\r\\n8/23/2019,2927.01001,2834.969971,2911.070068,2847.110107,3937300000,2847.110107\\r\\n8/26/2019,2879.27002,2856,2866.699951,2878.379883,2857600000,2878.379883\\r\\n8/27/2019,2898.790039,2860.590088,2893.139893,2869.159912,3533630000,2869.159912\\r\\n8/28/2019,2890.030029,2853.050049,2861.280029,2887.939941,3097420000,2887.939941\\r\\n8/29/2019,2930.5,2905.669922,2910.370117,2924.580078,3176190000,2924.580078\\r\\n8/30/2019,2940.429932,2913.320068,2937.090088,2926.459961,3008450000,2926.459961\\r\\n9/3/2019,2914.389893,2891.850098,2909.01001,2906.27002,3426790000,2906.27002\\r\\n9/4/2019,2938.840088,2921.860107,2924.669922,2937.780029,3163260000,2937.780029\\r\\n9/5/2019,2985.860107,2960.600098,2960.600098,2976,3890700000,2976\\r\\n9/6/2019,2985.030029,2972.51001,2980.330078,2978.709961,3208280000,2978.709961\\r\\n9/9/2019,2989.429932,2969.389893,2988.429932,2978.429932,4002890000,2978.429932\\r\\n9/10/2019,2979.389893,2957.01001,2971.01001,2979.389893,4390770000,2979.389893\\r\\n9/11/2019,3000.929932,2975.310059,2981.409912,3000.929932,3927550000,3000.929932\\r\\n9/12/2019,3020.73999,3000.919922,3009.080078,3009.570068,3791860000,3009.570068\\r\\n9/13/2019,3017.330078,3002.899902,3012.209961,3007.389893,3520060000,3007.389893\\r\\n9/16/2019,3002.189941,2990.669922,2996.409912,2997.959961,4274640000,2997.959961\\r\\n9/17/2019,3006.209961,2993.72998,2995.669922,3005.699951,3671840000,3005.699951\\r\\n9/18/2019,3007.830078,2978.570068,3001.5,3006.72998,3435540000,3006.72998\\r\\n9/19/2019,3021.98999,3003.159912,3010.360107,3006.790039,3251290000,3006.790039\\r\\n9/20/2019,3016.370117,2984.679932,3008.419922,2992.070068,6094740000,2992.070068\\r\\n9/23/2019,2999.149902,2982.22998,2983.5,2991.780029,3186590000,2991.780029\\r\\n9/24/2019,3007.97998,2957.72998,3002.429932,2966.600098,3868160000,2966.600098\\r\\n9/25/2019,2989.820068,2952.860107,2968.350098,2984.870117,3318870000,2984.870117\\r\\n9/26/2019,2987.280029,2963.709961,2985.72998,2977.620117,3077240000,2977.620117\\r\\n9/27/2019,2987.310059,2945.530029,2985.469971,2961.790039,3243650000,2961.790039\\r\\n9/30/2019,2983.850098,2967.070068,2967.070068,2976.73999,3247610000,2976.73999\\r\\n10/1/2019,2992.530029,2938.699951,2983.689941,2940.25,3558040000,2940.25\\r\\n10/2/2019,2924.780029,2874.929932,2924.780029,2887.610107,3912520000,2887.610107\\r\\n10/3/2019,2911.129883,2855.939941,2885.379883,2910.629883,3503640000,2910.629883\\r\\n10/4/2019,2953.73999,2918.560059,2918.560059,2952.01001,2990830000,2952.01001\\r\\n10/7/2019,2959.75,2935.679932,2944.22998,2938.790039,2940140000,2938.790039\\r\\n10/8/2019,2925.469971,2892.659912,2920.399902,2893.060059,3356450000,2893.060059\\r\\n10/9/2019,2929.320068,2907.409912,2911.100098,2919.399902,2726820000,2919.399902\\r\\n10/10/2019,2948.459961,2917.120117,2918.550049,2938.129883,3217250000,2938.129883\\r\\n10/11/2019,2993.280029,2963.070068,2963.070068,2970.27002,3580460000,2970.27002\\r\\n10/14/2019,2972.840088,2962.939941,2965.810059,2966.149902,2557020000,2966.149902\\r\\n10/15/2019,3003.280029,2973.610107,2973.610107,2995.679932,3340740000,2995.679932\\r\\n10/16/2019,2997.540039,2985.199951,2989.679932,2989.689941,3222570000,2989.689941\\r\\n10/17/2019,3008.290039,2991.790039,3000.77002,2997.949951,3115960000,2997.949951\\r\\n10/18/2019,3000,2976.310059,2996.840088,2986.199951,3264290000,2986.199951\\r\\n10/21/2019,3007.330078,2995.350098,2996.47998,3006.719971,3271620000,3006.719971\\r\\n10/22/2019,3014.570068,2995.040039,3010.72998,2995.98999,3523890000,2995.98999\\r\\n10/23/2019,3004.780029,2991.209961,2994.01001,3004.52002,3392870000,3004.52002\\r\\n10/24/2019,3016.070068,3000.419922,3014.780029,3010.290039,3692600000,3010.290039\\r\\n10/25/2019,3027.389893,3001.939941,3003.320068,3022.550049,3370370000,3022.550049\\r\\n10/28/2019,3044.080078,3032.120117,3032.120117,3039.419922,3521230000,3039.419922\\r\\n10/29/2019,3047.870117,3034.810059,3035.389893,3036.889893,3589930000,3036.889893\\r\\n10/30/2019,3050.100098,3025.959961,3039.73999,3046.77002,3776030000,3046.77002\\r\\n10/31/2019,3046.899902,3023.189941,3046.899902,3037.560059,4139280000,3037.560059\\r\\n11/1/2019,3066.949951,3050.719971,3050.719971,3066.909912,3930200000,3066.909912\\r\\n11/4/2019,3085.199951,3074.870117,3078.959961,3078.27002,4146850000,3078.27002\\r\\n11/5/2019,3083.949951,3072.149902,3080.800049,3074.620117,4486130000,3074.620117\\r\\n11/6/2019,3078.340088,3065.889893,3075.100098,3076.780029,4458190000,3076.780029\\r\\n11/7/2019,3097.77002,3080.22998,3087.02002,3085.179932,4144640000,3085.179932\\r\\n11/8/2019,3093.090088,3073.580078,3081.25,3093.080078,3499150000,3093.080078\\r\\n11/11/2019,3088.330078,3075.820068,3080.330078,3087.01001,3035530000,3087.01001\\r\\n11/12/2019,3102.610107,3084.72998,3089.280029,3091.840088,3466010000,3091.840088\\r\\n11/13/2019,3098.060059,3078.800049,3084.179932,3094.040039,3509280000,3094.040039\\r\\n11/14/2019,3098.199951,3083.26001,3090.75,3096.629883,3276070000,3096.629883\\r\\n11/15/2019,3120.459961,3104.600098,3107.919922,3120.459961,3335650000,3120.459961\\r\\n11/18/2019,3124.169922,3112.060059,3117.909912,3122.030029,3436690000,3122.030029\\r\\n11/19/2019,3127.639893,3113.469971,3127.449951,3120.179932,3590070000,3120.179932\\r\\n11/20/2019,3118.969971,3091.409912,3114.659912,3108.459961,4034890000,3108.459961\\r\\n11/21/2019,3110.110107,3094.550049,3108.48999,3103.540039,3720560000,3103.540039\\r\\n11/22/2019,3112.870117,3099.26001,3111.409912,3110.290039,3226780000,3110.290039\\r\\n11/25/2019,3133.830078,3117.439941,3117.439941,3133.639893,3511530000,3133.639893\\r\\n11/26/2019,3142.689941,3131,3134.850098,3140.52002,4595590000,3140.52002\\r\\n11/27/2019,3154.26001,3143.409912,3145.48999,3153.629883,3033090000,3153.629883\\r\\n11/29/2019,3150.300049,3139.340088,3147.179932,3140.97998,1743020000,3140.97998\\r\\n12/2/2019,3144.310059,3110.780029,3143.850098,3113.870117,3268740000,3113.870117\\r\\n12/3/2019,3094.969971,3070.330078,3087.409912,3093.199951,3653390000,3093.199951\\r\\n12/4/2019,3119.379883,3102.530029,3103.5,3112.76001,3695030000,3112.76001\\r\\n12/5/2019,3119.449951,3103.76001,3119.209961,3117.429932,3355750000,3117.429932\\r\\n12/6/2019,3150.600098,3134.620117,3134.620117,3145.909912,3479480000,3145.909912\\r\\n12/9/2019,3148.870117,3135.459961,3141.860107,3135.959961,3345990000,3135.959961\\r\\n12/10/2019,3142.120117,3126.090088,3135.360107,3132.52002,3343790000,3132.52002\\r\\n12/11/2019,3143.97998,3133.209961,3135.75,3141.629883,3252540000,3141.629883\\r\\n12/12/2019,3176.280029,3138.469971,3141.22998,3168.570068,3990690000,3168.570068\\r\\n12/13/2019,3182.679932,3156.51001,3166.649902,3168.800049,3736870000,3168.800049\\r\\n12/16/2019,3197.709961,3183.629883,3183.629883,3191.449951,4051790000,3191.449951\\r\\n12/17/2019,3198.219971,3191.030029,3195.399902,3192.52002,3837540000,3192.52002\\r\\n12/18/2019,3198.47998,3191.139893,3195.209961,3191.139893,4014080000,3191.139893\\r\\n12/19/2019,3205.47998,3192.320068,3192.320068,3205.370117,3720450000,3205.370117\\r\\n12/20/2019,3225.649902,3216.030029,3223.330078,3221.219971,6454270000,3221.219971\\r\\n12/23/2019,3227.780029,3222.300049,3226.050049,3224.01001,3060610000,3224.01001\\r\\n12/24/2019,3226.429932,3220.51001,3225.449951,3223.379883,1296540000,3223.379883\\r\\n12/26/2019,3240.080078,3227.199951,3227.199951,3239.909912,2160680000,3239.909912\\r\\n12/27/2019,3247.929932,3234.370117,3247.22998,3240.02002,2428670000,3240.02002\\r\\n12/30/2019,3240.919922,3216.570068,3240.090088,3221.290039,3013290000,3221.290039\\r\\n12/31/2019,3231.719971,3212.030029,3215.179932,3230.780029,2893810000,3230.780029\\r\\n1/2/2020,3258.139893,3235.530029,3244.669922,3257.850098,3458250000,3257.850098\\r\\n1/3/2020,3246.149902,3222.340088,3226.360107,3234.850098,3461290000,3234.850098\\r\\n1/6/2020,3246.840088,3214.639893,3217.550049,3246.280029,3674070000,3246.280029\\r\\n1/7/2020,3244.909912,3232.429932,3241.860107,3237.179932,3420380000,3237.179932\\r\\n1/8/2020,3267.070068,3236.669922,3238.590088,3253.050049,3720890000,3253.050049\\r\\n1/9/2020,3275.580078,3263.669922,3266.030029,3274.699951,3638390000,3274.699951\\r\\n1/10/2020,3282.98999,3260.860107,3281.810059,3265.350098,3212970000,3265.350098\\r\\n1/13/2020,3288.129883,3268.429932,3271.129883,3288.129883,3456380000,3288.129883\\r\\n1/14/2020,3294.25,3277.189941,3285.350098,3283.149902,3665130000,3283.149902\\r\\n1/15/2020,3298.659912,3280.689941,3282.27002,3289.290039,3716840000,3289.290039\\r\\n1/16/2020,3317.110107,3302.820068,3302.969971,3316.810059,3535080000,3316.810059\\r\\n1/17/2020,3329.879883,3318.860107,3323.659912,3329.620117,3698170000,3329.620117\\r\\n1/21/2020,3329.790039,3316.610107,3321.030029,3320.790039,4105340000,3320.790039\\r\\n1/22/2020,3337.77002,3320.040039,3330.02002,3321.75,3619850000,3321.75\\r\\n1/23/2020,3326.879883,3301.870117,3315.77002,3325.540039,3764860000,3325.540039\\r\\n1/24/2020,3333.179932,3281.530029,3333.100098,3295.469971,3707130000,3295.469971\\r\\n1/27/2020,3258.850098,3234.5,3247.159912,3243.629883,3823100000,3243.629883\\r\\n1/28/2020,3285.780029,3253.219971,3255.350098,3276.23999,3526720000,3276.23999\\r\\n1/29/2020,3293.469971,3271.889893,3289.459961,3273.399902,3584500000,3273.399902\\r\\n1/30/2020,3285.909912,3242.800049,3256.449951,3283.659912,3787250000,3283.659912\\r\\n1/31/2020,3282.330078,3214.679932,3282.330078,3225.52002,4527830000,3225.52002\\r\\n2/3/2020,3268.439941,3235.659912,3235.659912,3248.919922,3757910000,3248.919922\\r\\n2/4/2020,3306.919922,3280.610107,3280.610107,3297.590088,3995320000,3297.590088\\r\\n2/5/2020,3337.580078,3313.75,3324.909912,3334.689941,4117730000,3334.689941\\r\\n2/6/2020,3347.959961,3334.389893,3344.919922,3345.780029,3868370000,3345.780029\\r\\n2/7/2020,3341.419922,3322.120117,3335.540039,3327.709961,3730650000,3327.709961\\r\\n2/10/2020,3352.26001,3317.77002,3318.280029,3352.090088,3450350000,3352.090088\\r\\n2/11/2020,3375.629883,3352.719971,3365.870117,3357.75,3760550000,3357.75\\r\\n2/12/2020,3381.469971,3369.719971,3370.5,3379.449951,3926380000,3379.449951\\r\\n2/13/2020,3385.090088,3360.52002,3365.899902,3373.939941,3498240000,3373.939941\\r\\n2/14/2020,3380.689941,3366.149902,3378.080078,3380.159912,3398040000,3380.159912\\r\\n2/18/2020,3375.01001,3355.610107,3369.040039,3370.290039,3746720000,3370.290039\\r\\n2/19/2020,3393.52002,3378.830078,3380.389893,3386.149902,3600150000,3386.149902\\r\\n2/20/2020,3389.149902,3341.02002,3380.449951,3373.22998,4007320000,3373.22998\\r\\n2/21/2020,3360.76001,3328.449951,3360.5,3337.75,3899270000,3337.75\\r\\n2/24/2020,3259.810059,3214.649902,3257.610107,3225.889893,4842960000,3225.889893\\r\\n2/25/2020,3246.98999,3118.77002,3238.939941,3128.209961,5591510000,3128.209961\\r\\n2/26/2020,3182.51001,3108.98999,3139.899902,3116.389893,5478110000,3116.389893\\r\\n2/27/2020,3097.070068,2977.389893,3062.540039,2978.76001,7058840000,2978.76001\\r\\n2/28/2020,2959.719971,2855.840088,2916.899902,2954.219971,8563850000,2954.219971\\r\\n3/2/2020,3090.959961,2945.189941,2974.280029,3090.22998,6376400000,3090.22998\\r\\n3/3/2020,3136.719971,2976.629883,3096.459961,3003.370117,6355940000,3003.370117\\r\\n3/4/2020,3130.969971,3034.379883,3045.75,3130.120117,5035480000,3130.120117\\r\\n3/5/2020,3083.040039,2999.830078,3075.699951,3023.939941,5575550000,3023.939941\\r\\n3/6/2020,2985.929932,2901.540039,2954.199951,2972.370117,6552140000,2972.370117\\r\\n3/9/2020,2863.889893,2734.429932,2863.889893,2746.560059,8423050000,2746.560059\\r\\n3/10/2020,2882.590088,2734,2813.47998,2882.22998,7635960000,2882.22998\\r\\n3/11/2020,2825.600098,2707.219971,2825.600098,2741.379883,7374110000,2741.379883\\r\\n3/12/2020,2660.949951,2478.860107,2630.860107,2480.639893,8829380000,2480.639893\\r\\n3/13/2020,2711.330078,2492.370117,2569.98999,2711.02002,8258670000,2711.02002\\r\\n3/16/2020,2562.97998,2380.939941,2508.590088,2386.129883,7781540000,2386.129883\\r\\n3/17/2020,2553.929932,2367.040039,2425.659912,2529.189941,8358500000,2529.189941\\r\\n3/18/2020,2453.570068,2280.52002,2436.5,2398.100098,8755780000,2398.100098\\r\\n3/19/2020,2466.969971,2319.780029,2393.47998,2409.389893,7946710000,2409.389893\\r\\n3/20/2020,2453.01001,2295.560059,2431.939941,2304.919922,9044690000,2304.919922\\r\\n3/23/2020,2300.72998,2191.860107,2290.709961,2237.399902,7402180000,2237.399902\\r\\n3/24/2020,2449.709961,2344.439941,2344.439941,2447.330078,7547350000,2447.330078\\r\\n3/25/2020,2571.419922,2407.530029,2457.77002,2475.560059,8285670000,2475.560059\\r\\n3/26/2020,2637.01001,2500.719971,2501.290039,2630.070068,7753160000,2630.070068\\r\\n3/27/2020,2615.909912,2520.02002,2555.870117,2541.469971,6194330000,2541.469971\\r\\n3/30/2020,2631.800049,2545.280029,2558.97998,2626.649902,5746220000,2626.649902\\r\\n3/31/2020,2641.389893,2571.149902,2614.689941,2584.590088,6568290000,2584.590088\\r\\n4/1/2020,2522.75,2447.48999,2498.080078,2470.5,5947900000,2470.5\\r\\n4/2/2020,2533.219971,2455.790039,2458.540039,2526.899902,6454990000,2526.899902\\r\\n4/3/2020,2538.179932,2459.959961,2514.919922,2488.649902,6087190000,2488.649902\\r\\n4/6/2020,2676.850098,2574.570068,2578.280029,2663.679932,6391860000,2663.679932\\r\\n4/7/2020,2756.889893,2657.669922,2738.649902,2659.409912,7040720000,2659.409912\\r\\n4/8/2020,2760.75,2663.300049,2685,2749.97998,5856370000,2749.97998\\r\\n4/9/2020,2818.570068,2762.360107,2776.98999,2789.820068,7880140000,2789.820068\\r\\n4/13/2020,2782.459961,2721.169922,2782.459961,2761.629883,5274310000,2761.629883\\r\\n4/14/2020,2851.850098,2805.100098,2805.100098,2846.060059,5567400000,2846.060059\\r\\n4/15/2020,2801.879883,2761.540039,2795.639893,2783.360107,5203390000,2783.360107\\r\\n4/16/2020,2806.51001,2764.320068,2799.340088,2799.550049,5179990000,2799.550049\\r\\n4/17/2020,2879.219971,2830.879883,2842.429932,2874.560059,5792140000,2874.560059\\r\\n4/20/2020,2868.97998,2820.429932,2845.620117,2823.159912,5220160000,2823.159912\\r\\n4/21/2020,2785.540039,2727.100098,2784.810059,2736.560059,5075830000,2736.560059\\r\\n4/22/2020,2815.100098,2775.949951,2787.889893,2799.310059,5049660000,2799.310059\\r\\n4/23/2020,2844.899902,2794.26001,2810.419922,2797.800049,5756520000,2797.800049\\r\\n4/24/2020,2842.709961,2791.76001,2812.639893,2836.73999,5374480000,2836.73999\\r\\n4/27/2020,2887.719971,2852.889893,2854.649902,2878.47998,5194260000,2878.47998\\r\\n4/28/2020,2921.149902,2860.709961,2909.959961,2863.389893,5672880000,2863.389893\\r\\n4/29/2020,2954.860107,2912.159912,2918.459961,2939.51001,6620140000,2939.51001\\r\\n4/30/2020,2930.909912,2892.469971,2930.909912,2912.429932,6523120000,2912.429932\\r\\n5/1/2020,2869.090088,2821.610107,2869.090088,2830.709961,4753160000,2830.709961\\r\\n5/4/2020,2844.23999,2797.850098,2815.01001,2842.73999,4723140000,2842.73999\\r\\n5/5/2020,2898.22998,2863.550049,2868.879883,2868.439941,5129590000,2868.439941\\r\\n5/6/2020,2891.110107,2847.649902,2883.139893,2848.419922,4861920000,2848.419922\\r\\n5/7/2020,2901.919922,2876.47998,2878.26001,2881.189941,5164640000,2881.189941\\r\\n5/8/2020,2932.159912,2902.879883,2908.830078,2929.800049,4857160000,2929.800049\\r\\n5/11/2020,2944.25,2903.439941,2915.459961,2930.189941,4807320000,2930.189941\\r\\n5/12/2020,2945.820068,2869.590088,2939.5,2870.120117,5107710000,2870.120117\\r\\n5/13/2020,2874.139893,2793.149902,2865.860107,2820,6143130000,2820\\r\\n5/14/2020,2852.800049,2766.639893,2794.540039,2852.5,5641920000,2852.5\\r\\n5/15/2020,2865.01001,2816.780029,2829.949951,2863.699951,5477040000,2863.699951\\r\\n5/18/2020,2968.090088,2913.860107,2913.860107,2953.909912,6364290000,2953.909912\\r\\n5/19/2020,2964.209961,2922.350098,2948.590088,2922.939941,4969330000,2922.939941\\r\\n5/20/2020,2980.290039,2953.629883,2953.629883,2971.610107,4992970000,2971.610107\\r\\n5/21/2020,2978.5,2938.570068,2969.949951,2948.51001,4966940000,2948.51001\\r\\n5/22/2020,2956.76001,2933.590088,2948.050049,2955.449951,3952800000,2955.449951\\r\\n5/26/2020,3021.719971,2988.169922,3004.080078,2991.77002,5837060000,2991.77002\\r\\n5/27/2020,3036.25,2969.75,3015.649902,3036.129883,6371230000,3036.129883\\r\\n5/28/2020,3068.669922,3023.399902,3046.610107,3029.72998,5402670000,3029.72998\\r\\n5/29/2020,3049.169922,2998.610107,3025.169922,3044.310059,7275080000,3044.310059\\r\\n6/1/2020,3062.179932,3031.540039,3038.780029,3055.72998,4673410000,3055.72998\\r\\n6/2/2020,3081.070068,3051.639893,3064.780029,3080.820068,5187230000,3080.820068\\r\\n6/3/2020,3130.939941,3098.899902,3098.899902,3122.870117,5989560000,3122.870117\\r\\n6/4/2020,3128.909912,3090.409912,3111.560059,3112.350098,6428130000,3112.350098\\r\\n6/5/2020,3211.719971,3163.840088,3163.840088,3193.929932,8617590000,3193.929932\\r\\n6/8/2020,3233.129883,3196,3199.919922,3232.389893,8437380000,3232.389893\\r\\n6/9/2020,3222.709961,3193.110107,3213.320068,3207.179932,6382620000,3207.179932\\r\\n6/10/2020,3223.27002,3181.48999,3213.419922,3190.139893,6570840000,3190.139893\\r\\n6/11/2020,3123.530029,2999.48999,3123.530029,3002.100098,7018890000,3002.100098\\r\\n6/12/2020,3088.419922,2984.469971,3071.040039,3041.310059,5832250000,3041.310059\\r\\n6/15/2020,3079.76001,2965.659912,2993.76001,3066.590088,5740660000,3066.590088\\r\\n6/16/2020,3153.449951,3076.060059,3131,3124.73999,5829240000,3124.73999\\r\\n6/17/2020,3141.159912,3108.030029,3136.129883,3113.48999,4549390000,3113.48999\\r\\n6/18/2020,3120,3093.51001,3101.639893,3115.340088,4429030000,3115.340088\\r\\n6/19/2020,3155.530029,3083.110107,3140.290039,3097.73999,8327780000,3097.73999\\r\\n6/22/2020,3120.919922,3079.389893,3094.419922,3117.860107,4665380000,3117.860107\\r\\n6/23/2020,3154.899902,3127.120117,3138.699951,3131.290039,4704830000,3131.290039\\r\\n6/24/2020,3115.01001,3032.129883,3114.399902,3050.330078,5587200000,3050.330078\\r\\n6/25/2020,3086.25,3024.01001,3046.600098,3083.76001,4815420000,3083.76001\\r\\n6/26/2020,3073.72998,3004.629883,3073.199951,3009.050049,8098120000,3009.050049\\r\\n6/29/2020,3053.889893,2999.73999,3018.590088,3053.23999,4462770000,3053.23999\\r\\n6/30/2020,3111.51001,3047.830078,3050.199951,3100.290039,4696280000,3100.290039\\r\\n7/1/2020,3128.439941,3101.169922,3105.919922,3115.860107,4443130000,3115.860107\\r\\n7/2/2020,3165.810059,3124.52002,3143.639893,3130.01001,4190830000,3130.01001\\r\\n7/6/2020,3182.590088,3155.290039,3155.290039,3179.719971,4736450000,3179.719971\\r\\n7/7/2020,3184.149902,3142.929932,3166.439941,3145.320068,4563700000,3145.320068\\r\\n7/8/2020,3171.800049,3136.530029,3153.070068,3169.939941,4927700000,3169.939941\\r\\n7/9/2020,3179.780029,3115.699951,3176.169922,3152.050049,4829020000,3152.050049\\r\\n7/10/2020,3186.820068,3136.219971,3152.469971,3185.040039,4515340000,3185.040039\\r\\n7/13/2020,3235.320068,3149.429932,3205.080078,3155.219971,4890780000,3155.219971\\r\\n7/14/2020,3200.949951,3127.659912,3141.110107,3197.52002,4476170000,3197.52002\\r\\n7/15/2020,3238.280029,3200.76001,3225.97998,3226.560059,4669760000,3226.560059\\r\\n7/16/2020,3220.389893,3198.590088,3208.360107,3215.570068,3961230000,3215.570068\\r\\n7/17/2020,3233.52002,3205.649902,3224.209961,3224.72998,3993830000,3224.72998\\r\\n7/20/2020,3258.610107,3215.159912,3224.290039,3251.840088,3971200000,3251.840088\\r\\n7/21/2020,3277.290039,3247.77002,3268.52002,3257.300049,4547960000,3257.300049\\r\\n7/22/2020,3279.320068,3253.100098,3254.860107,3276.02002,4255190000,3276.02002\\r\\n7/23/2020,3279.98999,3222.659912,3271.639893,3235.659912,4290460000,3235.659912\\r\\n7/24/2020,3227.26001,3200.050049,3218.580078,3215.629883,3894900000,3215.629883\\r\\n7/27/2020,3241.429932,3214.25,3219.840088,3239.409912,3963910000,3239.409912\\r\\n7/28/2020,3243.719971,3216.169922,3234.27002,3218.439941,4027890000,3218.439941\\r\\n7/29/2020,3264.73999,3227.219971,3227.219971,3258.439941,4676300000,3258.439941\\r\\n7/30/2020,3250.919922,3204.129883,3231.76001,3246.219971,4254010000,3246.219971\\r\\n7/31/2020,3272.169922,3220.26001,3270.449951,3271.120117,5117260000,3271.120117\\r\\n8/3/2020,3302.72998,3284.530029,3288.26001,3294.610107,4643640000,3294.610107\\r\\n8/4/2020,3306.840088,3286.370117,3289.919922,3306.51001,4621670000,3306.51001\\r\\n8/5/2020,3330.77002,3317.370117,3317.370117,3327.77002,4732220000,3327.77002\\r\\n8/6/2020,3351.030029,3318.139893,3323.169922,3349.159912,4267490000,3349.159912\\r\\n8/7/2020,3352.540039,3328.719971,3340.050049,3351.280029,4104860000,3351.280029\\r\\n8/10/2020,3363.290039,3335.439941,3356.040039,3360.469971,4318570000,3360.469971\\r\\n8/11/2020,3381.01001,3326.439941,3370.340088,3333.689941,5087650000,3333.689941\\r\\n8/12/2020,3387.889893,3355.459961,3355.459961,3380.350098,3768560000,3380.350098\\r\\n8/13/2020,3387.23999,3363.350098,3372.949951,3373.429932,3648810000,3373.429932\\r\\n8/14/2020,3378.51001,3361.639893,3368.659912,3372.850098,3193400000,3372.850098\\r\\n8/17/2020,3387.590088,3379.219971,3380.860107,3381.98999,3671290000,3381.98999\\r\\n8/18/2020,3395.060059,3370.149902,3387.040039,3389.780029,3881310000,3389.780029\\r\\n8/19/2020,3399.540039,3369.659912,3392.51001,3374.850098,3884480000,3374.850098\\r\\n8/20/2020,3390.800049,3354.689941,3360.47998,3385.51001,3642850000,3385.51001\\r\\n8/21/2020,3399.959961,3379.310059,3386.01001,3397.159912,3705420000,3397.159912\\r\\n8/24/2020,3432.090088,3413.129883,3418.090088,3431.280029,3728690000,3431.280029\\r\\n8/25/2020,3444.209961,3425.840088,3435.949951,3443.620117,3619300000,3443.620117\\r\\n8/26/2020,3481.070068,3444.149902,3449.969971,3478.72998,3754360000,3478.72998\\r\\n8/27/2020,3501.379883,3468.350098,3485.139893,3484.550049,3929560000,3484.550049\\r\\n8/28/2020,3509.22998,3484.320068,3494.689941,3508.01001,3855880000,3508.01001\\r\\n8/31/2020,3514.77002,3493.25,3509.72998,3500.310059,4342290000,3500.310059\\r\\n9/1/2020,3528.030029,3494.600098,3507.439941,3526.649902,4083110000,3526.649902\\r\\n9/2/2020,3588.110107,3535.22998,3543.76001,3580.840088,4285190000,3580.840088\\r\\n9/3/2020,3564.850098,3427.409912,3564.73999,3455.060059,4898680000,3455.060059\\r\\n9/4/2020,3479.149902,3349.629883,3453.600098,3426.959961,4431440000,3426.959961\\r\\n9/8/2020,3379.969971,3329.27002,3371.879883,3331.840088,4665600000,3331.840088\\r\\n9/9/2020,3424.77002,3366.840088,3369.820068,3398.959961,3920830000,3398.959961\\r\\n9/10/2020,3425.550049,3329.25,3412.560059,3339.189941,4192250000,3339.189941\\r\\n9/11/2020,3368.949951,3310.469971,3352.699951,3340.969971,3704450000,3340.969971\\r\\n9/14/2020,3402.929932,3363.560059,3363.560059,3383.540039,3832130000,3383.540039\\r\\n9/15/2020,3419.47998,3389.25,3407.72998,3401.199951,4051460000,3401.199951\\r\\n9/16/2020,3428.919922,3384.449951,3411.22998,3385.48999,4710030000,3385.48999\\r\\n9/17/2020,3375.169922,3328.820068,3346.860107,3357.01001,4371940000,3357.01001\\r\\n9/18/2020,3362.27002,3292.399902,3357.379883,3319.469971,7068700000,3319.469971\\r\\n9/21/2020,3285.570068,3229.100098,3285.570068,3281.060059,4828350000,3281.060059\\r\\n9/22/2020,3320.310059,3270.949951,3295.75,3315.570068,3963300000,3315.570068\\r\\n9/23/2020,3323.350098,3232.570068,3320.110107,3236.919922,4364500000,3236.919922\\r\\n9/24/2020,3278.699951,3209.449951,3226.139893,3246.590088,4599470000,3246.590088\\r\\n9/25/2020,3306.879883,3228.439941,3236.659912,3298.459961,3792220000,3298.459961\\r\\n9/28/2020,3360.73999,3332.909912,3333.899902,3351.600098,3946060000,3351.600098\\r\\n9/29/2020,3357.919922,3327.540039,3350.919922,3335.469971,3651880000,3335.469971\\r\\n9/30/2020,3393.560059,3340.469971,3341.209961,3363,4722530000,3363\\r\\n10/1/2020,3397.179932,3361.389893,3385.870117,3380.800049,4070530000,3380.800049\\r\\n10/2/2020,3369.100098,3323.689941,3338.939941,3348.419922,3961550000,3348.419922\\r\\n10/5/2020,3409.570068,3367.27002,3367.27002,3408.600098,3686920000,3408.600098\\r\\n10/6/2020,3431.560059,3354.540039,3408.73999,3360.969971,4443380000,3360.969971\\r\\n10/7/2020,3426.26001,3384.560059,3384.560059,3419.439941,3807830000,3419.439941\\r\\n10/8/2020,3447.280029,3428.149902,3434.280029,3446.830078,3856190000,3446.830078\\r\\n10/9/2020,3482.340088,3458.070068,3459.669922,3477.139893,3939060000,3477.139893\\r\\n10/12/2020,3549.850098,3499.610107,3500.02002,3534.219971,3428970000,3534.219971\\r\\n10/13/2020,3534.01001,3500.860107,3534.01001,3511.929932,3605150000,3511.929932\\r\\n10/14/2020,3527.939941,3480.550049,3515.469971,3488.669922,3840630000,3488.669922\\r\\n10/15/2020,3489.080078,3440.889893,3453.719971,3483.340088,3717640000,3483.340088\\r\\n10/16/2020,3515.76001,3480.449951,3493.5,3483.810059,4675890000,3483.810059\\r\\n10/19/2020,3502.419922,3419.929932,3493.659912,3426.919922,4086200000,3426.919922\\r\\n10/20/2020,3476.929932,3435.649902,3439.379883,3443.120117,3901260000,3443.120117\\r\\n10/21/2020,3464.860107,3433.060059,3439.909912,3435.560059,4097750000,3435.560059\\r\\n10/22/2020,3460.530029,3415.340088,3438.5,3453.48999,4163630000,3453.48999\\r\\n10/23/2020,3466.459961,3440.449951,3464.899902,3465.389893,3646570000,3465.389893\\r\\n10/26/2020,3441.419922,3364.860107,3441.419922,3400.969971,3988080000,3400.969971\\r\\n10/27/2020,3409.51001,3388.709961,3403.149902,3390.679932,3946990000,3390.679932\\r\\n10/28/2020,3342.47998,3268.889893,3342.47998,3271.030029,5129860000,3271.030029\\r\\n10/29/2020,3341.050049,3259.820068,3277.169922,3310.110107,4903070000,3310.110107\\r\\n10/30/2020,3304.929932,3233.939941,3293.590088,3269.959961,4840450000,3269.959961\\r\\n11/2/2020,3330.139893,3279.73999,3296.199951,3310.23999,4310590000,3310.23999\\r\\n11/3/2020,3389.48999,3336.25,3336.25,3369.159912,4220070000,3369.159912\\r\\n11/4/2020,3486.25,3405.169922,3406.459961,3443.439941,4783040000,3443.439941\\r\\n11/5/2020,3529.050049,3485.73999,3485.73999,3510.449951,4841190000,3510.449951\\r\\n11/6/2020,3521.580078,3484.340088,3508.340088,3509.439941,4833950000,3509.439941\\r\\n11/9/2020,3645.98999,3547.47998,3583.040039,3550.5,8556610000,3550.5\\r\\n11/10/2020,3557.219971,3511.909912,3543.26001,3545.530029,6024230000,3545.530029\\r\\n11/11/2020,3581.159912,3557,3563.219971,3572.659912,4609970000,3572.659912\\r\\n11/12/2020,3569.02002,3518.580078,3562.669922,3537.01001,4890120000,3537.01001\\r\\n11/13/2020,3593.659912,3552.570068,3552.570068,3585.149902,4709670000,3585.149902\\r\\n11/16/2020,3628.51001,3600.159912,3600.159912,3626.909912,5281980000,3626.909912\\r\\n11/17/2020,3623.110107,3588.679932,3610.310059,3609.530029,4799570000,3609.530029\\r\\n11/18/2020,3619.090088,3567.330078,3612.090088,3567.790039,5274450000,3567.790039\\r\\n11/19/2020,3585.219971,3543.840088,3559.409912,3581.870117,4347200000,3581.870117\\r\\n11/20/2020,3581.22998,3556.850098,3579.310059,3557.540039,4218970000,3557.540039\\r\\n11/23/2020,3589.810059,3552.77002,3566.820068,3577.590088,5036290000,3577.590088\\r\\n11/24/2020,3642.310059,3594.52002,3594.52002,3635.409912,6267570000,3635.409912\\r\\n11/25/2020,3635.5,3617.76001,3635.5,3629.649902,4902560000,3629.649902\\r\\n11/27/2020,3644.310059,3629.330078,3638.550049,3638.350098,2778450000,3638.350098\\r\\n11/30/2020,3634.179932,3594.389893,3634.179932,3621.629883,6291400000,3621.629883\\r\\n12/1/2020,3678.449951,3645.870117,3645.870117,3662.449951,5403660000,3662.449951\\r\\n12/2/2020,3670.959961,3644.840088,3653.780029,3669.01001,5029620000,3669.01001\\r\\n12/3/2020,3682.72998,3657.169922,3668.280029,3666.719971,5091760000,3666.719971\\r\\n12/4/2020,3699.199951,3670.939941,3670.939941,3699.120117,5086370000,3699.120117\\r\\n12/7/2020,3697.409912,3678.879883,3694.72998,3691.959961,4788560000,3691.959961\\r\\n12/8/2020,3708.449951,3678.830078,3683.050049,3702.25,4549670000,3702.25\\r\\n12/9/2020,3712.389893,3660.540039,3705.97998,3672.820068,5209940000,3672.820068\\r\\n12/10/2020,3678.48999,3645.179932,3659.129883,3668.100098,4618240000,3668.100098\\r\\n12/11/2020,3665.909912,3633.399902,3656.080078,3663.459961,4367150000,3663.459961\\r\\n12/14/2020,3697.610107,3645.840088,3675.27002,3647.48999,4594920000,3647.48999\\r\\n12/15/2020,3695.290039,3659.620117,3666.409912,3694.620117,4360280000,3694.620117\\r\\n12/16/2020,3711.27002,3688.570068,3696.25,3701.169922,4056950000,3701.169922\\r\\n12/17/2020,3725.120117,3710.870117,3713.649902,3722.47998,4184930000,3722.47998\\r\\n12/18/2020,3726.699951,3685.840088,3722.389893,3709.409912,7068340000,3709.409912\\r\\n12/21/2020,3702.899902,3636.47998,3684.280029,3694.919922,4732160000,3694.919922\\r\\n12/22/2020,3698.26001,3676.159912,3698.080078,3687.26001,4023940000,3687.26001\\r\\n12/23/2020,3711.23999,3689.280029,3693.419922,3690.01001,3772630000,3690.01001\\r\\n12/24/2020,3703.820068,3689.320068,3694.030029,3703.060059,1885090000,3703.060059\\r\\n12/28/2020,3740.51001,3723.030029,3723.030029,3735.360107,3527460000,3735.360107\\r\\n12/29/2020,3756.120117,3723.310059,3750.01001,3727.040039,3387030000,3727.040039\\r\\n12/30/2020,3744.629883,3730.209961,3736.189941,3732.040039,3145200000,3732.040039\\r\\n12/31/2020,3760.199951,3726.879883,3733.27002,3756.070068,3172510000,3756.070068\\r\\n'}"
            ]
          },
          "metadata": {
            "tags": []
          },
          "execution_count": 19
        }
      ]
    },
    {
      "cell_type": "code",
      "metadata": {
        "colab": {
          "base_uri": "https://localhost:8080/",
          "height": 419
        },
        "id": "1nd0gM4KQQ4C",
        "outputId": "a7a1968c-0b5f-48c6-d58a-ab904e187963"
      },
      "source": [
        "#Store the Data\r\n",
        "df2 = pd.read_csv('S&P500.csv')\r\n",
        "#Set the date as the index\r\n",
        "df2 = df2.set_index(pd.DatetimeIndex(df2['Date'].values))\r\n",
        "df2"
      ],
      "execution_count": 43,
      "outputs": [
        {
          "output_type": "execute_result",
          "data": {
            "text/html": [
              "<div>\n",
              "<style scoped>\n",
              "    .dataframe tbody tr th:only-of-type {\n",
              "        vertical-align: middle;\n",
              "    }\n",
              "\n",
              "    .dataframe tbody tr th {\n",
              "        vertical-align: top;\n",
              "    }\n",
              "\n",
              "    .dataframe thead th {\n",
              "        text-align: right;\n",
              "    }\n",
              "</style>\n",
              "<table border=\"1\" class=\"dataframe\">\n",
              "  <thead>\n",
              "    <tr style=\"text-align: right;\">\n",
              "      <th></th>\n",
              "      <th>Date</th>\n",
              "      <th>High</th>\n",
              "      <th>Low</th>\n",
              "      <th>Open</th>\n",
              "      <th>Close</th>\n",
              "      <th>Volume</th>\n",
              "      <th>Adj Close</th>\n",
              "    </tr>\n",
              "  </thead>\n",
              "  <tbody>\n",
              "    <tr>\n",
              "      <th>2019-01-02</th>\n",
              "      <td>2019-01-02</td>\n",
              "      <td>2519.489990</td>\n",
              "      <td>2467.469971</td>\n",
              "      <td>2476.959961</td>\n",
              "      <td>2510.030029</td>\n",
              "      <td>3733160000</td>\n",
              "      <td>2510.030029</td>\n",
              "    </tr>\n",
              "    <tr>\n",
              "      <th>2019-01-03</th>\n",
              "      <td>2019-01-03</td>\n",
              "      <td>2493.139893</td>\n",
              "      <td>2443.959961</td>\n",
              "      <td>2491.919922</td>\n",
              "      <td>2447.889893</td>\n",
              "      <td>3822860000</td>\n",
              "      <td>2447.889893</td>\n",
              "    </tr>\n",
              "    <tr>\n",
              "      <th>2019-01-04</th>\n",
              "      <td>2019-01-04</td>\n",
              "      <td>2538.070068</td>\n",
              "      <td>2474.330078</td>\n",
              "      <td>2474.330078</td>\n",
              "      <td>2531.939941</td>\n",
              "      <td>4213410000</td>\n",
              "      <td>2531.939941</td>\n",
              "    </tr>\n",
              "    <tr>\n",
              "      <th>2019-01-07</th>\n",
              "      <td>2019-01-07</td>\n",
              "      <td>2566.159912</td>\n",
              "      <td>2524.560059</td>\n",
              "      <td>2535.610107</td>\n",
              "      <td>2549.689941</td>\n",
              "      <td>4104710000</td>\n",
              "      <td>2549.689941</td>\n",
              "    </tr>\n",
              "    <tr>\n",
              "      <th>2019-01-08</th>\n",
              "      <td>2019-01-08</td>\n",
              "      <td>2579.820068</td>\n",
              "      <td>2547.560059</td>\n",
              "      <td>2568.110107</td>\n",
              "      <td>2574.409912</td>\n",
              "      <td>4083030000</td>\n",
              "      <td>2574.409912</td>\n",
              "    </tr>\n",
              "    <tr>\n",
              "      <th>...</th>\n",
              "      <td>...</td>\n",
              "      <td>...</td>\n",
              "      <td>...</td>\n",
              "      <td>...</td>\n",
              "      <td>...</td>\n",
              "      <td>...</td>\n",
              "      <td>...</td>\n",
              "    </tr>\n",
              "    <tr>\n",
              "      <th>2020-12-24</th>\n",
              "      <td>2020-12-24</td>\n",
              "      <td>3703.820068</td>\n",
              "      <td>3689.320068</td>\n",
              "      <td>3694.030029</td>\n",
              "      <td>3703.060059</td>\n",
              "      <td>1885090000</td>\n",
              "      <td>3703.060059</td>\n",
              "    </tr>\n",
              "    <tr>\n",
              "      <th>2020-12-28</th>\n",
              "      <td>2020-12-28</td>\n",
              "      <td>3740.510010</td>\n",
              "      <td>3723.030029</td>\n",
              "      <td>3723.030029</td>\n",
              "      <td>3735.360107</td>\n",
              "      <td>3527460000</td>\n",
              "      <td>3735.360107</td>\n",
              "    </tr>\n",
              "    <tr>\n",
              "      <th>2020-12-29</th>\n",
              "      <td>2020-12-29</td>\n",
              "      <td>3756.120117</td>\n",
              "      <td>3723.310059</td>\n",
              "      <td>3750.010010</td>\n",
              "      <td>3727.040039</td>\n",
              "      <td>3387030000</td>\n",
              "      <td>3727.040039</td>\n",
              "    </tr>\n",
              "    <tr>\n",
              "      <th>2020-12-30</th>\n",
              "      <td>2020-12-30</td>\n",
              "      <td>3744.629883</td>\n",
              "      <td>3730.209961</td>\n",
              "      <td>3736.189941</td>\n",
              "      <td>3732.040039</td>\n",
              "      <td>3145200000</td>\n",
              "      <td>3732.040039</td>\n",
              "    </tr>\n",
              "    <tr>\n",
              "      <th>2020-12-31</th>\n",
              "      <td>2020-12-31</td>\n",
              "      <td>3760.199951</td>\n",
              "      <td>3726.879883</td>\n",
              "      <td>3733.270020</td>\n",
              "      <td>3756.070068</td>\n",
              "      <td>3172510000</td>\n",
              "      <td>3756.070068</td>\n",
              "    </tr>\n",
              "  </tbody>\n",
              "</table>\n",
              "<p>505 rows × 7 columns</p>\n",
              "</div>"
            ],
            "text/plain": [
              "                  Date         High  ...      Volume    Adj Close\n",
              "2019-01-02  2019-01-02  2519.489990  ...  3733160000  2510.030029\n",
              "2019-01-03  2019-01-03  2493.139893  ...  3822860000  2447.889893\n",
              "2019-01-04  2019-01-04  2538.070068  ...  4213410000  2531.939941\n",
              "2019-01-07  2019-01-07  2566.159912  ...  4104710000  2549.689941\n",
              "2019-01-08  2019-01-08  2579.820068  ...  4083030000  2574.409912\n",
              "...                ...          ...  ...         ...          ...\n",
              "2020-12-24  2020-12-24  3703.820068  ...  1885090000  3703.060059\n",
              "2020-12-28  2020-12-28  3740.510010  ...  3527460000  3735.360107\n",
              "2020-12-29  2020-12-29  3756.120117  ...  3387030000  3727.040039\n",
              "2020-12-30  2020-12-30  3744.629883  ...  3145200000  3732.040039\n",
              "2020-12-31  2020-12-31  3760.199951  ...  3172510000  3756.070068\n",
              "\n",
              "[505 rows x 7 columns]"
            ]
          },
          "metadata": {
            "tags": []
          },
          "execution_count": 43
        }
      ]
    },
    {
      "cell_type": "code",
      "metadata": {
        "colab": {
          "base_uri": "https://localhost:8080/",
          "height": 297
        },
        "id": "pnrVS6HRKCf7",
        "outputId": "0e291958-ef01-43e6-c898-28acc01cd273"
      },
      "source": [
        "#Estadísticas basicas\r\n",
        "df2.describe()"
      ],
      "execution_count": 44,
      "outputs": [
        {
          "output_type": "execute_result",
          "data": {
            "text/html": [
              "<div>\n",
              "<style scoped>\n",
              "    .dataframe tbody tr th:only-of-type {\n",
              "        vertical-align: middle;\n",
              "    }\n",
              "\n",
              "    .dataframe tbody tr th {\n",
              "        vertical-align: top;\n",
              "    }\n",
              "\n",
              "    .dataframe thead th {\n",
              "        text-align: right;\n",
              "    }\n",
              "</style>\n",
              "<table border=\"1\" class=\"dataframe\">\n",
              "  <thead>\n",
              "    <tr style=\"text-align: right;\">\n",
              "      <th></th>\n",
              "      <th>High</th>\n",
              "      <th>Low</th>\n",
              "      <th>Open</th>\n",
              "      <th>Close</th>\n",
              "      <th>Volume</th>\n",
              "      <th>Adj Close</th>\n",
              "    </tr>\n",
              "  </thead>\n",
              "  <tbody>\n",
              "    <tr>\n",
              "      <th>count</th>\n",
              "      <td>505.000000</td>\n",
              "      <td>505.000000</td>\n",
              "      <td>505.000000</td>\n",
              "      <td>505.000000</td>\n",
              "      <td>5.050000e+02</td>\n",
              "      <td>505.000000</td>\n",
              "    </tr>\n",
              "    <tr>\n",
              "      <th>mean</th>\n",
              "      <td>3083.218551</td>\n",
              "      <td>3045.250358</td>\n",
              "      <td>3064.992041</td>\n",
              "      <td>3065.907599</td>\n",
              "      <td>4.231584e+09</td>\n",
              "      <td>3065.907599</td>\n",
              "    </tr>\n",
              "    <tr>\n",
              "      <th>std</th>\n",
              "      <td>290.102223</td>\n",
              "      <td>295.843517</td>\n",
              "      <td>292.738711</td>\n",
              "      <td>292.376435</td>\n",
              "      <td>1.243201e+09</td>\n",
              "      <td>292.376435</td>\n",
              "    </tr>\n",
              "    <tr>\n",
              "      <th>min</th>\n",
              "      <td>2300.729980</td>\n",
              "      <td>2191.860107</td>\n",
              "      <td>2290.709961</td>\n",
              "      <td>2237.399902</td>\n",
              "      <td>1.296540e+09</td>\n",
              "      <td>2237.399902</td>\n",
              "    </tr>\n",
              "    <tr>\n",
              "      <th>25%</th>\n",
              "      <td>2886.879883</td>\n",
              "      <td>2852.889893</td>\n",
              "      <td>2865.860107</td>\n",
              "      <td>2870.719971</td>\n",
              "      <td>3.448960e+09</td>\n",
              "      <td>2870.719971</td>\n",
              "    </tr>\n",
              "    <tr>\n",
              "      <th>50%</th>\n",
              "      <td>3016.370117</td>\n",
              "      <td>2991.209961</td>\n",
              "      <td>3005.100098</td>\n",
              "      <td>3005.469971</td>\n",
              "      <td>3.856190e+09</td>\n",
              "      <td>3005.469971</td>\n",
              "    </tr>\n",
              "    <tr>\n",
              "      <th>75%</th>\n",
              "      <td>3288.129883</td>\n",
              "      <td>3253.219971</td>\n",
              "      <td>3280.610107</td>\n",
              "      <td>3276.020020</td>\n",
              "      <td>4.704830e+09</td>\n",
              "      <td>3276.020020</td>\n",
              "    </tr>\n",
              "    <tr>\n",
              "      <th>max</th>\n",
              "      <td>3760.199951</td>\n",
              "      <td>3730.209961</td>\n",
              "      <td>3750.010010</td>\n",
              "      <td>3756.070068</td>\n",
              "      <td>9.044690e+09</td>\n",
              "      <td>3756.070068</td>\n",
              "    </tr>\n",
              "  </tbody>\n",
              "</table>\n",
              "</div>"
            ],
            "text/plain": [
              "              High          Low  ...        Volume    Adj Close\n",
              "count   505.000000   505.000000  ...  5.050000e+02   505.000000\n",
              "mean   3083.218551  3045.250358  ...  4.231584e+09  3065.907599\n",
              "std     290.102223   295.843517  ...  1.243201e+09   292.376435\n",
              "min    2300.729980  2191.860107  ...  1.296540e+09  2237.399902\n",
              "25%    2886.879883  2852.889893  ...  3.448960e+09  2870.719971\n",
              "50%    3016.370117  2991.209961  ...  3.856190e+09  3005.469971\n",
              "75%    3288.129883  3253.219971  ...  4.704830e+09  3276.020020\n",
              "max    3760.199951  3730.209961  ...  9.044690e+09  3756.070068\n",
              "\n",
              "[8 rows x 6 columns]"
            ]
          },
          "metadata": {
            "tags": []
          },
          "execution_count": 44
        }
      ]
    },
    {
      "cell_type": "code",
      "metadata": {
        "colab": {
          "base_uri": "https://localhost:8080/",
          "height": 323
        },
        "id": "bWhM6iXOKWvG",
        "outputId": "04e3b5a9-9fce-4bbe-e734-76171680fd4c"
      },
      "source": [
        "#Plot the close price on a chart\r\n",
        "plt.figure(figsize=(12.2,4.5))\r\n",
        "plt.plot(df2.Close, color = 'blue')\r\n",
        "plt.title('S&P 500')\r\n",
        "plt.xlabel('Date')\r\n",
        "plt.show()"
      ],
      "execution_count": 45,
      "outputs": [
        {
          "output_type": "display_data",
          "data": {
            "image/png": "[encoded data removed]",
            "text/plain": [
              "<Figure size 878.4x324 with 1 Axes>"
            ]
          },
          "metadata": {
            "tags": [],
            "needs_background": "light"
          }
        }
      ]
    },
    {
      "cell_type": "code",
      "metadata": {
        "colab": {
          "base_uri": "https://localhost:8080/",
          "height": 419
        },
        "id": "fTnEOEJJTW9n",
        "outputId": "b2294f27-8989-4be0-9d29-9af343b9e529"
      },
      "source": [
        "#Retornos aritmeticos\r\n",
        "df2['returns'] = (df['Adj Close'] - df['Adj Close'].shift(1)) / df['Adj Close']\r\n",
        "df2"
      ],
      "execution_count": 60,
      "outputs": [
        {
          "output_type": "execute_result",
          "data": {
            "text/html": [
              "<div>\n",
              "<style scoped>\n",
              "    .dataframe tbody tr th:only-of-type {\n",
              "        vertical-align: middle;\n",
              "    }\n",
              "\n",
              "    .dataframe tbody tr th {\n",
              "        vertical-align: top;\n",
              "    }\n",
              "\n",
              "    .dataframe thead th {\n",
              "        text-align: right;\n",
              "    }\n",
              "</style>\n",
              "<table border=\"1\" class=\"dataframe\">\n",
              "  <thead>\n",
              "    <tr style=\"text-align: right;\">\n",
              "      <th></th>\n",
              "      <th>Date</th>\n",
              "      <th>High</th>\n",
              "      <th>Low</th>\n",
              "      <th>Open</th>\n",
              "      <th>Close</th>\n",
              "      <th>Volume</th>\n",
              "      <th>Adj Close</th>\n",
              "      <th>returns</th>\n",
              "      <th>ret</th>\n",
              "      <th>log_returns</th>\n",
              "    </tr>\n",
              "  </thead>\n",
              "  <tbody>\n",
              "    <tr>\n",
              "      <th>2019-01-02</th>\n",
              "      <td>2019-01-02</td>\n",
              "      <td>2519.489990</td>\n",
              "      <td>2467.469971</td>\n",
              "      <td>2476.959961</td>\n",
              "      <td>2510.030029</td>\n",
              "      <td>3733160000</td>\n",
              "      <td>2510.030029</td>\n",
              "      <td>NaN</td>\n",
              "      <td>NaN</td>\n",
              "      <td>NaN</td>\n",
              "    </tr>\n",
              "    <tr>\n",
              "      <th>2019-01-03</th>\n",
              "      <td>2019-01-03</td>\n",
              "      <td>2493.139893</td>\n",
              "      <td>2443.959961</td>\n",
              "      <td>2491.919922</td>\n",
              "      <td>2447.889893</td>\n",
              "      <td>3822860000</td>\n",
              "      <td>2447.889893</td>\n",
              "      <td>-0.025385</td>\n",
              "      <td>-0.024757</td>\n",
              "      <td>-0.025068</td>\n",
              "    </tr>\n",
              "    <tr>\n",
              "      <th>2019-01-04</th>\n",
              "      <td>2019-01-04</td>\n",
              "      <td>2538.070068</td>\n",
              "      <td>2474.330078</td>\n",
              "      <td>2474.330078</td>\n",
              "      <td>2531.939941</td>\n",
              "      <td>4213410000</td>\n",
              "      <td>2531.939941</td>\n",
              "      <td>0.033196</td>\n",
              "      <td>0.034336</td>\n",
              "      <td>0.033759</td>\n",
              "    </tr>\n",
              "    <tr>\n",
              "      <th>2019-01-07</th>\n",
              "      <td>2019-01-07</td>\n",
              "      <td>2566.159912</td>\n",
              "      <td>2524.560059</td>\n",
              "      <td>2535.610107</td>\n",
              "      <td>2549.689941</td>\n",
              "      <td>4104710000</td>\n",
              "      <td>2549.689941</td>\n",
              "      <td>0.006962</td>\n",
              "      <td>0.007010</td>\n",
              "      <td>0.006986</td>\n",
              "    </tr>\n",
              "    <tr>\n",
              "      <th>2019-01-08</th>\n",
              "      <td>2019-01-08</td>\n",
              "      <td>2579.820068</td>\n",
              "      <td>2547.560059</td>\n",
              "      <td>2568.110107</td>\n",
              "      <td>2574.409912</td>\n",
              "      <td>4083030000</td>\n",
              "      <td>2574.409912</td>\n",
              "      <td>0.009602</td>\n",
              "      <td>0.009695</td>\n",
              "      <td>0.009649</td>\n",
              "    </tr>\n",
              "    <tr>\n",
              "      <th>...</th>\n",
              "      <td>...</td>\n",
              "      <td>...</td>\n",
              "      <td>...</td>\n",
              "      <td>...</td>\n",
              "      <td>...</td>\n",
              "      <td>...</td>\n",
              "      <td>...</td>\n",
              "      <td>...</td>\n",
              "      <td>...</td>\n",
              "      <td>...</td>\n",
              "    </tr>\n",
              "    <tr>\n",
              "      <th>2020-12-24</th>\n",
              "      <td>2020-12-24</td>\n",
              "      <td>3703.820068</td>\n",
              "      <td>3689.320068</td>\n",
              "      <td>3694.030029</td>\n",
              "      <td>3703.060059</td>\n",
              "      <td>1885090000</td>\n",
              "      <td>3703.060059</td>\n",
              "      <td>0.003524</td>\n",
              "      <td>0.003537</td>\n",
              "      <td>0.003530</td>\n",
              "    </tr>\n",
              "    <tr>\n",
              "      <th>2020-12-28</th>\n",
              "      <td>2020-12-28</td>\n",
              "      <td>3740.510010</td>\n",
              "      <td>3723.030029</td>\n",
              "      <td>3723.030029</td>\n",
              "      <td>3735.360107</td>\n",
              "      <td>3527460000</td>\n",
              "      <td>3735.360107</td>\n",
              "      <td>0.008647</td>\n",
              "      <td>0.008723</td>\n",
              "      <td>0.008685</td>\n",
              "    </tr>\n",
              "    <tr>\n",
              "      <th>2020-12-29</th>\n",
              "      <td>2020-12-29</td>\n",
              "      <td>3756.120117</td>\n",
              "      <td>3723.310059</td>\n",
              "      <td>3750.010010</td>\n",
              "      <td>3727.040039</td>\n",
              "      <td>3387030000</td>\n",
              "      <td>3727.040039</td>\n",
              "      <td>-0.002232</td>\n",
              "      <td>-0.002227</td>\n",
              "      <td>-0.002230</td>\n",
              "    </tr>\n",
              "    <tr>\n",
              "      <th>2020-12-30</th>\n",
              "      <td>2020-12-30</td>\n",
              "      <td>3744.629883</td>\n",
              "      <td>3730.209961</td>\n",
              "      <td>3736.189941</td>\n",
              "      <td>3732.040039</td>\n",
              "      <td>3145200000</td>\n",
              "      <td>3732.040039</td>\n",
              "      <td>0.001340</td>\n",
              "      <td>0.001342</td>\n",
              "      <td>0.001341</td>\n",
              "    </tr>\n",
              "    <tr>\n",
              "      <th>2020-12-31</th>\n",
              "      <td>2020-12-31</td>\n",
              "      <td>3760.199951</td>\n",
              "      <td>3726.879883</td>\n",
              "      <td>3733.270020</td>\n",
              "      <td>3756.070068</td>\n",
              "      <td>3172510000</td>\n",
              "      <td>3756.070068</td>\n",
              "      <td>0.006398</td>\n",
              "      <td>0.006439</td>\n",
              "      <td>0.006418</td>\n",
              "    </tr>\n",
              "  </tbody>\n",
              "</table>\n",
              "<p>505 rows × 10 columns</p>\n",
              "</div>"
            ],
            "text/plain": [
              "                  Date         High  ...       ret  log_returns\n",
              "2019-01-02  2019-01-02  2519.489990  ...       NaN          NaN\n",
              "2019-01-03  2019-01-03  2493.139893  ... -0.024757    -0.025068\n",
              "2019-01-04  2019-01-04  2538.070068  ...  0.034336     0.033759\n",
              "2019-01-07  2019-01-07  2566.159912  ...  0.007010     0.006986\n",
              "2019-01-08  2019-01-08  2579.820068  ...  0.009695     0.009649\n",
              "...                ...          ...  ...       ...          ...\n",
              "2020-12-24  2020-12-24  3703.820068  ...  0.003537     0.003530\n",
              "2020-12-28  2020-12-28  3740.510010  ...  0.008723     0.008685\n",
              "2020-12-29  2020-12-29  3756.120117  ... -0.002227    -0.002230\n",
              "2020-12-30  2020-12-30  3744.629883  ...  0.001342     0.001341\n",
              "2020-12-31  2020-12-31  3760.199951  ...  0.006439     0.006418\n",
              "\n",
              "[505 rows x 10 columns]"
            ]
          },
          "metadata": {
            "tags": []
          },
          "execution_count": 60
        }
      ]
    },
    {
      "cell_type": "code",
      "metadata": {
        "colab": {
          "base_uri": "https://localhost:8080/",
          "height": 419
        },
        "id": "ATFDxkLQSSuZ",
        "outputId": "1af64768-a698-486f-9d5c-58a3a48236c5"
      },
      "source": [
        "#Retornos log\r\n",
        "# df2['ret'] = np.log(df['Adj Close']).diff()\r\n",
        "df2['log_returns'] = np.log(df['Adj Close']) - np.log(df['Adj Close'].shift(1))\r\n",
        "df2"
      ],
      "execution_count": 63,
      "outputs": [
        {
          "output_type": "execute_result",
          "data": {
            "text/html": [
              "<div>\n",
              "<style scoped>\n",
              "    .dataframe tbody tr th:only-of-type {\n",
              "        vertical-align: middle;\n",
              "    }\n",
              "\n",
              "    .dataframe tbody tr th {\n",
              "        vertical-align: top;\n",
              "    }\n",
              "\n",
              "    .dataframe thead th {\n",
              "        text-align: right;\n",
              "    }\n",
              "</style>\n",
              "<table border=\"1\" class=\"dataframe\">\n",
              "  <thead>\n",
              "    <tr style=\"text-align: right;\">\n",
              "      <th></th>\n",
              "      <th>Date</th>\n",
              "      <th>High</th>\n",
              "      <th>Low</th>\n",
              "      <th>Open</th>\n",
              "      <th>Close</th>\n",
              "      <th>Volume</th>\n",
              "      <th>Adj Close</th>\n",
              "      <th>returns</th>\n",
              "      <th>ret</th>\n",
              "      <th>log_returns</th>\n",
              "    </tr>\n",
              "  </thead>\n",
              "  <tbody>\n",
              "    <tr>\n",
              "      <th>2019-01-02</th>\n",
              "      <td>2019-01-02</td>\n",
              "      <td>2519.489990</td>\n",
              "      <td>2467.469971</td>\n",
              "      <td>2476.959961</td>\n",
              "      <td>2510.030029</td>\n",
              "      <td>3733160000</td>\n",
              "      <td>2510.030029</td>\n",
              "      <td>NaN</td>\n",
              "      <td>NaN</td>\n",
              "      <td>NaN</td>\n",
              "    </tr>\n",
              "    <tr>\n",
              "      <th>2019-01-03</th>\n",
              "      <td>2019-01-03</td>\n",
              "      <td>2493.139893</td>\n",
              "      <td>2443.959961</td>\n",
              "      <td>2491.919922</td>\n",
              "      <td>2447.889893</td>\n",
              "      <td>3822860000</td>\n",
              "      <td>2447.889893</td>\n",
              "      <td>-0.025385</td>\n",
              "      <td>-0.024757</td>\n",
              "      <td>-0.025068</td>\n",
              "    </tr>\n",
              "    <tr>\n",
              "      <th>2019-01-04</th>\n",
              "      <td>2019-01-04</td>\n",
              "      <td>2538.070068</td>\n",
              "      <td>2474.330078</td>\n",
              "      <td>2474.330078</td>\n",
              "      <td>2531.939941</td>\n",
              "      <td>4213410000</td>\n",
              "      <td>2531.939941</td>\n",
              "      <td>0.033196</td>\n",
              "      <td>0.034336</td>\n",
              "      <td>0.033759</td>\n",
              "    </tr>\n",
              "    <tr>\n",
              "      <th>2019-01-07</th>\n",
              "      <td>2019-01-07</td>\n",
              "      <td>2566.159912</td>\n",
              "      <td>2524.560059</td>\n",
              "      <td>2535.610107</td>\n",
              "      <td>2549.689941</td>\n",
              "      <td>4104710000</td>\n",
              "      <td>2549.689941</td>\n",
              "      <td>0.006962</td>\n",
              "      <td>0.007010</td>\n",
              "      <td>0.006986</td>\n",
              "    </tr>\n",
              "    <tr>\n",
              "      <th>2019-01-08</th>\n",
              "      <td>2019-01-08</td>\n",
              "      <td>2579.820068</td>\n",
              "      <td>2547.560059</td>\n",
              "      <td>2568.110107</td>\n",
              "      <td>2574.409912</td>\n",
              "      <td>4083030000</td>\n",
              "      <td>2574.409912</td>\n",
              "      <td>0.009602</td>\n",
              "      <td>0.009695</td>\n",
              "      <td>0.009649</td>\n",
              "    </tr>\n",
              "    <tr>\n",
              "      <th>...</th>\n",
              "      <td>...</td>\n",
              "      <td>...</td>\n",
              "      <td>...</td>\n",
              "      <td>...</td>\n",
              "      <td>...</td>\n",
              "      <td>...</td>\n",
              "      <td>...</td>\n",
              "      <td>...</td>\n",
              "      <td>...</td>\n",
              "      <td>...</td>\n",
              "    </tr>\n",
              "    <tr>\n",
              "      <th>2020-12-24</th>\n",
              "      <td>2020-12-24</td>\n",
              "      <td>3703.820068</td>\n",
              "      <td>3689.320068</td>\n",
              "      <td>3694.030029</td>\n",
              "      <td>3703.060059</td>\n",
              "      <td>1885090000</td>\n",
              "      <td>3703.060059</td>\n",
              "      <td>0.003524</td>\n",
              "      <td>0.003537</td>\n",
              "      <td>0.003530</td>\n",
              "    </tr>\n",
              "    <tr>\n",
              "      <th>2020-12-28</th>\n",
              "      <td>2020-12-28</td>\n",
              "      <td>3740.510010</td>\n",
              "      <td>3723.030029</td>\n",
              "      <td>3723.030029</td>\n",
              "      <td>3735.360107</td>\n",
              "      <td>3527460000</td>\n",
              "      <td>3735.360107</td>\n",
              "      <td>0.008647</td>\n",
              "      <td>0.008723</td>\n",
              "      <td>0.008685</td>\n",
              "    </tr>\n",
              "    <tr>\n",
              "      <th>2020-12-29</th>\n",
              "      <td>2020-12-29</td>\n",
              "      <td>3756.120117</td>\n",
              "      <td>3723.310059</td>\n",
              "      <td>3750.010010</td>\n",
              "      <td>3727.040039</td>\n",
              "      <td>3387030000</td>\n",
              "      <td>3727.040039</td>\n",
              "      <td>-0.002232</td>\n",
              "      <td>-0.002227</td>\n",
              "      <td>-0.002230</td>\n",
              "    </tr>\n",
              "    <tr>\n",
              "      <th>2020-12-30</th>\n",
              "      <td>2020-12-30</td>\n",
              "      <td>3744.629883</td>\n",
              "      <td>3730.209961</td>\n",
              "      <td>3736.189941</td>\n",
              "      <td>3732.040039</td>\n",
              "      <td>3145200000</td>\n",
              "      <td>3732.040039</td>\n",
              "      <td>0.001340</td>\n",
              "      <td>0.001342</td>\n",
              "      <td>0.001341</td>\n",
              "    </tr>\n",
              "    <tr>\n",
              "      <th>2020-12-31</th>\n",
              "      <td>2020-12-31</td>\n",
              "      <td>3760.199951</td>\n",
              "      <td>3726.879883</td>\n",
              "      <td>3733.270020</td>\n",
              "      <td>3756.070068</td>\n",
              "      <td>3172510000</td>\n",
              "      <td>3756.070068</td>\n",
              "      <td>0.006398</td>\n",
              "      <td>0.006439</td>\n",
              "      <td>0.006418</td>\n",
              "    </tr>\n",
              "  </tbody>\n",
              "</table>\n",
              "<p>505 rows × 10 columns</p>\n",
              "</div>"
            ],
            "text/plain": [
              "                  Date         High  ...       ret  log_returns\n",
              "2019-01-02  2019-01-02  2519.489990  ...       NaN          NaN\n",
              "2019-01-03  2019-01-03  2493.139893  ... -0.024757    -0.025068\n",
              "2019-01-04  2019-01-04  2538.070068  ...  0.034336     0.033759\n",
              "2019-01-07  2019-01-07  2566.159912  ...  0.007010     0.006986\n",
              "2019-01-08  2019-01-08  2579.820068  ...  0.009695     0.009649\n",
              "...                ...          ...  ...       ...          ...\n",
              "2020-12-24  2020-12-24  3703.820068  ...  0.003537     0.003530\n",
              "2020-12-28  2020-12-28  3740.510010  ...  0.008723     0.008685\n",
              "2020-12-29  2020-12-29  3756.120117  ... -0.002227    -0.002230\n",
              "2020-12-30  2020-12-30  3744.629883  ...  0.001342     0.001341\n",
              "2020-12-31  2020-12-31  3760.199951  ...  0.006439     0.006418\n",
              "\n",
              "[505 rows x 10 columns]"
            ]
          },
          "metadata": {
            "tags": []
          },
          "execution_count": 63
        }
      ]
    },
    {
      "cell_type": "code",
      "metadata": {
        "colab": {
          "base_uri": "https://localhost:8080/",
          "height": 323
        },
        "id": "Iqq022tEXR4B",
        "outputId": "83cde040-2ede-4596-f92e-c825f7e5cb97"
      },
      "source": [
        "#Plot the log-return on a chart\r\n",
        "plt.figure(figsize=(12.2,4.5))\r\n",
        "plt.plot(df2['log_returns'], color = 'red')\r\n",
        "plt.title('Retornos del S&P 500')\r\n",
        "plt.xlabel('Date')\r\n",
        "plt.show()"
      ],
      "execution_count": 64,
      "outputs": [
        {
          "output_type": "display_data",
          "data": {
            "image/png": "[encoded data removed]",
            "text/plain": [
              "<Figure size 878.4x324 with 1 Axes>"
            ]
          },
          "metadata": {
            "tags": [],
            "needs_background": "light"
          }
        }
      ]
    },
    {
      "cell_type": "code",
      "metadata": {
        "colab": {
          "base_uri": "https://localhost:8080/"
        },
        "id": "NOvOgJ2cXi0Z",
        "outputId": "64e890d3-b0b8-48c2-d7c8-9acf03e45a7d"
      },
      "source": [
        "#Volatilidad\r\n",
        "import math\r\n",
        "vol_d = np.std(df2['log_returns'])\r\n",
        "vol_a = vol_d * math.sqrt(252)\r\n",
        "vol_a"
      ],
      "execution_count": 69,
      "outputs": [
        {
          "output_type": "execute_result",
          "data": {
            "text/plain": [
              "0.26065058717874734"
            ]
          },
          "metadata": {
            "tags": []
          },
          "execution_count": 69
        }
      ]
    },
    {
      "cell_type": "markdown",
      "metadata": {
        "id": "RAfDNc4ZF-XB"
      },
      "source": [
        ""
      ]
    }
  ]
}