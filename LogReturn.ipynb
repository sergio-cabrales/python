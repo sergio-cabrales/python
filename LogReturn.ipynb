{
  "nbformat": 4,
  "nbformat_minor": 0,
  "metadata": {
    "colab": {
      "name": "LogReturn.ipynb",
      "provenance": [],
      "authorship_tag": "ABX9TyMLxFwvr78xhlV7+DjsZNDg",
      "include_colab_link": true
    },
    "kernelspec": {
      "name": "python3",
      "display_name": "Python 3"
    }
  },
  "cells": [
    {
      "cell_type": "markdown",
      "metadata": {
        "id": "view-in-github",
        "colab_type": "text"
      },
      "source": [
        "<a href=\"https://colab.research.google.com/github/sergio-cabrales/python/blob/main/LogReturn.ipynb\" target=\"_parent\"><img src=\"https://colab.research.google.com/assets/colab-badge.svg\" alt=\"Open In Colab\"/></a>"
      ]
    },
    {
      "cell_type": "code",
      "metadata": {
        "id": "loGgWlmlMOYP"
      },
      "source": [
        "#import libraries\r\n",
        "import pandas as pd\r\n",
        "import numpy as np\r\n",
        "import datetime\r\n",
        "import pandas_datareader as web\r\n",
        "import pandas_datareader as pdr\r\n",
        "import matplotlib.pyplot as plt"
      ],
      "execution_count": 1,
      "outputs": []
    },
    {
      "cell_type": "code",
      "metadata": {
        "colab": {
          "base_uri": "https://localhost:8080/",
          "height": 450
        },
        "id": "CKfqqOPNMRNV",
        "outputId": "c108ffe5-1d39-41d2-b9b8-289fba665f38"
      },
      "source": [
        "# Get the stock quote\r\n",
        "df = web.DataReader('AAPL', data_source='yahoo',start='2000-11-01', end='2021-03-08')\r\n",
        "df"
      ],
      "execution_count": 10,
      "outputs": [
        {
          "output_type": "execute_result",
          "data": {
            "text/html": [
              "<div>\n",
              "<style scoped>\n",
              "    .dataframe tbody tr th:only-of-type {\n",
              "        vertical-align: middle;\n",
              "    }\n",
              "\n",
              "    .dataframe tbody tr th {\n",
              "        vertical-align: top;\n",
              "    }\n",
              "\n",
              "    .dataframe thead th {\n",
              "        text-align: right;\n",
              "    }\n",
              "</style>\n",
              "<table border=\"1\" class=\"dataframe\">\n",
              "  <thead>\n",
              "    <tr style=\"text-align: right;\">\n",
              "      <th></th>\n",
              "      <th>High</th>\n",
              "      <th>Low</th>\n",
              "      <th>Open</th>\n",
              "      <th>Close</th>\n",
              "      <th>Volume</th>\n",
              "      <th>Adj Close</th>\n",
              "    </tr>\n",
              "    <tr>\n",
              "      <th>Date</th>\n",
              "      <th></th>\n",
              "      <th></th>\n",
              "      <th></th>\n",
              "      <th></th>\n",
              "      <th></th>\n",
              "      <th></th>\n",
              "    </tr>\n",
              "  </thead>\n",
              "  <tbody>\n",
              "    <tr>\n",
              "      <th>2000-11-01</th>\n",
              "      <td>0.372768</td>\n",
              "      <td>0.347098</td>\n",
              "      <td>0.347098</td>\n",
              "      <td>0.366071</td>\n",
              "      <td>575366400.0</td>\n",
              "      <td>0.315320</td>\n",
              "    </tr>\n",
              "    <tr>\n",
              "      <th>2000-11-02</th>\n",
              "      <td>0.400670</td>\n",
              "      <td>0.376116</td>\n",
              "      <td>0.377232</td>\n",
              "      <td>0.398438</td>\n",
              "      <td>590693600.0</td>\n",
              "      <td>0.343200</td>\n",
              "    </tr>\n",
              "    <tr>\n",
              "      <th>2000-11-03</th>\n",
              "      <td>0.410714</td>\n",
              "      <td>0.391741</td>\n",
              "      <td>0.410714</td>\n",
              "      <td>0.397321</td>\n",
              "      <td>515821600.0</td>\n",
              "      <td>0.342238</td>\n",
              "    </tr>\n",
              "    <tr>\n",
              "      <th>2000-11-06</th>\n",
              "      <td>0.404018</td>\n",
              "      <td>0.372768</td>\n",
              "      <td>0.400670</td>\n",
              "      <td>0.382813</td>\n",
              "      <td>393478400.0</td>\n",
              "      <td>0.329741</td>\n",
              "    </tr>\n",
              "    <tr>\n",
              "      <th>2000-11-07</th>\n",
              "      <td>0.389509</td>\n",
              "      <td>0.371652</td>\n",
              "      <td>0.383929</td>\n",
              "      <td>0.380580</td>\n",
              "      <td>301963200.0</td>\n",
              "      <td>0.327818</td>\n",
              "    </tr>\n",
              "    <tr>\n",
              "      <th>...</th>\n",
              "      <td>...</td>\n",
              "      <td>...</td>\n",
              "      <td>...</td>\n",
              "      <td>...</td>\n",
              "      <td>...</td>\n",
              "      <td>...</td>\n",
              "    </tr>\n",
              "    <tr>\n",
              "      <th>2021-03-02</th>\n",
              "      <td>128.720001</td>\n",
              "      <td>125.010002</td>\n",
              "      <td>128.410004</td>\n",
              "      <td>125.120003</td>\n",
              "      <td>102015300.0</td>\n",
              "      <td>125.120003</td>\n",
              "    </tr>\n",
              "    <tr>\n",
              "      <th>2021-03-03</th>\n",
              "      <td>125.709999</td>\n",
              "      <td>121.839996</td>\n",
              "      <td>124.809998</td>\n",
              "      <td>122.059998</td>\n",
              "      <td>112430400.0</td>\n",
              "      <td>122.059998</td>\n",
              "    </tr>\n",
              "    <tr>\n",
              "      <th>2021-03-04</th>\n",
              "      <td>123.599998</td>\n",
              "      <td>118.620003</td>\n",
              "      <td>121.750000</td>\n",
              "      <td>120.129997</td>\n",
              "      <td>177275300.0</td>\n",
              "      <td>120.129997</td>\n",
              "    </tr>\n",
              "    <tr>\n",
              "      <th>2021-03-05</th>\n",
              "      <td>121.940002</td>\n",
              "      <td>117.570000</td>\n",
              "      <td>120.980003</td>\n",
              "      <td>121.419998</td>\n",
              "      <td>153590400.0</td>\n",
              "      <td>121.419998</td>\n",
              "    </tr>\n",
              "    <tr>\n",
              "      <th>2021-03-08</th>\n",
              "      <td>121.000000</td>\n",
              "      <td>116.209999</td>\n",
              "      <td>120.930000</td>\n",
              "      <td>116.360001</td>\n",
              "      <td>153918600.0</td>\n",
              "      <td>116.360001</td>\n",
              "    </tr>\n",
              "  </tbody>\n",
              "</table>\n",
              "<p>5117 rows × 6 columns</p>\n",
              "</div>"
            ],
            "text/plain": [
              "                  High         Low  ...       Volume   Adj Close\n",
              "Date                                ...                         \n",
              "2000-11-01    0.372768    0.347098  ...  575366400.0    0.315320\n",
              "2000-11-02    0.400670    0.376116  ...  590693600.0    0.343200\n",
              "2000-11-03    0.410714    0.391741  ...  515821600.0    0.342238\n",
              "2000-11-06    0.404018    0.372768  ...  393478400.0    0.329741\n",
              "2000-11-07    0.389509    0.371652  ...  301963200.0    0.327818\n",
              "...                ...         ...  ...          ...         ...\n",
              "2021-03-02  128.720001  125.010002  ...  102015300.0  125.120003\n",
              "2021-03-03  125.709999  121.839996  ...  112430400.0  122.059998\n",
              "2021-03-04  123.599998  118.620003  ...  177275300.0  120.129997\n",
              "2021-03-05  121.940002  117.570000  ...  153590400.0  121.419998\n",
              "2021-03-08  121.000000  116.209999  ...  153918600.0  116.360001\n",
              "\n",
              "[5117 rows x 6 columns]"
            ]
          },
          "metadata": {
            "tags": []
          },
          "execution_count": 10
        }
      ]
    },
    {
      "cell_type": "code",
      "metadata": {
        "colab": {
          "base_uri": "https://localhost:8080/",
          "height": 450
        },
        "id": "BjJN6nNtMTpv",
        "outputId": "20e9e2ef-4374-426b-c715-354b967f4875"
      },
      "source": [
        "#log daily return\r\n",
        "df['LogReturn'] = np.log(df['Adj Close']).shift(+1) - np.log(df['Adj Close'])\r\n",
        "df"
      ],
      "execution_count": 12,
      "outputs": [
        {
          "output_type": "execute_result",
          "data": {
            "text/html": [
              "<div>\n",
              "<style scoped>\n",
              "    .dataframe tbody tr th:only-of-type {\n",
              "        vertical-align: middle;\n",
              "    }\n",
              "\n",
              "    .dataframe tbody tr th {\n",
              "        vertical-align: top;\n",
              "    }\n",
              "\n",
              "    .dataframe thead th {\n",
              "        text-align: right;\n",
              "    }\n",
              "</style>\n",
              "<table border=\"1\" class=\"dataframe\">\n",
              "  <thead>\n",
              "    <tr style=\"text-align: right;\">\n",
              "      <th></th>\n",
              "      <th>High</th>\n",
              "      <th>Low</th>\n",
              "      <th>Open</th>\n",
              "      <th>Close</th>\n",
              "      <th>Volume</th>\n",
              "      <th>Adj Close</th>\n",
              "      <th>LogReturn</th>\n",
              "    </tr>\n",
              "    <tr>\n",
              "      <th>Date</th>\n",
              "      <th></th>\n",
              "      <th></th>\n",
              "      <th></th>\n",
              "      <th></th>\n",
              "      <th></th>\n",
              "      <th></th>\n",
              "      <th></th>\n",
              "    </tr>\n",
              "  </thead>\n",
              "  <tbody>\n",
              "    <tr>\n",
              "      <th>2000-11-01</th>\n",
              "      <td>0.372768</td>\n",
              "      <td>0.347098</td>\n",
              "      <td>0.347098</td>\n",
              "      <td>0.366071</td>\n",
              "      <td>575366400.0</td>\n",
              "      <td>0.315320</td>\n",
              "      <td>NaN</td>\n",
              "    </tr>\n",
              "    <tr>\n",
              "      <th>2000-11-02</th>\n",
              "      <td>0.400670</td>\n",
              "      <td>0.376116</td>\n",
              "      <td>0.377232</td>\n",
              "      <td>0.398438</td>\n",
              "      <td>590693600.0</td>\n",
              "      <td>0.343200</td>\n",
              "      <td>-0.084725</td>\n",
              "    </tr>\n",
              "    <tr>\n",
              "      <th>2000-11-03</th>\n",
              "      <td>0.410714</td>\n",
              "      <td>0.391741</td>\n",
              "      <td>0.410714</td>\n",
              "      <td>0.397321</td>\n",
              "      <td>515821600.0</td>\n",
              "      <td>0.342238</td>\n",
              "      <td>0.002808</td>\n",
              "    </tr>\n",
              "    <tr>\n",
              "      <th>2000-11-06</th>\n",
              "      <td>0.404018</td>\n",
              "      <td>0.372768</td>\n",
              "      <td>0.400670</td>\n",
              "      <td>0.382813</td>\n",
              "      <td>393478400.0</td>\n",
              "      <td>0.329741</td>\n",
              "      <td>0.037198</td>\n",
              "    </tr>\n",
              "    <tr>\n",
              "      <th>2000-11-07</th>\n",
              "      <td>0.389509</td>\n",
              "      <td>0.371652</td>\n",
              "      <td>0.383929</td>\n",
              "      <td>0.380580</td>\n",
              "      <td>301963200.0</td>\n",
              "      <td>0.327818</td>\n",
              "      <td>0.005850</td>\n",
              "    </tr>\n",
              "    <tr>\n",
              "      <th>...</th>\n",
              "      <td>...</td>\n",
              "      <td>...</td>\n",
              "      <td>...</td>\n",
              "      <td>...</td>\n",
              "      <td>...</td>\n",
              "      <td>...</td>\n",
              "      <td>...</td>\n",
              "    </tr>\n",
              "    <tr>\n",
              "      <th>2021-03-02</th>\n",
              "      <td>128.720001</td>\n",
              "      <td>125.010002</td>\n",
              "      <td>128.410004</td>\n",
              "      <td>125.120003</td>\n",
              "      <td>102015300.0</td>\n",
              "      <td>125.120003</td>\n",
              "      <td>0.021115</td>\n",
              "    </tr>\n",
              "    <tr>\n",
              "      <th>2021-03-03</th>\n",
              "      <td>125.709999</td>\n",
              "      <td>121.839996</td>\n",
              "      <td>124.809998</td>\n",
              "      <td>122.059998</td>\n",
              "      <td>112430400.0</td>\n",
              "      <td>122.059998</td>\n",
              "      <td>0.024761</td>\n",
              "    </tr>\n",
              "    <tr>\n",
              "      <th>2021-03-04</th>\n",
              "      <td>123.599998</td>\n",
              "      <td>118.620003</td>\n",
              "      <td>121.750000</td>\n",
              "      <td>120.129997</td>\n",
              "      <td>177275300.0</td>\n",
              "      <td>120.129997</td>\n",
              "      <td>0.015938</td>\n",
              "    </tr>\n",
              "    <tr>\n",
              "      <th>2021-03-05</th>\n",
              "      <td>121.940002</td>\n",
              "      <td>117.570000</td>\n",
              "      <td>120.980003</td>\n",
              "      <td>121.419998</td>\n",
              "      <td>153590400.0</td>\n",
              "      <td>121.419998</td>\n",
              "      <td>-0.010681</td>\n",
              "    </tr>\n",
              "    <tr>\n",
              "      <th>2021-03-08</th>\n",
              "      <td>121.000000</td>\n",
              "      <td>116.209999</td>\n",
              "      <td>120.930000</td>\n",
              "      <td>116.360001</td>\n",
              "      <td>153918600.0</td>\n",
              "      <td>116.360001</td>\n",
              "      <td>0.042567</td>\n",
              "    </tr>\n",
              "  </tbody>\n",
              "</table>\n",
              "<p>5117 rows × 7 columns</p>\n",
              "</div>"
            ],
            "text/plain": [
              "                  High         Low  ...   Adj Close  LogReturn\n",
              "Date                                ...                       \n",
              "2000-11-01    0.372768    0.347098  ...    0.315320        NaN\n",
              "2000-11-02    0.400670    0.376116  ...    0.343200  -0.084725\n",
              "2000-11-03    0.410714    0.391741  ...    0.342238   0.002808\n",
              "2000-11-06    0.404018    0.372768  ...    0.329741   0.037198\n",
              "2000-11-07    0.389509    0.371652  ...    0.327818   0.005850\n",
              "...                ...         ...  ...         ...        ...\n",
              "2021-03-02  128.720001  125.010002  ...  125.120003   0.021115\n",
              "2021-03-03  125.709999  121.839996  ...  122.059998   0.024761\n",
              "2021-03-04  123.599998  118.620003  ...  120.129997   0.015938\n",
              "2021-03-05  121.940002  117.570000  ...  121.419998  -0.010681\n",
              "2021-03-08  121.000000  116.209999  ...  116.360001   0.042567\n",
              "\n",
              "[5117 rows x 7 columns]"
            ]
          },
          "metadata": {
            "tags": []
          },
          "execution_count": 12
        }
      ]
    },
    {
      "cell_type": "code",
      "metadata": {
        "colab": {
          "base_uri": "https://localhost:8080/",
          "height": 483
        },
        "id": "8OtVg_hhMe63",
        "outputId": "31da4eff-3582-4b95-aa6b-36ec071bf15e"
      },
      "source": [
        "# Plot a histogram to show the distribution of log return \r\n",
        "from scipy.stats import norm\r\n",
        "mu = df['LogReturn'].mean()\r\n",
        "sigma = df['LogReturn'].std(ddof=1)\r\n",
        "\r\n",
        "density = pd.DataFrame()\r\n",
        "density['x'] = np.arange(df['LogReturn'].min()-0.01, df['LogReturn'].max()+0.01, 0.001)\r\n",
        "density['pdf'] = norm.pdf(density['x'], mu, sigma)\r\n",
        "\r\n",
        "df['LogReturn'].hist(bins=50, figsize=(15, 8))\r\n",
        "plt.plot(density['x'], density['pdf'], color='red')\r\n",
        "plt.show()"
      ],
      "execution_count": 13,
      "outputs": [
        {
          "output_type": "display_data",
          "data": {
            "image/png": "[encoded data removed]",
            "text/plain": [
              "<Figure size 1080x576 with 1 Axes>"
            ]
          },
          "metadata": {
            "tags": [],
            "needs_background": "light"
          }
        }
      ]
    },
    {
      "cell_type": "code",
      "metadata": {
        "colab": {
          "base_uri": "https://localhost:8080/"
        },
        "id": "zTLXI8cINYZN",
        "outputId": "7ec4b6e1-9bb5-4fda-9bfd-e93ee7953ee5"
      },
      "source": [
        "# probability that the stock price will drop over 5% in a day\r\n",
        "prob_return1 = norm.cdf(-0.05, mu, sigma)\r\n",
        "print('The Probability is ', prob_return1)"
      ],
      "execution_count": 14,
      "outputs": [
        {
          "output_type": "stream",
          "text": [
            "The Probability is  0.018315870926034664\n"
          ],
          "name": "stdout"
        }
      ]
    },
    {
      "cell_type": "code",
      "metadata": {
        "colab": {
          "base_uri": "https://localhost:8080/"
        },
        "id": "ABuQqvWdNeNk",
        "outputId": "f2bf816a-5c3d-4d88-b797-205357e1345a"
      },
      "source": [
        "# Value at risk(VaR)\r\n",
        "VaR = norm.ppf(0.01, mu, sigma)\r\n",
        "print('Single day value at risk ', VaR)"
      ],
      "execution_count": 15,
      "outputs": [
        {
          "output_type": "stream",
          "text": [
            "Single day value at risk  -0.05552763771875806\n"
          ],
          "name": "stdout"
        }
      ]
    },
    {
      "cell_type": "code",
      "metadata": {
        "colab": {
          "base_uri": "https://localhost:8080/"
        },
        "id": "PPqlDi1HNzCr",
        "outputId": "919ce035-9f16-44f4-97ff-6ad655acfaaa"
      },
      "source": [
        "# Quatile \r\n",
        "# 5% quantile\r\n",
        "print('5% quantile ', norm.ppf(0.05, mu, sigma))\r\n",
        "# 95% quantile\r\n",
        "print('95% quantile ', norm.ppf(0.95, mu, sigma))"
      ],
      "execution_count": 16,
      "outputs": [
        {
          "output_type": "stream",
          "text": [
            "5% quantile  -0.03959949972531118\n",
            "95% quantile  0.03728876649557439\n"
          ],
          "name": "stdout"
        }
      ]
    }
  ]
}