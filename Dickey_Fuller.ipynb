{
  "nbformat": 4,
  "nbformat_minor": 0,
  "metadata": {
    "colab": {
      "name": "Dickey-Fuller.ipynb",
      "provenance": [],
      "authorship_tag": "ABX9TyMGReSCW4sv1axg0mbprGb2",
      "include_colab_link": true
    },
    "kernelspec": {
      "name": "python3",
      "display_name": "Python 3"
    },
    "language_info": {
      "name": "python"
    }
  },
  "cells": [
    {
      "cell_type": "markdown",
      "metadata": {
        "id": "view-in-github",
        "colab_type": "text"
      },
      "source": [
        "<a href=\"https://colab.research.google.com/github/sergio-cabrales/python/blob/main/Dickey_Fuller.ipynb\" target=\"_parent\"><img src=\"https://colab.research.google.com/assets/colab-badge.svg\" alt=\"Open In Colab\"/></a>"
      ]
    },
    {
      "cell_type": "code",
      "metadata": {
        "id": "Yvb0rRfxHw5f"
      },
      "source": [
        "# Import the Time Series library\n",
        "import statsmodels.tsa.stattools as ts\n",
        "\n",
        "# Import Datetime and the Pandas DataReader\n",
        "from datetime import datetime\n",
        "import pandas as pd\n",
        "import pandas_datareader as web\n",
        "\n",
        "# Download the Google OHLCV data from 1/1/2000 to 1/1/2013\n",
        "df = web.DataReader('^GSPC', data_source='yahoo',start='2019-01-01', end='2021-01-01')\n",
        "\n",
        "# Output the results of the Augmented Dickey-Fuller test for Google\n",
        "# with a lag order value of 1\n",
        "ts.adfuller(df['Adj Close'], 1)"
      ],
      "execution_count": null,
      "outputs": []
    }
  ]
}