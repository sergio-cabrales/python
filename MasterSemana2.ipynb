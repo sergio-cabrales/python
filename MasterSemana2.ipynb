{
  "nbformat": 4,
  "nbformat_minor": 0,
  "metadata": {
    "colab": {
      "name": "MasterSemana2.ipynb",
      "provenance": [],
      "collapsed_sections": [],
      "authorship_tag": "ABX9TyNLWOcNisXVuKbfkvFn2K1Y",
      "include_colab_link": true
    },
    "kernelspec": {
      "name": "python3",
      "display_name": "Python 3"
    }
  },
  "cells": [
    {
      "cell_type": "markdown",
      "metadata": {
        "id": "view-in-github",
        "colab_type": "text"
      },
      "source": [
        "<a href=\"https://colab.research.google.com/github/sergio-cabrales/python/blob/main/MasterSemana2.ipynb\" target=\"_parent\"><img src=\"https://colab.research.google.com/assets/colab-badge.svg\" alt=\"Open In Colab\"/></a>"
      ]
    },
    {
      "cell_type": "code",
      "metadata": {
        "id": "tIMYQSpsf1KQ"
      },
      "source": [
        "import math\n",
        "import pandas_datareader as web\n",
        "import numpy as np\n",
        "import pandas as pd\n",
        "from sklearn.preprocessing import MinMaxScaler\n",
        "from keras.models import Sequential\n",
        "from keras.layers import Dense, LSTM\n",
        "import matplotlib.pyplot as plt\n",
        "plt.style.use ('fivethirtyeight')"
      ],
      "execution_count": null,
      "outputs": []
    },
    {
      "cell_type": "code",
      "metadata": {
        "colab": {
          "base_uri": "https://localhost:8080/",
          "height": 450
        },
        "id": "6betP-OWm6ab",
        "outputId": "89894e5a-284a-4155-a714-dd716ec88acd"
      },
      "source": [
        "# Get the stock quote\n",
        "df = web.DataReader('AAPL', data_source='yahoo',start='2000-01-01', end='2021-02-01')\n",
        "df"
      ],
      "execution_count": null,
      "outputs": [
        {
          "output_type": "execute_result",
          "data": {
            "text/html": [
              "<div>\n",
              "<style scoped>\n",
              "    .dataframe tbody tr th:only-of-type {\n",
              "        vertical-align: middle;\n",
              "    }\n",
              "\n",
              "    .dataframe tbody tr th {\n",
              "        vertical-align: top;\n",
              "    }\n",
              "\n",
              "    .dataframe thead th {\n",
              "        text-align: right;\n",
              "    }\n",
              "</style>\n",
              "<table border=\"1\" class=\"dataframe\">\n",
              "  <thead>\n",
              "    <tr style=\"text-align: right;\">\n",
              "      <th></th>\n",
              "      <th>High</th>\n",
              "      <th>Low</th>\n",
              "      <th>Open</th>\n",
              "      <th>Close</th>\n",
              "      <th>Volume</th>\n",
              "      <th>Adj Close</th>\n",
              "    </tr>\n",
              "    <tr>\n",
              "      <th>Date</th>\n",
              "      <th></th>\n",
              "      <th></th>\n",
              "      <th></th>\n",
              "      <th></th>\n",
              "      <th></th>\n",
              "      <th></th>\n",
              "    </tr>\n",
              "  </thead>\n",
              "  <tbody>\n",
              "    <tr>\n",
              "      <th>2000-01-03</th>\n",
              "      <td>1.004464</td>\n",
              "      <td>0.907924</td>\n",
              "      <td>0.936384</td>\n",
              "      <td>0.999442</td>\n",
              "      <td>535796800.0</td>\n",
              "      <td>0.860883</td>\n",
              "    </tr>\n",
              "    <tr>\n",
              "      <th>2000-01-04</th>\n",
              "      <td>0.987723</td>\n",
              "      <td>0.903460</td>\n",
              "      <td>0.966518</td>\n",
              "      <td>0.915179</td>\n",
              "      <td>512377600.0</td>\n",
              "      <td>0.788302</td>\n",
              "    </tr>\n",
              "    <tr>\n",
              "      <th>2000-01-05</th>\n",
              "      <td>0.987165</td>\n",
              "      <td>0.919643</td>\n",
              "      <td>0.926339</td>\n",
              "      <td>0.928571</td>\n",
              "      <td>778321600.0</td>\n",
              "      <td>0.799837</td>\n",
              "    </tr>\n",
              "    <tr>\n",
              "      <th>2000-01-06</th>\n",
              "      <td>0.955357</td>\n",
              "      <td>0.848214</td>\n",
              "      <td>0.947545</td>\n",
              "      <td>0.848214</td>\n",
              "      <td>767972800.0</td>\n",
              "      <td>0.730621</td>\n",
              "    </tr>\n",
              "    <tr>\n",
              "      <th>2000-01-07</th>\n",
              "      <td>0.901786</td>\n",
              "      <td>0.852679</td>\n",
              "      <td>0.861607</td>\n",
              "      <td>0.888393</td>\n",
              "      <td>460734400.0</td>\n",
              "      <td>0.765229</td>\n",
              "    </tr>\n",
              "    <tr>\n",
              "      <th>...</th>\n",
              "      <td>...</td>\n",
              "      <td>...</td>\n",
              "      <td>...</td>\n",
              "      <td>...</td>\n",
              "      <td>...</td>\n",
              "      <td>...</td>\n",
              "    </tr>\n",
              "    <tr>\n",
              "      <th>2021-02-23</th>\n",
              "      <td>126.709999</td>\n",
              "      <td>118.389999</td>\n",
              "      <td>123.760002</td>\n",
              "      <td>125.860001</td>\n",
              "      <td>158273000.0</td>\n",
              "      <td>125.860001</td>\n",
              "    </tr>\n",
              "    <tr>\n",
              "      <th>2021-02-24</th>\n",
              "      <td>125.559998</td>\n",
              "      <td>122.230003</td>\n",
              "      <td>124.940002</td>\n",
              "      <td>125.349998</td>\n",
              "      <td>111039900.0</td>\n",
              "      <td>125.349998</td>\n",
              "    </tr>\n",
              "    <tr>\n",
              "      <th>2021-02-25</th>\n",
              "      <td>126.459999</td>\n",
              "      <td>120.540001</td>\n",
              "      <td>124.680000</td>\n",
              "      <td>120.989998</td>\n",
              "      <td>148199500.0</td>\n",
              "      <td>120.989998</td>\n",
              "    </tr>\n",
              "    <tr>\n",
              "      <th>2021-02-26</th>\n",
              "      <td>124.849998</td>\n",
              "      <td>121.199997</td>\n",
              "      <td>122.589996</td>\n",
              "      <td>121.260002</td>\n",
              "      <td>164320000.0</td>\n",
              "      <td>121.260002</td>\n",
              "    </tr>\n",
              "    <tr>\n",
              "      <th>2021-03-01</th>\n",
              "      <td>127.930000</td>\n",
              "      <td>122.790001</td>\n",
              "      <td>123.750000</td>\n",
              "      <td>127.790001</td>\n",
              "      <td>115998300.0</td>\n",
              "      <td>127.790001</td>\n",
              "    </tr>\n",
              "  </tbody>\n",
              "</table>\n",
              "<p>5323 rows × 6 columns</p>\n",
              "</div>"
            ],
            "text/plain": [
              "                  High         Low  ...       Volume   Adj Close\n",
              "Date                                ...                         \n",
              "2000-01-03    1.004464    0.907924  ...  535796800.0    0.860883\n",
              "2000-01-04    0.987723    0.903460  ...  512377600.0    0.788302\n",
              "2000-01-05    0.987165    0.919643  ...  778321600.0    0.799837\n",
              "2000-01-06    0.955357    0.848214  ...  767972800.0    0.730621\n",
              "2000-01-07    0.901786    0.852679  ...  460734400.0    0.765229\n",
              "...                ...         ...  ...          ...         ...\n",
              "2021-02-23  126.709999  118.389999  ...  158273000.0  125.860001\n",
              "2021-02-24  125.559998  122.230003  ...  111039900.0  125.349998\n",
              "2021-02-25  126.459999  120.540001  ...  148199500.0  120.989998\n",
              "2021-02-26  124.849998  121.199997  ...  164320000.0  121.260002\n",
              "2021-03-01  127.930000  122.790001  ...  115998300.0  127.790001\n",
              "\n",
              "[5323 rows x 6 columns]"
            ]
          },
          "metadata": {
            "tags": []
          },
          "execution_count": 97
        }
      ]
    },
    {
      "cell_type": "code",
      "metadata": {
        "colab": {
          "base_uri": "https://localhost:8080/",
          "height": 450
        },
        "id": "O1LCA0dy6uXF",
        "outputId": "fa72f75d-70d3-4f82-cead-77baf78fc29b"
      },
      "source": [
        "df['log_ret'] = np.log(df['Adj Close']) - np.log(df['Adj Close'].shift(1))\n",
        "df"
      ],
      "execution_count": null,
      "outputs": [
        {
          "output_type": "execute_result",
          "data": {
            "text/html": [
              "<div>\n",
              "<style scoped>\n",
              "    .dataframe tbody tr th:only-of-type {\n",
              "        vertical-align: middle;\n",
              "    }\n",
              "\n",
              "    .dataframe tbody tr th {\n",
              "        vertical-align: top;\n",
              "    }\n",
              "\n",
              "    .dataframe thead th {\n",
              "        text-align: right;\n",
              "    }\n",
              "</style>\n",
              "<table border=\"1\" class=\"dataframe\">\n",
              "  <thead>\n",
              "    <tr style=\"text-align: right;\">\n",
              "      <th></th>\n",
              "      <th>High</th>\n",
              "      <th>Low</th>\n",
              "      <th>Open</th>\n",
              "      <th>Close</th>\n",
              "      <th>Volume</th>\n",
              "      <th>Adj Close</th>\n",
              "      <th>log_ret</th>\n",
              "    </tr>\n",
              "    <tr>\n",
              "      <th>Date</th>\n",
              "      <th></th>\n",
              "      <th></th>\n",
              "      <th></th>\n",
              "      <th></th>\n",
              "      <th></th>\n",
              "      <th></th>\n",
              "      <th></th>\n",
              "    </tr>\n",
              "  </thead>\n",
              "  <tbody>\n",
              "    <tr>\n",
              "      <th>2000-01-03</th>\n",
              "      <td>1.004464</td>\n",
              "      <td>0.907924</td>\n",
              "      <td>0.936384</td>\n",
              "      <td>0.999442</td>\n",
              "      <td>535796800.0</td>\n",
              "      <td>0.860883</td>\n",
              "      <td>NaN</td>\n",
              "    </tr>\n",
              "    <tr>\n",
              "      <th>2000-01-04</th>\n",
              "      <td>0.987723</td>\n",
              "      <td>0.903460</td>\n",
              "      <td>0.966518</td>\n",
              "      <td>0.915179</td>\n",
              "      <td>512377600.0</td>\n",
              "      <td>0.788302</td>\n",
              "      <td>-0.088077</td>\n",
              "    </tr>\n",
              "    <tr>\n",
              "      <th>2000-01-05</th>\n",
              "      <td>0.987165</td>\n",
              "      <td>0.919643</td>\n",
              "      <td>0.926339</td>\n",
              "      <td>0.928571</td>\n",
              "      <td>778321600.0</td>\n",
              "      <td>0.799837</td>\n",
              "      <td>0.014527</td>\n",
              "    </tr>\n",
              "    <tr>\n",
              "      <th>2000-01-06</th>\n",
              "      <td>0.955357</td>\n",
              "      <td>0.848214</td>\n",
              "      <td>0.947545</td>\n",
              "      <td>0.848214</td>\n",
              "      <td>767972800.0</td>\n",
              "      <td>0.730621</td>\n",
              "      <td>-0.090514</td>\n",
              "    </tr>\n",
              "    <tr>\n",
              "      <th>2000-01-07</th>\n",
              "      <td>0.901786</td>\n",
              "      <td>0.852679</td>\n",
              "      <td>0.861607</td>\n",
              "      <td>0.888393</td>\n",
              "      <td>460734400.0</td>\n",
              "      <td>0.765229</td>\n",
              "      <td>0.046281</td>\n",
              "    </tr>\n",
              "    <tr>\n",
              "      <th>...</th>\n",
              "      <td>...</td>\n",
              "      <td>...</td>\n",
              "      <td>...</td>\n",
              "      <td>...</td>\n",
              "      <td>...</td>\n",
              "      <td>...</td>\n",
              "      <td>...</td>\n",
              "    </tr>\n",
              "    <tr>\n",
              "      <th>2021-02-23</th>\n",
              "      <td>126.709999</td>\n",
              "      <td>118.389999</td>\n",
              "      <td>123.760002</td>\n",
              "      <td>125.860001</td>\n",
              "      <td>158273000.0</td>\n",
              "      <td>125.860001</td>\n",
              "      <td>-0.001112</td>\n",
              "    </tr>\n",
              "    <tr>\n",
              "      <th>2021-02-24</th>\n",
              "      <td>125.559998</td>\n",
              "      <td>122.230003</td>\n",
              "      <td>124.940002</td>\n",
              "      <td>125.349998</td>\n",
              "      <td>111039900.0</td>\n",
              "      <td>125.349998</td>\n",
              "      <td>-0.004060</td>\n",
              "    </tr>\n",
              "    <tr>\n",
              "      <th>2021-02-25</th>\n",
              "      <td>126.459999</td>\n",
              "      <td>120.540001</td>\n",
              "      <td>124.680000</td>\n",
              "      <td>120.989998</td>\n",
              "      <td>148199500.0</td>\n",
              "      <td>120.989998</td>\n",
              "      <td>-0.035402</td>\n",
              "    </tr>\n",
              "    <tr>\n",
              "      <th>2021-02-26</th>\n",
              "      <td>124.849998</td>\n",
              "      <td>121.199997</td>\n",
              "      <td>122.589996</td>\n",
              "      <td>121.260002</td>\n",
              "      <td>164320000.0</td>\n",
              "      <td>121.260002</td>\n",
              "      <td>0.002229</td>\n",
              "    </tr>\n",
              "    <tr>\n",
              "      <th>2021-03-01</th>\n",
              "      <td>127.930000</td>\n",
              "      <td>122.790001</td>\n",
              "      <td>123.750000</td>\n",
              "      <td>127.790001</td>\n",
              "      <td>115998300.0</td>\n",
              "      <td>127.790001</td>\n",
              "      <td>0.052451</td>\n",
              "    </tr>\n",
              "  </tbody>\n",
              "</table>\n",
              "<p>5323 rows × 7 columns</p>\n",
              "</div>"
            ],
            "text/plain": [
              "                  High         Low  ...   Adj Close   log_ret\n",
              "Date                                ...                      \n",
              "2000-01-03    1.004464    0.907924  ...    0.860883       NaN\n",
              "2000-01-04    0.987723    0.903460  ...    0.788302 -0.088077\n",
              "2000-01-05    0.987165    0.919643  ...    0.799837  0.014527\n",
              "2000-01-06    0.955357    0.848214  ...    0.730621 -0.090514\n",
              "2000-01-07    0.901786    0.852679  ...    0.765229  0.046281\n",
              "...                ...         ...  ...         ...       ...\n",
              "2021-02-23  126.709999  118.389999  ...  125.860001 -0.001112\n",
              "2021-02-24  125.559998  122.230003  ...  125.349998 -0.004060\n",
              "2021-02-25  126.459999  120.540001  ...  120.989998 -0.035402\n",
              "2021-02-26  124.849998  121.199997  ...  121.260002  0.002229\n",
              "2021-03-01  127.930000  122.790001  ...  127.790001  0.052451\n",
              "\n",
              "[5323 rows x 7 columns]"
            ]
          },
          "metadata": {
            "tags": []
          },
          "execution_count": 98
        }
      ]
    },
    {
      "cell_type": "code",
      "metadata": {
        "colab": {
          "base_uri": "https://localhost:8080/"
        },
        "id": "6V8UCDz2oD91",
        "outputId": "303a7372-1192-492a-b1ed-a4fe02c7346a"
      },
      "source": [
        "# Num rows and colums\n",
        "df.shape"
      ],
      "execution_count": null,
      "outputs": [
        {
          "output_type": "execute_result",
          "data": {
            "text/plain": [
              "(5323, 7)"
            ]
          },
          "metadata": {
            "tags": []
          },
          "execution_count": 99
        }
      ]
    },
    {
      "cell_type": "code",
      "metadata": {
        "colab": {
          "base_uri": "https://localhost:8080/",
          "height": 558
        },
        "id": "XKcHOvfjoUgi",
        "outputId": "c581212a-2240-43c4-aaf8-6d3e84f2c5c2"
      },
      "source": [
        "plt.figure(figsize=(16,8))\n",
        "plt.title ('Adj CLose')\n",
        "plt.plot(df['Adj Close'])\n",
        "plt.xlabel('date')\n",
        "plt.ylabel('USD $')\n",
        "plt.show()"
      ],
      "execution_count": null,
      "outputs": [
        {
          "output_type": "display_data",
          "data": {
            "image/png": "[encoded data removed]",
            "text/plain": [
              "<Figure size 1152x576 with 1 Axes>"
            ]
          },
          "metadata": {
            "tags": []
          }
        }
      ]
    },
    {
      "cell_type": "code",
      "metadata": {
        "colab": {
          "base_uri": "https://localhost:8080/"
        },
        "id": "Eq7xOYujvQKv",
        "outputId": "a77feb17-c363-4007-b765-26b301d0a90e"
      },
      "source": [
        "# creat a new dataframe\n",
        "data = df.filter(['Adj Close'])\n",
        "# numpy array\n",
        "dataset = data.values\n",
        "\n",
        "training_len = math.ceil(len(dataset)*0.98)\n",
        "\n",
        "training_len"
      ],
      "execution_count": null,
      "outputs": [
        {
          "output_type": "execute_result",
          "data": {
            "text/plain": [
              "5217"
            ]
          },
          "metadata": {
            "tags": []
          },
          "execution_count": 101
        }
      ]
    },
    {
      "cell_type": "code",
      "metadata": {
        "colab": {
          "base_uri": "https://localhost:8080/"
        },
        "id": "3iUCIvdXwM7j",
        "outputId": "98f3404c-276c-4e71-e2ac-7f4af6c9388a"
      },
      "source": [
        "#Scale the data\n",
        "scaler = MinMaxScaler(feature_range=(0,1))\n",
        "scaled_data = scaler.fit_transform(dataset)\n",
        "\n",
        "scaled_data"
      ],
      "execution_count": null,
      "outputs": [
        {
          "output_type": "execute_result",
          "data": {
            "text/plain": [
              "array([[0.00461718],\n",
              "       [0.00410871],\n",
              "       [0.00418952],\n",
              "       ...,\n",
              "       [0.84618403],\n",
              "       [0.84807555],\n",
              "       [0.89382158]])"
            ]
          },
          "metadata": {
            "tags": []
          },
          "execution_count": 102
        }
      ]
    },
    {
      "cell_type": "code",
      "metadata": {
        "colab": {
          "base_uri": "https://localhost:8080/"
        },
        "id": "hbfdKUASwrjy",
        "outputId": "cbf2fdae-db62-45c0-dbe5-22470bb7a5d3"
      },
      "source": [
        "# Create trainig data set\n",
        "train_data = scaled_data[0:training_len, :]\n",
        "\n",
        "x_train = []\n",
        "y_train = []\n",
        "\n",
        "for i in range(20, len(train_data)):\n",
        "  x_train.append(train_data[i-20:i,0])\n",
        "  y_train.append(train_data[i,0])\n",
        "  if i <= 20:\n",
        "    print(x_train)\n",
        "    print(y_train)\n",
        "    print()"
      ],
      "execution_count": null,
      "outputs": [
        {
          "output_type": "stream",
          "text": [
            "[array([0.00461718, 0.00410871, 0.00418952, 0.00370462, 0.00394708,\n",
            "       0.00385279, 0.0035834 , 0.00328371, 0.00379891, 0.00399758,\n",
            "       0.00418616, 0.00432759, 0.00470137, 0.00458351, 0.00431075,\n",
            "       0.00463402, 0.00452289, 0.00451279, 0.00406157, 0.00417605])]\n",
            "[0.00398748335990166]\n",
            "\n"
          ],
          "name": "stdout"
        }
      ]
    },
    {
      "cell_type": "code",
      "metadata": {
        "id": "9ZH-INfV0hwk"
      },
      "source": [
        "# x_train and y_train to numpy arrays\n",
        "x_train, y_train = np.array(x_train), np.array(y_train)"
      ],
      "execution_count": null,
      "outputs": []
    },
    {
      "cell_type": "code",
      "metadata": {
        "colab": {
          "base_uri": "https://localhost:8080/"
        },
        "id": "CeS0YXil05K3",
        "outputId": "a50c15c9-3025-49aa-d2ac-714cdae6ebc8"
      },
      "source": [
        "# reshape tha data\n",
        "x_train = np.reshape(x_train, (x_train.shape[0], x_train.shape[1],1))\n",
        "x_train.shape"
      ],
      "execution_count": null,
      "outputs": [
        {
          "output_type": "execute_result",
          "data": {
            "text/plain": [
              "(5197, 20, 1)"
            ]
          },
          "metadata": {
            "tags": []
          },
          "execution_count": 105
        }
      ]
    },
    {
      "cell_type": "code",
      "metadata": {
        "id": "saJJ4NdC2CGz"
      },
      "source": [
        "# Build the LSTM model\n",
        "model = Sequential()\n",
        "model.add(LSTM(50, return_sequences=True, input_shape=(x_train.shape[1],1)))\n",
        "model.add(LSTM(50, return_sequences=False))\n",
        "model.add(Dense(50))\n",
        "model.add(Dense(1))\n"
      ],
      "execution_count": null,
      "outputs": []
    },
    {
      "cell_type": "code",
      "metadata": {
        "id": "vA5LJv6V31Rv"
      },
      "source": [
        "# Compile the model\n",
        "model.compile(optimizer='adam', loss='mean_squared_error')"
      ],
      "execution_count": null,
      "outputs": []
    },
    {
      "cell_type": "code",
      "metadata": {
        "colab": {
          "base_uri": "https://localhost:8080/"
        },
        "id": "TDJgM0Tc4H68",
        "outputId": "ce799844-cf4d-4b73-e767-6d32a332f633"
      },
      "source": [
        "# Trian the model\n",
        "model.fit(x_train, y_train, batch_size=1, epochs=1)"
      ],
      "execution_count": null,
      "outputs": [
        {
          "output_type": "stream",
          "text": [
            "5197/5197 [==============================] - 47s 9ms/step - loss: 8.1310e-04\n"
          ],
          "name": "stdout"
        },
        {
          "output_type": "execute_result",
          "data": {
            "text/plain": [
              "<tensorflow.python.keras.callbacks.History at 0x7f4915745650>"
            ]
          },
          "metadata": {
            "tags": []
          },
          "execution_count": 120
        }
      ]
    },
    {
      "cell_type": "code",
      "metadata": {
        "id": "wH8OXmb04jK9"
      },
      "source": [
        "# Create the tsting data set\n",
        "test_data = scaled_data[training_len - 20: , :]\n",
        "\n",
        "x_test =[]\n",
        "y_test = dataset[training_len:,:]\n",
        "for i in range(20, len(test_data)):\n",
        "  x_test.append(test_data[i-20:i, 0])"
      ],
      "execution_count": null,
      "outputs": []
    },
    {
      "cell_type": "code",
      "metadata": {
        "id": "edByZy4A5Own"
      },
      "source": [
        "# Convert the data to a numpy array\n",
        "x_test = np.array(x_test)"
      ],
      "execution_count": null,
      "outputs": []
    },
    {
      "cell_type": "code",
      "metadata": {
        "id": "M5GW6HbJ5YyS"
      },
      "source": [
        "# reshape the data\n",
        "x_test = np.reshape(x_test, (x_test.shape[0], x_test.shape[1],1))"
      ],
      "execution_count": null,
      "outputs": []
    },
    {
      "cell_type": "code",
      "metadata": {
        "id": "MUzBWAyy6XNf",
        "colab": {
          "base_uri": "https://localhost:8080/"
        },
        "outputId": "7abd7212-b19b-4647-bb02-c95bc09d5c80"
      },
      "source": [
        "#Get the model predicted price values\n",
        "predictions = model.predict(x_test)\n",
        "predictions = scaler.inverse_transform(predictions)"
      ],
      "execution_count": null,
      "outputs": [
        {
          "output_type": "stream",
          "text": [
            "WARNING:tensorflow:5 out of the last 14 calls to <function Model.make_predict_function.<locals>.predict_function at 0x7f491507b950> triggered tf.function retracing. Tracing is expensive and the excessive number of tracings could be due to (1) creating @tf.function repeatedly in a loop, (2) passing tensors with different shapes, (3) passing Python objects instead of tensors. For (1), please define your @tf.function outside of the loop. For (2), @tf.function has experimental_relax_shapes=True option that relaxes argument shapes that can avoid unnecessary retracing. For (3), please refer to https://www.tensorflow.org/guide/function#controlling_retracing and https://www.tensorflow.org/api_docs/python/tf/function for  more details.\n"
          ],
          "name": "stdout"
        }
      ]
    },
    {
      "cell_type": "code",
      "metadata": {
        "colab": {
          "base_uri": "https://localhost:8080/"
        },
        "id": "yD3jV8jQ6s5B",
        "outputId": "1bcb0515-a849-448f-c7e8-9fb9646eb6a0"
      },
      "source": [
        "# Get the roor mean squared error (RMSE)\n",
        "rmse = np.sqrt(np.mean((predictions - y_test)**2))\n",
        "rmse"
      ],
      "execution_count": null,
      "outputs": [
        {
          "output_type": "execute_result",
          "data": {
            "text/plain": [
              "3.57704064425365"
            ]
          },
          "metadata": {
            "tags": []
          },
          "execution_count": 125
        }
      ]
    },
    {
      "cell_type": "code",
      "metadata": {
        "colab": {
          "base_uri": "https://localhost:8080/",
          "height": 660
        },
        "id": "3b0mxXhm7VUw",
        "outputId": "1289b98c-3b2a-476c-d298-af9b4a36bcdb"
      },
      "source": [
        "# Plot the data\n",
        "train =data[:training_len]\n",
        "valid = data[training_len:]\n",
        "valid['Predictions'] = predictions\n",
        "\n",
        "# Visualize the data\n",
        "plt.figure(figsize=(16,8))\n",
        "plt.title('Model')\n",
        "plt.xlabel('Date')\n",
        "plt.ylabel('USD$')\n",
        "plt.plot(train['Adj Close'])\n",
        "plt.plot(valid[['Adj Close','Predictions']])\n",
        "plt.legend(['Train', 'Val','Predictions'], loc='lower right')\n",
        "plt.show()\n"
      ],
      "execution_count": null,
      "outputs": [
        {
          "output_type": "stream",
          "text": [
            "/usr/local/lib/python3.7/dist-packages/ipykernel_launcher.py:4: SettingWithCopyWarning: \n",
            "A value is trying to be set on a copy of a slice from a DataFrame.\n",
            "Try using .loc[row_indexer,col_indexer] = value instead\n",
            "\n",
            "See the caveats in the documentation: https://pandas.pydata.org/pandas-docs/stable/user_guide/indexing.html#returning-a-view-versus-a-copy\n",
            "  after removing the cwd from sys.path.\n"
          ],
          "name": "stderr"
        },
        {
          "output_type": "display_data",
          "data": {
            "image/png": "[encoded data removed]",
            "text/plain": [
              "<Figure size 1152x576 with 1 Axes>"
            ]
          },
          "metadata": {
            "tags": []
          }
        }
      ]
    },
    {
      "cell_type": "code",
      "metadata": {
        "colab": {
          "base_uri": "https://localhost:8080/",
          "height": 450
        },
        "id": "tEK082KF-G65",
        "outputId": "b38c40cb-9b95-4035-b168-6fcc4ff159dd"
      },
      "source": [
        "# Show prices\n",
        "valid"
      ],
      "execution_count": null,
      "outputs": [
        {
          "output_type": "execute_result",
          "data": {
            "text/html": [
              "<div>\n",
              "<style scoped>\n",
              "    .dataframe tbody tr th:only-of-type {\n",
              "        vertical-align: middle;\n",
              "    }\n",
              "\n",
              "    .dataframe tbody tr th {\n",
              "        vertical-align: top;\n",
              "    }\n",
              "\n",
              "    .dataframe thead th {\n",
              "        text-align: right;\n",
              "    }\n",
              "</style>\n",
              "<table border=\"1\" class=\"dataframe\">\n",
              "  <thead>\n",
              "    <tr style=\"text-align: right;\">\n",
              "      <th></th>\n",
              "      <th>Adj Close</th>\n",
              "      <th>Predictions</th>\n",
              "    </tr>\n",
              "    <tr>\n",
              "      <th>Date</th>\n",
              "      <th></th>\n",
              "      <th></th>\n",
              "    </tr>\n",
              "  </thead>\n",
              "  <tbody>\n",
              "    <tr>\n",
              "      <th>2020-09-28</th>\n",
              "      <td>114.590767</td>\n",
              "      <td>110.463852</td>\n",
              "    </tr>\n",
              "    <tr>\n",
              "      <th>2020-09-29</th>\n",
              "      <td>113.723564</td>\n",
              "      <td>111.451920</td>\n",
              "    </tr>\n",
              "    <tr>\n",
              "      <th>2020-09-30</th>\n",
              "      <td>115.438042</td>\n",
              "      <td>112.367325</td>\n",
              "    </tr>\n",
              "    <tr>\n",
              "      <th>2020-10-01</th>\n",
              "      <td>116.414894</td>\n",
              "      <td>113.392937</td>\n",
              "    </tr>\n",
              "    <tr>\n",
              "      <th>2020-10-02</th>\n",
              "      <td>112.657005</td>\n",
              "      <td>114.434143</td>\n",
              "    </tr>\n",
              "    <tr>\n",
              "      <th>...</th>\n",
              "      <td>...</td>\n",
              "      <td>...</td>\n",
              "    </tr>\n",
              "    <tr>\n",
              "      <th>2021-02-23</th>\n",
              "      <td>125.860001</td>\n",
              "      <td>130.677841</td>\n",
              "    </tr>\n",
              "    <tr>\n",
              "      <th>2021-02-24</th>\n",
              "      <td>125.349998</td>\n",
              "      <td>129.356384</td>\n",
              "    </tr>\n",
              "    <tr>\n",
              "      <th>2021-02-25</th>\n",
              "      <td>120.989998</td>\n",
              "      <td>128.219955</td>\n",
              "    </tr>\n",
              "    <tr>\n",
              "      <th>2021-02-26</th>\n",
              "      <td>121.260002</td>\n",
              "      <td>126.593552</td>\n",
              "    </tr>\n",
              "    <tr>\n",
              "      <th>2021-03-01</th>\n",
              "      <td>127.790001</td>\n",
              "      <td>125.167549</td>\n",
              "    </tr>\n",
              "  </tbody>\n",
              "</table>\n",
              "<p>106 rows × 2 columns</p>\n",
              "</div>"
            ],
            "text/plain": [
              "             Adj Close  Predictions\n",
              "Date                               \n",
              "2020-09-28  114.590767   110.463852\n",
              "2020-09-29  113.723564   111.451920\n",
              "2020-09-30  115.438042   112.367325\n",
              "2020-10-01  116.414894   113.392937\n",
              "2020-10-02  112.657005   114.434143\n",
              "...                ...          ...\n",
              "2021-02-23  125.860001   130.677841\n",
              "2021-02-24  125.349998   129.356384\n",
              "2021-02-25  120.989998   128.219955\n",
              "2021-02-26  121.260002   126.593552\n",
              "2021-03-01  127.790001   125.167549\n",
              "\n",
              "[106 rows x 2 columns]"
            ]
          },
          "metadata": {
            "tags": []
          },
          "execution_count": 127
        }
      ]
    },
    {
      "cell_type": "code",
      "metadata": {
        "colab": {
          "base_uri": "https://localhost:8080/"
        },
        "id": "PGFnwT6D8_zl",
        "outputId": "1d1c7789-e9a5-4248-91e1-63e9aa1e29a8"
      },
      "source": [
        "# Get the qoute\n",
        "apple_quote = web.DataReader('AAPL', data_source='yahoo', start='2020-01-01', end='2021-03-08')\n",
        "# new data frame\n",
        "new_df = apple_quote.filter(['Adj Close'])\n",
        "# last 60 days\n",
        "last_60_days = new_df[-20:].values\n",
        "\n",
        "last_60_days_scaled = scaler.transform(last_60_days)\n",
        "\n",
        "X_test = []\n",
        "X_test.append(last_60_days_scaled)\n",
        "X_test = np.array(X_test)\n",
        "X_test = np.reshape(X_test,(X_test.shape[0], X_test.shape[1],1))\n",
        "pred_price = model.predict(X_test)\n",
        "pred_price = scaler.inverse_transform(pred_price)\n",
        "print(pred_price)"
      ],
      "execution_count": null,
      "outputs": [
        {
          "output_type": "stream",
          "text": [
            "[[121.994606]]\n"
          ],
          "name": "stdout"
        }
      ]
    },
    {
      "cell_type": "code",
      "metadata": {
        "colab": {
          "base_uri": "https://localhost:8080/"
        },
        "id": "eCX6LK1JpYAO",
        "outputId": "28e51b8d-8af8-40c9-a5d8-b473bc395a18"
      },
      "source": [
        "pred_price"
      ],
      "execution_count": null,
      "outputs": [
        {
          "output_type": "execute_result",
          "data": {
            "text/plain": [
              "array([[121.994606]], dtype=float32)"
            ]
          },
          "metadata": {
            "tags": []
          },
          "execution_count": 156
        }
      ]
    },
    {
      "cell_type": "code",
      "metadata": {
        "colab": {
          "base_uri": "https://localhost:8080/"
        },
        "id": "z2Fse4D4BWcx",
        "outputId": "5e294593-b5ff-4b2e-97c1-cfa275d98df0"
      },
      "source": [
        "# Get the qoute\n",
        "apple_quote2 = web.DataReader('AAPL', data_source='yahoo', start='2021-03-09', end='2021-03-09')\n",
        "print(apple_quote2['Adj Close'])"
      ],
      "execution_count": null,
      "outputs": [
        {
          "output_type": "stream",
          "text": [
            "Date\n",
            "2021-03-09    121.089996\n",
            "Name: Adj Close, dtype: float64\n"
          ],
          "name": "stdout"
        }
      ]
    }
  ]
}